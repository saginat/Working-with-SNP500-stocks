{
  "cells": [
    {
      "cell_type": "markdown",
      "metadata": {
        "id": "C6a1VORHGqVa"
      },
      "source": [
        "# Part 1 Data Gathering\n"
      ]
    },
    {
      "cell_type": "code",
      "execution_count": null,
      "metadata": {
        "id": "SNSoN3_HMxfV",
        "colab": {
          "base_uri": "https://localhost:8080/"
        },
        "outputId": "6827c91a-5ca0-4921-dc66-2b1eae1f6e2e"
      },
      "outputs": [
        {
          "output_type": "stream",
          "name": "stdout",
          "text": [
            "Looking in indexes: https://pypi.org/simple, https://us-python.pkg.dev/colab-wheels/public/simple/\n",
            "Requirement already satisfied: beautifulsoup4 in /usr/local/lib/python3.8/dist-packages (4.11.2)\n",
            "Requirement already satisfied: soupsieve>1.2 in /usr/local/lib/python3.8/dist-packages (from beautifulsoup4) (2.4)\n",
            "Looking in indexes: https://pypi.org/simple, https://us-python.pkg.dev/colab-wheels/public/simple/\n",
            "Requirement already satisfied: yfinance in /usr/local/lib/python3.8/dist-packages (0.2.12)\n",
            "Requirement already satisfied: pandas>=1.3.0 in /usr/local/lib/python3.8/dist-packages (from yfinance) (1.3.5)\n",
            "Requirement already satisfied: multitasking>=0.0.7 in /usr/local/lib/python3.8/dist-packages (from yfinance) (0.0.11)\n",
            "Requirement already satisfied: beautifulsoup4>=4.11.1 in /usr/local/lib/python3.8/dist-packages (from yfinance) (4.11.2)\n",
            "Requirement already satisfied: requests>=2.26 in /usr/local/lib/python3.8/dist-packages (from yfinance) (2.28.2)\n",
            "Requirement already satisfied: appdirs>=1.4.4 in /usr/local/lib/python3.8/dist-packages (from yfinance) (1.4.4)\n",
            "Requirement already satisfied: html5lib>=1.1 in /usr/local/lib/python3.8/dist-packages (from yfinance) (1.1)\n",
            "Requirement already satisfied: lxml>=4.9.1 in /usr/local/lib/python3.8/dist-packages (from yfinance) (4.9.2)\n",
            "Requirement already satisfied: frozendict>=2.3.4 in /usr/local/lib/python3.8/dist-packages (from yfinance) (2.3.5)\n",
            "Requirement already satisfied: cryptography>=3.3.2 in /usr/local/lib/python3.8/dist-packages (from yfinance) (39.0.1)\n",
            "Requirement already satisfied: numpy>=1.16.5 in /usr/local/lib/python3.8/dist-packages (from yfinance) (1.21.6)\n",
            "Requirement already satisfied: pytz>=2022.5 in /usr/local/lib/python3.8/dist-packages (from yfinance) (2022.7.1)\n",
            "Requirement already satisfied: soupsieve>1.2 in /usr/local/lib/python3.8/dist-packages (from beautifulsoup4>=4.11.1->yfinance) (2.4)\n",
            "Requirement already satisfied: cffi>=1.12 in /usr/local/lib/python3.8/dist-packages (from cryptography>=3.3.2->yfinance) (1.15.1)\n",
            "Requirement already satisfied: webencodings in /usr/local/lib/python3.8/dist-packages (from html5lib>=1.1->yfinance) (0.5.1)\n",
            "Requirement already satisfied: six>=1.9 in /usr/local/lib/python3.8/dist-packages (from html5lib>=1.1->yfinance) (1.15.0)\n",
            "Requirement already satisfied: python-dateutil>=2.7.3 in /usr/local/lib/python3.8/dist-packages (from pandas>=1.3.0->yfinance) (2.8.2)\n",
            "Requirement already satisfied: idna<4,>=2.5 in /usr/local/lib/python3.8/dist-packages (from requests>=2.26->yfinance) (2.10)\n",
            "Requirement already satisfied: charset-normalizer<4,>=2 in /usr/local/lib/python3.8/dist-packages (from requests>=2.26->yfinance) (3.0.1)\n",
            "Requirement already satisfied: urllib3<1.27,>=1.21.1 in /usr/local/lib/python3.8/dist-packages (from requests>=2.26->yfinance) (1.24.3)\n",
            "Requirement already satisfied: certifi>=2017.4.17 in /usr/local/lib/python3.8/dist-packages (from requests>=2.26->yfinance) (2022.12.7)\n",
            "Requirement already satisfied: pycparser in /usr/local/lib/python3.8/dist-packages (from cffi>=1.12->cryptography>=3.3.2->yfinance) (2.21)\n",
            "(Reading database ... 128152 files and directories currently installed.)\n",
            "Preparing to unpack libta.deb ...\n",
            "Unpacking libta-lib0 (0.4.0-oneiric1) over (0.4.0-oneiric1) ...\n",
            "Preparing to unpack ta.deb ...\n",
            "Unpacking ta-lib0-dev (0.4.0-oneiric1) over (0.4.0-oneiric1) ...\n",
            "Setting up libta-lib0 (0.4.0-oneiric1) ...\n",
            "Setting up ta-lib0-dev (0.4.0-oneiric1) ...\n",
            "Processing triggers for man-db (2.9.1-1) ...\n",
            "Processing triggers for libc-bin (2.31-0ubuntu9.9) ...\n",
            "Looking in indexes: https://pypi.org/simple, https://us-python.pkg.dev/colab-wheels/public/simple/\n",
            "Requirement already satisfied: ta-lib in /usr/local/lib/python3.8/dist-packages (0.4.25)\n",
            "Requirement already satisfied: numpy in /usr/local/lib/python3.8/dist-packages (from ta-lib) (1.21.6)\n"
          ]
        }
      ],
      "source": [
        "# Install the required packages\n",
        "! pip install beautifulsoup4\n",
        "! pip install yfinance\n",
        "url = 'https://launchpad.net/~mario-mariomedina/+archive/ubuntu/talib/+files'\n",
        "ext = '0.4.0-oneiric1_amd64.deb -qO'\n",
        "!wget $url/libta-lib0_$ext libta.deb\n",
        "!wget $url/ta-lib0-dev_$ext ta.deb\n",
        "!dpkg -i libta.deb ta.deb\n",
        "!pip install ta-lib\n",
        "import talib"
      ]
    },
    {
      "cell_type": "code",
      "execution_count": null,
      "metadata": {
        "id": "8PGpNKUHNC7K"
      },
      "outputs": [],
      "source": [
        "from bs4 import BeautifulSoup as bs \n",
        "import requests\n",
        "import yfinance as yf\n",
        "import warnings\n",
        "warnings.simplefilter(action='ignore', category=FutureWarning)\n",
        "import pandas as pd\n",
        "from sklearn.metrics import confusion_matrix, ConfusionMatrixDisplay , classification_report\n",
        "import numpy as np\n",
        "import pandas_datareader as pdr\n",
        "import datetime as dt\n",
        "import matplotlib.pyplot as plt\n",
        "from sklearn.metrics import roc_curve, roc_auc_score\n",
        "import seaborn as sns"
      ]
    },
    {
      "cell_type": "code",
      "source": [],
      "metadata": {
        "id": "wnt9lPJF7A7Z"
      },
      "execution_count": null,
      "outputs": []
    },
    {
      "cell_type": "code",
      "source": [
        "#@title functions \n",
        "FEATURES_SIZE = 180 \n",
        "LABELLING_SIZE = 90\n",
        "\n",
        "def calculate_returns(x):\n",
        "  return 100*(x.iloc[-1]['Close'] - x.iloc[0]['Open'])/x.iloc[0]['Open']\n",
        "\n",
        "def get_features_labels_from_full_dataframe(df, start_train_features_day = 0, featutes_size=FEATURES_SIZE, labeling_size = LABELLING_SIZE):\n",
        "  end_train_features_day = start_train_features_day + featutes_size\n",
        "  start_train_labelling_day = end_train_features_day + 1 \n",
        "  end_train_labelling_day = start_train_labelling_day + labeling_size\n",
        "\n",
        "  print(f'start_date:{start_train_features_day} , end_ft_day: {end_train_features_day}\\\n",
        "        start_lbl_date:{start_train_labelling_day} , end_lbl_day: {end_train_labelling_day}')\n",
        "  \n",
        "  features_train_df = df[(df['t0'] >= start_train_features_day)&(df['t0'] < end_train_features_day)]\n",
        "  labelling_train_df = df[(df['t0'] >= start_train_labelling_day)&(df['t0'] < end_train_labelling_day)]\n",
        "  return features_train_df, labelling_train_df\n",
        "\n",
        "def add_label_to_labelling_df(labelling_train_df):\n",
        "  lbl_returns = labelling_train_df.groupby('stock').apply(lambda x: calculate_returns(x)).reset_index()\n",
        "  lbl_returns.columns = ['stock', 'pct_price_movement']\n",
        "  threshold = lbl_returns['pct_price_movement'].median()\n",
        "  lbl_returns['label'] = lbl_returns['pct_price_movement']>threshold\n",
        "  return lbl_returns.set_index('stock')\n",
        "\n",
        "def calculate_featurs(features_train_df):\n",
        "  features_df = features_train_df.copy()\n",
        "  features_df['month_index'] = (features_df['t0'] / 30).astype(int)\n",
        "  monthly_features_df = features_df.groupby(['stock','month_index']).apply(calculate_returns).reset_index()\n",
        "  worst_monthly_return = monthly_features_df.groupby('stock').min().reset_index()\n",
        "  best_monthly_return = monthly_features_df.groupby('stock').max().reset_index()\n",
        "  ft_df = best_monthly_return[['stock',0]]\n",
        "  ft_df['worst'] = worst_monthly_return[0]\n",
        "  ft_df.columns = ['stock', 'best_month', 'worst_month']\n",
        "  return ft_df.set_index('stock')\n",
        "\n",
        "\n",
        "def add_actual(test_df,all_labelling_test_df):\n",
        "  test_returns = all_labelling_test_df.groupby('stock').apply(lambda x:calculate_returns(x))\n",
        "  label_threshold = test_returns.median()\n",
        "  good_test = test_returns[test_returns > label_threshold].index\n",
        "  test_df.loc[test_df['stock'].isin(good_test),'actual_y'] = 1\n",
        "  test_df['actual_y'].fillna(0,inplace=True)\n",
        "  test_df['actual_y'].value_counts()\n",
        "  return test_df\n",
        "\n",
        "def Get_Monthly(all_features_test_df):\n",
        "  features_df2 = all_features_test_df.copy()\n",
        "  features_df2['month_index'] = (features_df2['t0'] / 30).astype(int)\n",
        "  return   features_df2.groupby(['stock','month_index']).apply(calculate_returns).reset_index() \n",
        "\n",
        "\n",
        "def Confusion_and_Report(df):\n",
        "  true_positive = len(df[(df['predicted_y'] == df['actual_y'])&(df['predicted_y']==True)])\n",
        "  true_negative = len(df[(df['predicted_y'] == df['actual_y'])&(df['predicted_y']==False)])\n",
        "  false_positive = len(df[(df['predicted_y'] != df['actual_y'])&(df['predicted_y']==True)])\n",
        "  false_negative = len(df[(df['predicted_y'] != df['actual_y'])&(df['predicted_y']==False)])\n",
        "  print(\n",
        "        f'''\n",
        "        Train results:\n",
        "          True positive: {true_positive},\n",
        "          True negative: {true_negative},\n",
        "          False positive: {false_positive},\n",
        "          False negative: {false_negative}\n",
        "\n",
        "          \n",
        "        ''')\n",
        "  matrix = confusion_matrix(df['actual_y'], df['predicted_y'])\n",
        "  disp = ConfusionMatrixDisplay(matrix, display_labels=[0,1])\n",
        "  disp.plot(cmap=plt.cm.Blues)\n",
        "\n",
        "  plt.show()\n",
        "\n",
        "  report = classification_report(df['actual_y'], df['predicted_y'])\n",
        "  print(report)\n",
        "\n",
        "def Get_ROC(df):\n",
        "  \n",
        "  fpr, tpr, thresholds = roc_curve(df['actual_y'], df['predicted_y'])\n",
        "  # Plot the ROC curve\n",
        "  print(roc_auc_score(df['actual_y'], df['predicted_y']))\n",
        "  plt.plot(fpr, tpr)\n",
        "  # Add the luck line\n",
        "  plt.plot([0, 1], [0, 1], linestyle='--')\n",
        "  plt.xlabel(\"False Positive Rate\")\n",
        "  plt.ylabel(\"True Positive Rate\")\n",
        "  plt.legend(['1st time period ','Random guess'])   \n",
        "  plt.title(\"ROC Curve\")\n",
        "  plt.show()"
      ],
      "metadata": {
        "id": "kPbeQcrp1tUT"
      },
      "execution_count": null,
      "outputs": []
    },
    {
      "cell_type": "markdown",
      "source": [
        "#download online"
      ],
      "metadata": {
        "id": "OpvPTU9292Ct"
      }
    },
    {
      "cell_type": "code",
      "execution_count": null,
      "metadata": {
        "id": "0PyPgkzHMvtI"
      },
      "outputs": [],
      "source": [
        "resp = requests.get('http://en.wikipedia.org/wiki/List_of_S%26P_500_companies')\n",
        "soup = bs(resp.text, 'lxml')\n",
        "table = soup.find('table', {'class': 'wikitable sortable'})"
      ]
    },
    {
      "cell_type": "code",
      "execution_count": null,
      "metadata": {
        "id": "K2R2bjdDNVZQ"
      },
      "outputs": [],
      "source": [
        "tickers = []\n",
        "for row in table.findAll('tr')[1:]:\n",
        "    ticker = row.findAll('td')[0].text\n",
        "    tickers.append(ticker)\n",
        "all_stocks = [x.replace('\\n','') for x in tickers] # remove the new line character"
      ]
    },
    {
      "cell_type": "code",
      "source": [
        "all_df = pd.DataFrame()\n",
        "start_date = '2018-07-01'\n",
        "end_date = '2022-09-01'\n",
        "fname_string = 'all_stocks_' + start_date + '_' + end_date + '.csv'\n",
        "\n",
        "\n",
        "for tkr in all_stocks:\n",
        "  single_stock_pd = yf.download(tickers=tkr, start=start_date, end=end_date,auto_adjust=True)\n",
        "  single_stock_pd['stock'] = tkr\n",
        "  all_df = all_df.append(single_stock_pd)\n",
        "\n",
        "\n",
        "all_df = (\n",
        "          all_df\n",
        "          .reset_index()\n",
        "          .assign(dt = lambda d:pd.to_datetime(d['Date']),\n",
        "                  t0 = lambda d:(d['dt'] - d['dt'].min()).dt.days.astype(float))\n",
        "          )\n",
        "\n",
        "all_df.to_csv(fname_string)"
      ],
      "metadata": {
        "colab": {
          "base_uri": "https://localhost:8080/"
        },
        "id": "PreMact-vISO",
        "outputId": "2c293dcc-523c-4e2a-97cd-4dda4e898c0f"
      },
      "execution_count": null,
      "outputs": [
        {
          "output_type": "stream",
          "name": "stdout",
          "text": [
            "[*********************100%***********************]  1 of 1 completed\n",
            "[*********************100%***********************]  1 of 1 completed\n",
            "[*********************100%***********************]  1 of 1 completed\n",
            "[*********************100%***********************]  1 of 1 completed\n",
            "[*********************100%***********************]  1 of 1 completed\n",
            "[*********************100%***********************]  1 of 1 completed\n",
            "[*********************100%***********************]  1 of 1 completed\n",
            "[*********************100%***********************]  1 of 1 completed\n",
            "[*********************100%***********************]  1 of 1 completed\n",
            "[*********************100%***********************]  1 of 1 completed\n",
            "[*********************100%***********************]  1 of 1 completed\n",
            "[*********************100%***********************]  1 of 1 completed\n",
            "[*********************100%***********************]  1 of 1 completed\n",
            "[*********************100%***********************]  1 of 1 completed\n",
            "[*********************100%***********************]  1 of 1 completed\n",
            "[*********************100%***********************]  1 of 1 completed\n",
            "[*********************100%***********************]  1 of 1 completed\n",
            "[*********************100%***********************]  1 of 1 completed\n",
            "[*********************100%***********************]  1 of 1 completed\n",
            "[*********************100%***********************]  1 of 1 completed\n",
            "[*********************100%***********************]  1 of 1 completed\n",
            "[*********************100%***********************]  1 of 1 completed\n",
            "[*********************100%***********************]  1 of 1 completed\n",
            "[*********************100%***********************]  1 of 1 completed\n",
            "[*********************100%***********************]  1 of 1 completed\n",
            "[*********************100%***********************]  1 of 1 completed\n",
            "[*********************100%***********************]  1 of 1 completed\n",
            "[*********************100%***********************]  1 of 1 completed\n",
            "[*********************100%***********************]  1 of 1 completed\n",
            "[*********************100%***********************]  1 of 1 completed\n",
            "[*********************100%***********************]  1 of 1 completed\n",
            "[*********************100%***********************]  1 of 1 completed\n",
            "[*********************100%***********************]  1 of 1 completed\n",
            "[*********************100%***********************]  1 of 1 completed\n",
            "[*********************100%***********************]  1 of 1 completed\n",
            "[*********************100%***********************]  1 of 1 completed\n",
            "[*********************100%***********************]  1 of 1 completed\n",
            "[*********************100%***********************]  1 of 1 completed\n",
            "[*********************100%***********************]  1 of 1 completed\n",
            "[*********************100%***********************]  1 of 1 completed\n",
            "[*********************100%***********************]  1 of 1 completed\n",
            "[*********************100%***********************]  1 of 1 completed\n",
            "[*********************100%***********************]  1 of 1 completed\n",
            "[*********************100%***********************]  1 of 1 completed\n",
            "[*********************100%***********************]  1 of 1 completed\n",
            "[*********************100%***********************]  1 of 1 completed\n",
            "[*********************100%***********************]  1 of 1 completed\n",
            "[*********************100%***********************]  1 of 1 completed\n",
            "[*********************100%***********************]  1 of 1 completed\n",
            "[*********************100%***********************]  1 of 1 completed\n",
            "[*********************100%***********************]  1 of 1 completed\n",
            "[*********************100%***********************]  1 of 1 completed\n",
            "[*********************100%***********************]  1 of 1 completed\n",
            "[*********************100%***********************]  1 of 1 completed\n",
            "[*********************100%***********************]  1 of 1 completed\n",
            "[*********************100%***********************]  1 of 1 completed\n",
            "[*********************100%***********************]  1 of 1 completed\n",
            "[*********************100%***********************]  1 of 1 completed\n",
            "[*********************100%***********************]  1 of 1 completed\n",
            "[*********************100%***********************]  1 of 1 completed\n",
            "[*********************100%***********************]  1 of 1 completed\n",
            "[*********************100%***********************]  1 of 1 completed\n",
            "[*********************100%***********************]  1 of 1 completed\n",
            "[*********************100%***********************]  1 of 1 completed\n",
            "[*********************100%***********************]  1 of 1 completed\n",
            "\n",
            "1 Failed download:\n",
            "- BRK.B: No timezone found, symbol may be delisted\n",
            "[*********************100%***********************]  1 of 1 completed\n",
            "[*********************100%***********************]  1 of 1 completed\n",
            "[*********************100%***********************]  1 of 1 completed\n",
            "[*********************100%***********************]  1 of 1 completed\n",
            "[*********************100%***********************]  1 of 1 completed\n",
            "[*********************100%***********************]  1 of 1 completed\n",
            "[*********************100%***********************]  1 of 1 completed\n",
            "[*********************100%***********************]  1 of 1 completed\n",
            "[*********************100%***********************]  1 of 1 completed\n",
            "[*********************100%***********************]  1 of 1 completed\n",
            "[*********************100%***********************]  1 of 1 completed\n",
            "[*********************100%***********************]  1 of 1 completed\n",
            "[*********************100%***********************]  1 of 1 completed\n",
            "[*********************100%***********************]  1 of 1 completed\n",
            "[*********************100%***********************]  1 of 1 completed\n",
            "[*********************100%***********************]  1 of 1 completed\n",
            "\n",
            "1 Failed download:\n",
            "- BF.B: No data found for this date range, symbol may be delisted\n",
            "[*********************100%***********************]  1 of 1 completed\n",
            "[*********************100%***********************]  1 of 1 completed\n",
            "[*********************100%***********************]  1 of 1 completed\n",
            "[*********************100%***********************]  1 of 1 completed\n",
            "[*********************100%***********************]  1 of 1 completed\n",
            "[*********************100%***********************]  1 of 1 completed\n",
            "[*********************100%***********************]  1 of 1 completed\n",
            "[*********************100%***********************]  1 of 1 completed\n",
            "[*********************100%***********************]  1 of 1 completed\n",
            "[*********************100%***********************]  1 of 1 completed\n",
            "[*********************100%***********************]  1 of 1 completed\n",
            "[*********************100%***********************]  1 of 1 completed\n",
            "[*********************100%***********************]  1 of 1 completed\n",
            "[*********************100%***********************]  1 of 1 completed\n",
            "[*********************100%***********************]  1 of 1 completed\n",
            "[*********************100%***********************]  1 of 1 completed\n",
            "[*********************100%***********************]  1 of 1 completed\n",
            "[*********************100%***********************]  1 of 1 completed\n",
            "[*********************100%***********************]  1 of 1 completed\n",
            "[*********************100%***********************]  1 of 1 completed\n",
            "[*********************100%***********************]  1 of 1 completed\n",
            "[*********************100%***********************]  1 of 1 completed\n",
            "[*********************100%***********************]  1 of 1 completed\n",
            "[*********************100%***********************]  1 of 1 completed\n",
            "[*********************100%***********************]  1 of 1 completed\n",
            "[*********************100%***********************]  1 of 1 completed\n",
            "[*********************100%***********************]  1 of 1 completed\n",
            "[*********************100%***********************]  1 of 1 completed\n",
            "[*********************100%***********************]  1 of 1 completed\n",
            "[*********************100%***********************]  1 of 1 completed\n",
            "[*********************100%***********************]  1 of 1 completed\n",
            "[*********************100%***********************]  1 of 1 completed\n",
            "[*********************100%***********************]  1 of 1 completed\n",
            "[*********************100%***********************]  1 of 1 completed\n",
            "[*********************100%***********************]  1 of 1 completed\n",
            "[*********************100%***********************]  1 of 1 completed\n",
            "[*********************100%***********************]  1 of 1 completed\n",
            "[*********************100%***********************]  1 of 1 completed\n",
            "[*********************100%***********************]  1 of 1 completed\n",
            "[*********************100%***********************]  1 of 1 completed\n",
            "[*********************100%***********************]  1 of 1 completed\n",
            "[*********************100%***********************]  1 of 1 completed\n",
            "[*********************100%***********************]  1 of 1 completed\n",
            "[*********************100%***********************]  1 of 1 completed\n",
            "[*********************100%***********************]  1 of 1 completed\n",
            "[*********************100%***********************]  1 of 1 completed\n",
            "[*********************100%***********************]  1 of 1 completed\n",
            "[*********************100%***********************]  1 of 1 completed\n",
            "[*********************100%***********************]  1 of 1 completed\n",
            "[*********************100%***********************]  1 of 1 completed\n",
            "[*********************100%***********************]  1 of 1 completed\n",
            "[*********************100%***********************]  1 of 1 completed\n",
            "[*********************100%***********************]  1 of 1 completed\n",
            "[*********************100%***********************]  1 of 1 completed\n",
            "[*********************100%***********************]  1 of 1 completed\n",
            "[*********************100%***********************]  1 of 1 completed\n",
            "[*********************100%***********************]  1 of 1 completed\n",
            "[*********************100%***********************]  1 of 1 completed\n",
            "[*********************100%***********************]  1 of 1 completed\n",
            "[*********************100%***********************]  1 of 1 completed\n",
            "[*********************100%***********************]  1 of 1 completed\n",
            "[*********************100%***********************]  1 of 1 completed\n",
            "[*********************100%***********************]  1 of 1 completed\n",
            "[*********************100%***********************]  1 of 1 completed\n",
            "[*********************100%***********************]  1 of 1 completed\n",
            "[*********************100%***********************]  1 of 1 completed\n",
            "[*********************100%***********************]  1 of 1 completed\n",
            "[*********************100%***********************]  1 of 1 completed\n",
            "[*********************100%***********************]  1 of 1 completed\n",
            "[*********************100%***********************]  1 of 1 completed\n",
            "[*********************100%***********************]  1 of 1 completed\n",
            "[*********************100%***********************]  1 of 1 completed\n",
            "[*********************100%***********************]  1 of 1 completed\n",
            "[*********************100%***********************]  1 of 1 completed\n",
            "[*********************100%***********************]  1 of 1 completed\n",
            "[*********************100%***********************]  1 of 1 completed\n",
            "[*********************100%***********************]  1 of 1 completed\n",
            "[*********************100%***********************]  1 of 1 completed\n",
            "[*********************100%***********************]  1 of 1 completed\n",
            "[*********************100%***********************]  1 of 1 completed\n",
            "[*********************100%***********************]  1 of 1 completed\n",
            "[*********************100%***********************]  1 of 1 completed\n",
            "[*********************100%***********************]  1 of 1 completed\n",
            "[*********************100%***********************]  1 of 1 completed\n",
            "[*********************100%***********************]  1 of 1 completed\n",
            "[*********************100%***********************]  1 of 1 completed\n",
            "[*********************100%***********************]  1 of 1 completed\n",
            "[*********************100%***********************]  1 of 1 completed\n",
            "[*********************100%***********************]  1 of 1 completed\n",
            "[*********************100%***********************]  1 of 1 completed\n",
            "[*********************100%***********************]  1 of 1 completed\n",
            "[*********************100%***********************]  1 of 1 completed\n",
            "[*********************100%***********************]  1 of 1 completed\n",
            "[*********************100%***********************]  1 of 1 completed\n",
            "[*********************100%***********************]  1 of 1 completed\n",
            "[*********************100%***********************]  1 of 1 completed\n",
            "[*********************100%***********************]  1 of 1 completed\n",
            "[*********************100%***********************]  1 of 1 completed\n",
            "[*********************100%***********************]  1 of 1 completed\n",
            "[*********************100%***********************]  1 of 1 completed\n",
            "[*********************100%***********************]  1 of 1 completed\n",
            "[*********************100%***********************]  1 of 1 completed\n",
            "[*********************100%***********************]  1 of 1 completed\n",
            "[*********************100%***********************]  1 of 1 completed\n",
            "[*********************100%***********************]  1 of 1 completed\n",
            "[*********************100%***********************]  1 of 1 completed\n",
            "[*********************100%***********************]  1 of 1 completed\n",
            "[*********************100%***********************]  1 of 1 completed\n",
            "[*********************100%***********************]  1 of 1 completed\n",
            "[*********************100%***********************]  1 of 1 completed\n",
            "[*********************100%***********************]  1 of 1 completed\n",
            "[*********************100%***********************]  1 of 1 completed\n",
            "[*********************100%***********************]  1 of 1 completed\n",
            "[*********************100%***********************]  1 of 1 completed\n",
            "[*********************100%***********************]  1 of 1 completed\n",
            "[*********************100%***********************]  1 of 1 completed\n",
            "[*********************100%***********************]  1 of 1 completed\n",
            "[*********************100%***********************]  1 of 1 completed\n",
            "[*********************100%***********************]  1 of 1 completed\n",
            "[*********************100%***********************]  1 of 1 completed\n",
            "[*********************100%***********************]  1 of 1 completed\n",
            "[*********************100%***********************]  1 of 1 completed\n",
            "[*********************100%***********************]  1 of 1 completed\n",
            "[*********************100%***********************]  1 of 1 completed\n",
            "[*********************100%***********************]  1 of 1 completed\n",
            "[*********************100%***********************]  1 of 1 completed\n",
            "[*********************100%***********************]  1 of 1 completed\n",
            "[*********************100%***********************]  1 of 1 completed\n",
            "[*********************100%***********************]  1 of 1 completed\n",
            "[*********************100%***********************]  1 of 1 completed\n",
            "[*********************100%***********************]  1 of 1 completed\n",
            "[*********************100%***********************]  1 of 1 completed\n",
            "[*********************100%***********************]  1 of 1 completed\n",
            "\n",
            "1 Failed download:\n",
            "- GEHC: Data doesn't exist for startDate = 1530417600, endDate = 1662004800\n",
            "[*********************100%***********************]  1 of 1 completed\n",
            "[*********************100%***********************]  1 of 1 completed\n",
            "[*********************100%***********************]  1 of 1 completed\n",
            "[*********************100%***********************]  1 of 1 completed\n",
            "[*********************100%***********************]  1 of 1 completed\n",
            "[*********************100%***********************]  1 of 1 completed\n",
            "[*********************100%***********************]  1 of 1 completed\n",
            "[*********************100%***********************]  1 of 1 completed\n",
            "[*********************100%***********************]  1 of 1 completed\n",
            "[*********************100%***********************]  1 of 1 completed\n",
            "[*********************100%***********************]  1 of 1 completed\n",
            "[*********************100%***********************]  1 of 1 completed\n",
            "[*********************100%***********************]  1 of 1 completed\n",
            "[*********************100%***********************]  1 of 1 completed\n",
            "[*********************100%***********************]  1 of 1 completed\n",
            "[*********************100%***********************]  1 of 1 completed\n",
            "[*********************100%***********************]  1 of 1 completed\n",
            "[*********************100%***********************]  1 of 1 completed\n",
            "[*********************100%***********************]  1 of 1 completed\n",
            "[*********************100%***********************]  1 of 1 completed\n",
            "[*********************100%***********************]  1 of 1 completed\n",
            "[*********************100%***********************]  1 of 1 completed\n",
            "[*********************100%***********************]  1 of 1 completed\n",
            "[*********************100%***********************]  1 of 1 completed\n",
            "[*********************100%***********************]  1 of 1 completed\n",
            "[*********************100%***********************]  1 of 1 completed\n",
            "[*********************100%***********************]  1 of 1 completed\n",
            "[*********************100%***********************]  1 of 1 completed\n",
            "[*********************100%***********************]  1 of 1 completed\n",
            "[*********************100%***********************]  1 of 1 completed\n",
            "[*********************100%***********************]  1 of 1 completed\n",
            "[*********************100%***********************]  1 of 1 completed\n",
            "[*********************100%***********************]  1 of 1 completed\n",
            "[*********************100%***********************]  1 of 1 completed\n",
            "[*********************100%***********************]  1 of 1 completed\n",
            "[*********************100%***********************]  1 of 1 completed\n",
            "[*********************100%***********************]  1 of 1 completed\n",
            "[*********************100%***********************]  1 of 1 completed\n",
            "[*********************100%***********************]  1 of 1 completed\n",
            "[*********************100%***********************]  1 of 1 completed\n",
            "[*********************100%***********************]  1 of 1 completed\n",
            "[*********************100%***********************]  1 of 1 completed\n",
            "[*********************100%***********************]  1 of 1 completed\n",
            "[*********************100%***********************]  1 of 1 completed\n",
            "[*********************100%***********************]  1 of 1 completed\n",
            "[*********************100%***********************]  1 of 1 completed\n",
            "[*********************100%***********************]  1 of 1 completed\n",
            "[*********************100%***********************]  1 of 1 completed\n",
            "[*********************100%***********************]  1 of 1 completed\n",
            "[*********************100%***********************]  1 of 1 completed\n",
            "[*********************100%***********************]  1 of 1 completed\n",
            "[*********************100%***********************]  1 of 1 completed\n",
            "[*********************100%***********************]  1 of 1 completed\n",
            "[*********************100%***********************]  1 of 1 completed\n",
            "[*********************100%***********************]  1 of 1 completed\n",
            "[*********************100%***********************]  1 of 1 completed\n",
            "[*********************100%***********************]  1 of 1 completed\n",
            "[*********************100%***********************]  1 of 1 completed\n",
            "[*********************100%***********************]  1 of 1 completed\n",
            "[*********************100%***********************]  1 of 1 completed\n",
            "[*********************100%***********************]  1 of 1 completed\n",
            "[*********************100%***********************]  1 of 1 completed\n",
            "[*********************100%***********************]  1 of 1 completed\n",
            "[*********************100%***********************]  1 of 1 completed\n",
            "[*********************100%***********************]  1 of 1 completed\n",
            "[*********************100%***********************]  1 of 1 completed\n",
            "[*********************100%***********************]  1 of 1 completed\n",
            "[*********************100%***********************]  1 of 1 completed\n",
            "[*********************100%***********************]  1 of 1 completed\n",
            "[*********************100%***********************]  1 of 1 completed\n",
            "[*********************100%***********************]  1 of 1 completed\n",
            "[*********************100%***********************]  1 of 1 completed\n",
            "[*********************100%***********************]  1 of 1 completed\n",
            "[*********************100%***********************]  1 of 1 completed\n",
            "[*********************100%***********************]  1 of 1 completed\n",
            "[*********************100%***********************]  1 of 1 completed\n",
            "[*********************100%***********************]  1 of 1 completed\n",
            "[*********************100%***********************]  1 of 1 completed\n",
            "[*********************100%***********************]  1 of 1 completed\n",
            "[*********************100%***********************]  1 of 1 completed\n",
            "[*********************100%***********************]  1 of 1 completed\n",
            "[*********************100%***********************]  1 of 1 completed\n",
            "[*********************100%***********************]  1 of 1 completed\n",
            "[*********************100%***********************]  1 of 1 completed\n",
            "[*********************100%***********************]  1 of 1 completed\n",
            "[*********************100%***********************]  1 of 1 completed\n",
            "[*********************100%***********************]  1 of 1 completed\n",
            "[*********************100%***********************]  1 of 1 completed\n",
            "[*********************100%***********************]  1 of 1 completed\n",
            "[*********************100%***********************]  1 of 1 completed\n",
            "[*********************100%***********************]  1 of 1 completed\n",
            "[*********************100%***********************]  1 of 1 completed\n",
            "[*********************100%***********************]  1 of 1 completed\n",
            "[*********************100%***********************]  1 of 1 completed\n",
            "[*********************100%***********************]  1 of 1 completed\n",
            "[*********************100%***********************]  1 of 1 completed\n",
            "[*********************100%***********************]  1 of 1 completed\n",
            "[*********************100%***********************]  1 of 1 completed\n",
            "[*********************100%***********************]  1 of 1 completed\n",
            "[*********************100%***********************]  1 of 1 completed\n",
            "[*********************100%***********************]  1 of 1 completed\n",
            "[*********************100%***********************]  1 of 1 completed\n",
            "[*********************100%***********************]  1 of 1 completed\n",
            "[*********************100%***********************]  1 of 1 completed\n",
            "[*********************100%***********************]  1 of 1 completed\n",
            "[*********************100%***********************]  1 of 1 completed\n",
            "[*********************100%***********************]  1 of 1 completed\n",
            "[*********************100%***********************]  1 of 1 completed\n",
            "[*********************100%***********************]  1 of 1 completed\n",
            "[*********************100%***********************]  1 of 1 completed\n",
            "[*********************100%***********************]  1 of 1 completed\n",
            "[*********************100%***********************]  1 of 1 completed\n",
            "[*********************100%***********************]  1 of 1 completed\n",
            "[*********************100%***********************]  1 of 1 completed\n",
            "[*********************100%***********************]  1 of 1 completed\n",
            "[*********************100%***********************]  1 of 1 completed\n",
            "[*********************100%***********************]  1 of 1 completed\n",
            "[*********************100%***********************]  1 of 1 completed\n",
            "[*********************100%***********************]  1 of 1 completed\n",
            "[*********************100%***********************]  1 of 1 completed\n",
            "[*********************100%***********************]  1 of 1 completed\n",
            "[*********************100%***********************]  1 of 1 completed\n",
            "[*********************100%***********************]  1 of 1 completed\n",
            "[*********************100%***********************]  1 of 1 completed\n",
            "[*********************100%***********************]  1 of 1 completed\n",
            "[*********************100%***********************]  1 of 1 completed\n",
            "[*********************100%***********************]  1 of 1 completed\n",
            "[*********************100%***********************]  1 of 1 completed\n",
            "[*********************100%***********************]  1 of 1 completed\n",
            "[*********************100%***********************]  1 of 1 completed\n",
            "[*********************100%***********************]  1 of 1 completed\n",
            "[*********************100%***********************]  1 of 1 completed\n",
            "[*********************100%***********************]  1 of 1 completed\n",
            "[*********************100%***********************]  1 of 1 completed\n",
            "[*********************100%***********************]  1 of 1 completed\n",
            "[*********************100%***********************]  1 of 1 completed\n",
            "[*********************100%***********************]  1 of 1 completed\n",
            "[*********************100%***********************]  1 of 1 completed\n",
            "[*********************100%***********************]  1 of 1 completed\n",
            "[*********************100%***********************]  1 of 1 completed\n",
            "[*********************100%***********************]  1 of 1 completed\n",
            "[*********************100%***********************]  1 of 1 completed\n",
            "[*********************100%***********************]  1 of 1 completed\n",
            "[*********************100%***********************]  1 of 1 completed\n",
            "[*********************100%***********************]  1 of 1 completed\n",
            "[*********************100%***********************]  1 of 1 completed\n",
            "[*********************100%***********************]  1 of 1 completed\n",
            "[*********************100%***********************]  1 of 1 completed\n",
            "[*********************100%***********************]  1 of 1 completed\n",
            "[*********************100%***********************]  1 of 1 completed\n",
            "[*********************100%***********************]  1 of 1 completed\n",
            "[*********************100%***********************]  1 of 1 completed\n",
            "[*********************100%***********************]  1 of 1 completed\n",
            "[*********************100%***********************]  1 of 1 completed\n",
            "[*********************100%***********************]  1 of 1 completed\n",
            "[*********************100%***********************]  1 of 1 completed\n",
            "[*********************100%***********************]  1 of 1 completed\n",
            "[*********************100%***********************]  1 of 1 completed\n",
            "[*********************100%***********************]  1 of 1 completed\n",
            "[*********************100%***********************]  1 of 1 completed\n",
            "[*********************100%***********************]  1 of 1 completed\n",
            "[*********************100%***********************]  1 of 1 completed\n",
            "[*********************100%***********************]  1 of 1 completed\n",
            "[*********************100%***********************]  1 of 1 completed\n",
            "[*********************100%***********************]  1 of 1 completed\n",
            "[*********************100%***********************]  1 of 1 completed\n",
            "[*********************100%***********************]  1 of 1 completed\n",
            "[*********************100%***********************]  1 of 1 completed\n",
            "[*********************100%***********************]  1 of 1 completed\n",
            "[*********************100%***********************]  1 of 1 completed\n",
            "[*********************100%***********************]  1 of 1 completed\n",
            "[*********************100%***********************]  1 of 1 completed\n",
            "[*********************100%***********************]  1 of 1 completed\n",
            "[*********************100%***********************]  1 of 1 completed\n",
            "[*********************100%***********************]  1 of 1 completed\n",
            "[*********************100%***********************]  1 of 1 completed\n",
            "[*********************100%***********************]  1 of 1 completed\n",
            "[*********************100%***********************]  1 of 1 completed\n",
            "[*********************100%***********************]  1 of 1 completed\n",
            "[*********************100%***********************]  1 of 1 completed\n",
            "[*********************100%***********************]  1 of 1 completed\n",
            "[*********************100%***********************]  1 of 1 completed\n",
            "[*********************100%***********************]  1 of 1 completed\n",
            "[*********************100%***********************]  1 of 1 completed\n",
            "[*********************100%***********************]  1 of 1 completed\n",
            "[*********************100%***********************]  1 of 1 completed\n",
            "[*********************100%***********************]  1 of 1 completed\n",
            "[*********************100%***********************]  1 of 1 completed\n",
            "[*********************100%***********************]  1 of 1 completed\n",
            "[*********************100%***********************]  1 of 1 completed\n",
            "[*********************100%***********************]  1 of 1 completed\n",
            "[*********************100%***********************]  1 of 1 completed\n",
            "[*********************100%***********************]  1 of 1 completed\n",
            "[*********************100%***********************]  1 of 1 completed\n",
            "[*********************100%***********************]  1 of 1 completed\n",
            "[*********************100%***********************]  1 of 1 completed\n",
            "[*********************100%***********************]  1 of 1 completed\n",
            "[*********************100%***********************]  1 of 1 completed\n",
            "[*********************100%***********************]  1 of 1 completed\n",
            "[*********************100%***********************]  1 of 1 completed\n",
            "[*********************100%***********************]  1 of 1 completed\n",
            "[*********************100%***********************]  1 of 1 completed\n",
            "[*********************100%***********************]  1 of 1 completed\n",
            "[*********************100%***********************]  1 of 1 completed\n",
            "[*********************100%***********************]  1 of 1 completed\n",
            "[*********************100%***********************]  1 of 1 completed\n",
            "[*********************100%***********************]  1 of 1 completed\n",
            "[*********************100%***********************]  1 of 1 completed\n",
            "[*********************100%***********************]  1 of 1 completed\n",
            "[*********************100%***********************]  1 of 1 completed\n",
            "[*********************100%***********************]  1 of 1 completed\n",
            "[*********************100%***********************]  1 of 1 completed\n",
            "[*********************100%***********************]  1 of 1 completed\n",
            "[*********************100%***********************]  1 of 1 completed\n",
            "[*********************100%***********************]  1 of 1 completed\n",
            "[*********************100%***********************]  1 of 1 completed\n",
            "[*********************100%***********************]  1 of 1 completed\n",
            "[*********************100%***********************]  1 of 1 completed\n",
            "[*********************100%***********************]  1 of 1 completed\n",
            "[*********************100%***********************]  1 of 1 completed\n",
            "[*********************100%***********************]  1 of 1 completed\n",
            "[*********************100%***********************]  1 of 1 completed\n",
            "[*********************100%***********************]  1 of 1 completed\n",
            "[*********************100%***********************]  1 of 1 completed\n",
            "[*********************100%***********************]  1 of 1 completed\n",
            "[*********************100%***********************]  1 of 1 completed\n",
            "[*********************100%***********************]  1 of 1 completed\n",
            "[*********************100%***********************]  1 of 1 completed\n",
            "[*********************100%***********************]  1 of 1 completed\n",
            "[*********************100%***********************]  1 of 1 completed\n",
            "[*********************100%***********************]  1 of 1 completed\n",
            "[*********************100%***********************]  1 of 1 completed\n",
            "[*********************100%***********************]  1 of 1 completed\n",
            "[*********************100%***********************]  1 of 1 completed\n",
            "[*********************100%***********************]  1 of 1 completed\n",
            "[*********************100%***********************]  1 of 1 completed\n",
            "[*********************100%***********************]  1 of 1 completed\n",
            "[*********************100%***********************]  1 of 1 completed\n",
            "[*********************100%***********************]  1 of 1 completed\n",
            "[*********************100%***********************]  1 of 1 completed\n",
            "[*********************100%***********************]  1 of 1 completed\n",
            "[*********************100%***********************]  1 of 1 completed\n",
            "[*********************100%***********************]  1 of 1 completed\n",
            "[*********************100%***********************]  1 of 1 completed\n",
            "[*********************100%***********************]  1 of 1 completed\n",
            "[*********************100%***********************]  1 of 1 completed\n",
            "[*********************100%***********************]  1 of 1 completed\n",
            "[*********************100%***********************]  1 of 1 completed\n",
            "[*********************100%***********************]  1 of 1 completed\n",
            "[*********************100%***********************]  1 of 1 completed\n",
            "[*********************100%***********************]  1 of 1 completed\n",
            "[*********************100%***********************]  1 of 1 completed\n",
            "[*********************100%***********************]  1 of 1 completed\n",
            "[*********************100%***********************]  1 of 1 completed\n",
            "[*********************100%***********************]  1 of 1 completed\n",
            "[*********************100%***********************]  1 of 1 completed\n",
            "[*********************100%***********************]  1 of 1 completed\n",
            "[*********************100%***********************]  1 of 1 completed\n",
            "[*********************100%***********************]  1 of 1 completed\n",
            "[*********************100%***********************]  1 of 1 completed\n",
            "[*********************100%***********************]  1 of 1 completed\n",
            "[*********************100%***********************]  1 of 1 completed\n",
            "[*********************100%***********************]  1 of 1 completed\n",
            "[*********************100%***********************]  1 of 1 completed\n",
            "[*********************100%***********************]  1 of 1 completed\n",
            "[*********************100%***********************]  1 of 1 completed\n",
            "[*********************100%***********************]  1 of 1 completed\n",
            "[*********************100%***********************]  1 of 1 completed\n",
            "[*********************100%***********************]  1 of 1 completed\n",
            "[*********************100%***********************]  1 of 1 completed\n",
            "[*********************100%***********************]  1 of 1 completed\n",
            "[*********************100%***********************]  1 of 1 completed\n",
            "[*********************100%***********************]  1 of 1 completed\n",
            "[*********************100%***********************]  1 of 1 completed\n",
            "[*********************100%***********************]  1 of 1 completed\n",
            "[*********************100%***********************]  1 of 1 completed\n",
            "[*********************100%***********************]  1 of 1 completed\n",
            "[*********************100%***********************]  1 of 1 completed\n",
            "[*********************100%***********************]  1 of 1 completed\n",
            "[*********************100%***********************]  1 of 1 completed\n",
            "[*********************100%***********************]  1 of 1 completed\n",
            "[*********************100%***********************]  1 of 1 completed\n",
            "[*********************100%***********************]  1 of 1 completed\n",
            "[*********************100%***********************]  1 of 1 completed\n",
            "[*********************100%***********************]  1 of 1 completed\n",
            "[*********************100%***********************]  1 of 1 completed\n",
            "[*********************100%***********************]  1 of 1 completed\n",
            "[*********************100%***********************]  1 of 1 completed\n",
            "[*********************100%***********************]  1 of 1 completed\n"
          ]
        }
      ]
    },
    {
      "cell_type": "markdown",
      "metadata": {
        "id": "rQJVp3F1wewS"
      },
      "source": [
        "# Calculate Features & Target values for all stocks\n"
      ]
    },
    {
      "cell_type": "code",
      "execution_count": null,
      "metadata": {
        "id": "jXJ5jvV3cDQE",
        "colab": {
          "base_uri": "https://localhost:8080/"
        },
        "outputId": "04fa1447-d547-4ce8-8bcb-8b539cd8f43d"
      },
      "outputs": [
        {
          "output_type": "stream",
          "name": "stdout",
          "text": [
            "start_date:0 , end_ft_day: 180        start_lbl_date:181 , end_lbl_day: 271\n"
          ]
        }
      ],
      "source": [
        "all_features_train_df,all_labelling_train_df = get_features_labels_from_full_dataframe(all_df)"
      ]
    },
    {
      "cell_type": "code",
      "execution_count": null,
      "metadata": {
        "colab": {
          "base_uri": "https://localhost:8080/",
          "height": 491
        },
        "id": "P5w8Udotcs9l",
        "outputId": "65064387-51c3-4229-da60-f14195f6316a"
      },
      "outputs": [
        {
          "output_type": "stream",
          "name": "stdout",
          "text": [
            "stock\n",
            "A       21.163711\n",
            "AAL     -0.758539\n",
            "AAP      9.319021\n",
            "AAPL    20.333468\n",
            "ABBV   -10.940587\n",
            "          ...    \n",
            "YUM      9.225103\n",
            "ZBH     24.167312\n",
            "ZBRA    33.399114\n",
            "ZION    12.829643\n",
            "ZTS     18.293428\n",
            "Length: 495, dtype: float64\n"
          ]
        },
        {
          "output_type": "display_data",
          "data": {
            "text/plain": [
              "<Figure size 432x288 with 1 Axes>"
            ],
            "image/png": "[encoded data removed]"
          },
          "metadata": {
            "needs_background": "light"
          }
        }
      ],
      "source": [
        "# Calculating the train returns in the labelling 3 months\n",
        "train_returns = all_labelling_train_df.groupby('stock').apply(lambda x: calculate_returns(x))\n",
        "train_returns.hist(bins=100)\n",
        "print(train_returns)"
      ]
    },
    {
      "cell_type": "code",
      "execution_count": null,
      "metadata": {
        "id": "S2x3MZ9IeZ-C"
      },
      "outputs": [],
      "source": [
        "# Splitting the stocks to good and bad stocks based on greater or less then the median return\n",
        "\n",
        "threshold = train_returns.median()\n",
        "good = train_returns[train_returns>threshold].index\n",
        "bad = train_returns[train_returns<threshold].index"
      ]
    },
    {
      "cell_type": "markdown",
      "metadata": {
        "id": "ITMLlNOWrXiQ"
      },
      "source": [
        "# Calculating features for the train features months"
      ]
    },
    {
      "cell_type": "markdown",
      "metadata": {
        "id": "2RnJMEbYwqSG"
      },
      "source": [
        "##From yigal"
      ]
    },
    {
      "cell_type": "code",
      "execution_count": null,
      "metadata": {
        "id": "SKUtTvChhIOY"
      },
      "outputs": [],
      "source": [
        "#@title Creating a monthly df for calculations\n",
        "features_df = all_features_train_df.copy()\n",
        "labelling_df = all_labelling_train_df.copy()\n",
        "features_df['month_index'] = (features_df['t0'] / 30).astype(int)\n",
        "monthly_features_df = features_df.groupby(['stock','month_index']).apply(calculate_returns).reset_index()\n"
      ]
    },
    {
      "cell_type": "code",
      "execution_count": null,
      "metadata": {
        "id": "qBonQE-niBLE"
      },
      "outputs": [],
      "source": [
        "#@title Calculating each stock best and worst monthly return to be used as our features\n",
        "worst_monthly_return = monthly_features_df.groupby('stock').min().reset_index()\n",
        "best_monthly_return = monthly_features_df.groupby('stock').max().reset_index()\n",
        "train_df = best_monthly_return[['stock',0]]\n",
        "train_df['worst'] = worst_monthly_return[0]\n",
        "train_df.columns = ['stock', 'best_month', 'worst_month']\n"
      ]
    },
    {
      "cell_type": "markdown",
      "metadata": {
        "id": "PCQxTrnlWBaq"
      },
      "source": [
        "##Our Features"
      ]
    },
    {
      "cell_type": "code",
      "source": [
        "#@title all features\n",
        "\n",
        "def indexReturn(df,features_df):\n",
        "    sumOpen = features_df.groupby('stock')['Open'].first().sum()\n",
        "    sumClose = features_df.groupby('stock')['Close'].last().sum()\n",
        "    return (df\n",
        "            .assign(IndexReturn = 100*(sumClose-sumOpen)/sumOpen)\n",
        "            )\n",
        "    \n",
        "def total_yield(df,features_df):\n",
        "    total_yield = (\n",
        "                  features_df\n",
        "                  .groupby('stock')\n",
        "                  .apply(calculate_returns)\n",
        "                  .reset_index()\n",
        "                  [0]\n",
        "                  )\n",
        "    return df.assign(total_yield = total_yield.values)\n",
        "\n",
        "def Revenue_To_Index(df):\n",
        "    return (\n",
        "            df\n",
        "            .assign(ComparedToIndex = df['total_yield']-df['IndexReturn'])\n",
        "            .drop('IndexReturn',axis = 1)\n",
        "            )\n",
        "\n",
        "def Add_Avg_Volumn(df,features_df):\n",
        "  VolumeSeries = (\n",
        "                features_df\n",
        "                .assign(avg_Volume = features_df['Volume'].rolling(window=180).mean())\n",
        "                .pipe(lambda d:d.groupby('stock')['avg_Volume'].mean())           \n",
        "                )\n",
        "  return (\n",
        "          df\n",
        "          .assign(avg_Volume = VolumeSeries.values)\n",
        "          .pipe(lambda d:d.fillna({'avg_Volume':-999}))\n",
        "          )\n",
        "  \n",
        "\n",
        "def Get_perc_of_profit(df,features_df):\n",
        "  features_df['days_of_profit'] = features_df['Close'] > features_df['Open']\n",
        "  count_profit_days = (\n",
        "                      features_df\n",
        "                      .query('days_of_profit>0')\n",
        "                      .groupby('stock')\n",
        "                      ['days_of_profit']\n",
        "                      .count()\n",
        "                      )\n",
        "  count_days = (\n",
        "                features_df\n",
        "                .groupby('stock')\n",
        "                ['t0']\n",
        "                .count()\n",
        "                )\n",
        "  return df.assign(percDaysOfProfit = count_profit_days.div(count_days,fill_value=-999).values)\n",
        "\n",
        "\n",
        "def Get_SMA(df,features_df):\n",
        "  f =  (\n",
        "      features_df\n",
        "      .assign(sma10 = features_df[\"Close\"].rolling(window=10).mean(),\n",
        "           sma30 = features_df[\"Close\"].rolling(window=30).mean(),\n",
        "           sma50 = features_df[\"Close\"].rolling(window=50).mean())\n",
        "        )\n",
        "\n",
        "  return df.assign(sma10 = f.groupby('stock')['sma10'].mean().values,\n",
        "                   sma30 = f.groupby('stock')['sma30'].mean().values,\n",
        "                   sma50 = f.groupby('stock')['sma50'].mean().values)\n",
        "  \n",
        "def Get_RSI(df,features_df):\n",
        "  change = features_df[\"Close\"].diff()\n",
        "  change_up = change.copy()\n",
        "  change_down = change.copy()\n",
        "  change_up[change_up<0] = 0\n",
        "  change_down[change_down>0] = 0\n",
        "  avg_up = change_up.rolling(14).mean()\n",
        "  avg_down = change_down.rolling(14).mean().abs()\n",
        "  features_df=features_df.assign(rsi=( 100 * avg_up / (avg_up + avg_down)).values)\n",
        "  return df.assign(RSI=features_df.groupby('stock')['rsi'].mean().values)\n",
        "\n",
        "def Get_std_monthly(df,monthly_features_df):\n",
        "  return (\n",
        "          df\n",
        "          .assign(std = monthly_features_df.groupby('stock')[0].std().values)\n",
        "          .fillna({'std':0})\n",
        "          )\n",
        "\n",
        "def Get_Bollinger(df):\n",
        "  return df.assign(bb_upper = df['sma30'] + (df['std'] * 2),\n",
        "                   bb_lower = df['sma30'] - (df['std'] * 2)\n",
        "                   )\n",
        "\n",
        "def Get_Beta(df,features_df):\n",
        "  f = features_df.assign(Beta = talib.BETA(features_df['High'], features_df['Low'], timeperiod=30))\n",
        "  return (\n",
        "          df\n",
        "          .assign(Beta=f.groupby('stock')['Beta'].mean().values)\n",
        "          .fillna({'Beta':-999})\n",
        "          )\n",
        "def Get_ATR(df,features_df):\n",
        "  f = features_df.assign(ATR = talib.ATR(features_df['High'], features_df['Low'], features_df['Close'], timeperiod=14))\n",
        "  return (\n",
        "          df\n",
        "          .assign(ATR=f.groupby('stock')['ATR'].mean().values)\n",
        "          .fillna({'ATR':-999})\n",
        "          )\n",
        "def Get_adx(df,features_df):\n",
        "  f = features_df.assign(adx = talib.ADX(features_df['High'], features_df['Low'], features_df['Close'], timeperiod=180))\n",
        "  return (df\n",
        "          .assign(adx = f.groupby('stock')['adx'].mean().values)\n",
        "          .fillna({'adx':-999})\n",
        "          )"
      ],
      "metadata": {
        "id": "-YpqQtaj7JVq"
      },
      "execution_count": null,
      "outputs": []
    },
    {
      "cell_type": "code",
      "source": [
        "def Get_all_features(df,features_df,monthly_features_df):\n",
        "    return (\n",
        "            df\n",
        "            .pipe(lambda d:indexReturn(d,features_df))\n",
        "            .pipe(lambda d:total_yield(d,features_df))\n",
        "            .pipe(lambda d:Revenue_To_Index(d))\n",
        "            .pipe(lambda d:Add_Avg_Volumn(d,features_df))\n",
        "            .pipe(lambda d:Get_perc_of_profit(d,features_df))\n",
        "            .pipe(lambda d:Get_SMA(d,features_df))\n",
        "            .pipe(lambda d:Get_RSI(d,features_df))\n",
        "            .pipe(lambda d:Get_std_monthly(d,monthly_features_df))\n",
        "            .pipe(lambda d:Get_Bollinger(d))\n",
        "            .pipe(lambda d:Get_Beta(d,features_df))\n",
        "            .pipe(lambda d:Get_ATR(d,features_df))\n",
        "            .pipe(lambda d:Get_adx(d,features_df))\n",
        "          )"
      ],
      "metadata": {
        "id": "g8fWU_RP6PHC"
      },
      "execution_count": null,
      "outputs": []
    },
    {
      "cell_type": "code",
      "execution_count": null,
      "metadata": {
        "colab": {
          "base_uri": "https://localhost:8080/"
        },
        "id": "nMufFm_njfqh",
        "outputId": "4b433e47-f09c-4e17-a72e-7be68b1ed841"
      },
      "outputs": [
        {
          "output_type": "execute_result",
          "data": {
            "text/plain": [
              "1    247\n",
              "0    245\n",
              "Name: target, dtype: int64"
            ]
          },
          "metadata": {},
          "execution_count": 207
        }
      ],
      "source": [
        "#@title Adding a binary target column for our classification based on the labelling\n",
        "train_df = (\n",
        "            Get_all_features(train_df,features_df,monthly_features_df)\n",
        "            .assign(target = lambda d:np.where(d['stock'].isin(good),1,0))\n",
        "            )\n",
        "train_df['target'].value_counts()"
      ]
    },
    {
      "cell_type": "markdown",
      "metadata": {
        "id": "LhPoD_vpz8jW"
      },
      "source": [
        "# Training the model"
      ]
    },
    {
      "cell_type": "code",
      "execution_count": null,
      "metadata": {
        "id": "nqZXLDw0PnKv",
        "colab": {
          "base_uri": "https://localhost:8080/",
          "height": 406
        },
        "outputId": "ef2b886d-fdc6-47da-c094-09a22414562c"
      },
      "outputs": [
        {
          "output_type": "execute_result",
          "data": {
            "text/plain": [
              "Empty DataFrame\n",
              "Columns: []\n",
              "Index: [0, 1, 2, 3, 4, 5, 6, 7, 8, 9, 10, 11, 12, 13, 14, 15, 16, 17, 18, 19, 20, 21, 22, 23, 24, 25, 26, 27, 28, 29, 30, 31, 32, 33, 34, 35, 36, 37, 38, 39, 40, 41, 42, 43, 44, 45, 46, 47, 48, 49, 50, 51, 52, 53, 54, 55, 56, 57, 58, 59, 60, 61, 62, 63, 64, 65, 66, 67, 68, 69, 70, 71, 72, 73, 74, 75, 76, 77, 78, 79, 80, 81, 82, 83, 84, 85, 86, 87, 88, 89, 90, 91, 92, 93, 94, 95, 96, 97, 98, 99, ...]\n",
              "\n",
              "[492 rows x 0 columns]"
            ],
            "text/html": [
              "\n",
              "  <div id=\"df-b80f5673-7520-403f-a8a5-8547e5fd5fce\">\n",
              "    <div class=\"colab-df-container\">\n",
              "      <div>\n",
              "<style scoped>\n",
              "    .dataframe tbody tr th:only-of-type {\n",
              "        vertical-align: middle;\n",
              "    }\n",
              "\n",
              "    .dataframe tbody tr th {\n",
              "        vertical-align: top;\n",
              "    }\n",
              "\n",
              "    .dataframe thead th {\n",
              "        text-align: right;\n",
              "    }\n",
              "</style>\n",
              "<table border=\"1\" class=\"dataframe\">\n",
              "  <thead>\n",
              "    <tr style=\"text-align: right;\">\n",
              "      <th></th>\n",
              "    </tr>\n",
              "  </thead>\n",
              "  <tbody>\n",
              "    <tr>\n",
              "      <th>0</th>\n",
              "    </tr>\n",
              "    <tr>\n",
              "      <th>1</th>\n",
              "    </tr>\n",
              "    <tr>\n",
              "      <th>2</th>\n",
              "    </tr>\n",
              "    <tr>\n",
              "      <th>3</th>\n",
              "    </tr>\n",
              "    <tr>\n",
              "      <th>4</th>\n",
              "    </tr>\n",
              "    <tr>\n",
              "      <th>...</th>\n",
              "    </tr>\n",
              "    <tr>\n",
              "      <th>487</th>\n",
              "    </tr>\n",
              "    <tr>\n",
              "      <th>488</th>\n",
              "    </tr>\n",
              "    <tr>\n",
              "      <th>489</th>\n",
              "    </tr>\n",
              "    <tr>\n",
              "      <th>490</th>\n",
              "    </tr>\n",
              "    <tr>\n",
              "      <th>491</th>\n",
              "    </tr>\n",
              "  </tbody>\n",
              "</table>\n",
              "<p>492 rows × 0 columns</p>\n",
              "</div>\n",
              "      <button class=\"colab-df-convert\" onclick=\"convertToInteractive('df-b80f5673-7520-403f-a8a5-8547e5fd5fce')\"\n",
              "              title=\"Convert this dataframe to an interactive table.\"\n",
              "              style=\"display:none;\">\n",
              "        \n",
              "  <svg xmlns=\"http://www.w3.org/2000/svg\" height=\"24px\"viewBox=\"0 0 24 24\"\n",
              "       width=\"24px\">\n",
              "    <path d=\"M0 0h24v24H0V0z\" fill=\"none\"/>\n",
              "    <path d=\"M18.56 5.44l.94 2.06.94-2.06 2.06-.94-2.06-.94-.94-2.06-.94 2.06-2.06.94zm-11 1L8.5 8.5l.94-2.06 2.06-.94-2.06-.94L8.5 2.5l-.94 2.06-2.06.94zm10 10l.94 2.06.94-2.06 2.06-.94-2.06-.94-.94-2.06-.94 2.06-2.06.94z\"/><path d=\"M17.41 7.96l-1.37-1.37c-.4-.4-.92-.59-1.43-.59-.52 0-1.04.2-1.43.59L10.3 9.45l-7.72 7.72c-.78.78-.78 2.05 0 2.83L4 21.41c.39.39.9.59 1.41.59.51 0 1.02-.2 1.41-.59l7.78-7.78 2.81-2.81c.8-.78.8-2.07 0-2.86zM5.41 20L4 18.59l7.72-7.72 1.47 1.35L5.41 20z\"/>\n",
              "  </svg>\n",
              "      </button>\n",
              "      \n",
              "  <style>\n",
              "    .colab-df-container {\n",
              "      display:flex;\n",
              "      flex-wrap:wrap;\n",
              "      gap: 12px;\n",
              "    }\n",
              "\n",
              "    .colab-df-convert {\n",
              "      background-color: #E8F0FE;\n",
              "      border: none;\n",
              "      border-radius: 50%;\n",
              "      cursor: pointer;\n",
              "      display: none;\n",
              "      fill: #1967D2;\n",
              "      height: 32px;\n",
              "      padding: 0 0 0 0;\n",
              "      width: 32px;\n",
              "    }\n",
              "\n",
              "    .colab-df-convert:hover {\n",
              "      background-color: #E2EBFA;\n",
              "      box-shadow: 0px 1px 2px rgba(60, 64, 67, 0.3), 0px 1px 3px 1px rgba(60, 64, 67, 0.15);\n",
              "      fill: #174EA6;\n",
              "    }\n",
              "\n",
              "    [theme=dark] .colab-df-convert {\n",
              "      background-color: #3B4455;\n",
              "      fill: #D2E3FC;\n",
              "    }\n",
              "\n",
              "    [theme=dark] .colab-df-convert:hover {\n",
              "      background-color: #434B5C;\n",
              "      box-shadow: 0px 1px 3px 1px rgba(0, 0, 0, 0.15);\n",
              "      filter: drop-shadow(0px 1px 2px rgba(0, 0, 0, 0.3));\n",
              "      fill: #FFFFFF;\n",
              "    }\n",
              "  </style>\n",
              "\n",
              "      <script>\n",
              "        const buttonEl =\n",
              "          document.querySelector('#df-b80f5673-7520-403f-a8a5-8547e5fd5fce button.colab-df-convert');\n",
              "        buttonEl.style.display =\n",
              "          google.colab.kernel.accessAllowed ? 'block' : 'none';\n",
              "\n",
              "        async function convertToInteractive(key) {\n",
              "          const element = document.querySelector('#df-b80f5673-7520-403f-a8a5-8547e5fd5fce');\n",
              "          const dataTable =\n",
              "            await google.colab.kernel.invokeFunction('convertToInteractive',\n",
              "                                                     [key], {});\n",
              "          if (!dataTable) return;\n",
              "\n",
              "          const docLinkHtml = 'Like what you see? Visit the ' +\n",
              "            '<a target=\"_blank\" href=https://colab.research.google.com/notebooks/data_table.ipynb>data table notebook</a>'\n",
              "            + ' to learn more about interactive tables.';\n",
              "          element.innerHTML = '';\n",
              "          dataTable['output_type'] = 'display_data';\n",
              "          await google.colab.output.renderOutput(dataTable, element);\n",
              "          const docLink = document.createElement('div');\n",
              "          docLink.innerHTML = docLinkHtml;\n",
              "          element.appendChild(docLink);\n",
              "        }\n",
              "      </script>\n",
              "    </div>\n",
              "  </div>\n",
              "  "
            ]
          },
          "metadata": {},
          "execution_count": 208
        }
      ],
      "source": [
        "#@title Check for NA\n",
        "train_df.loc[:, train_df.isna().any()]\n"
      ]
    },
    {
      "cell_type": "code",
      "execution_count": null,
      "metadata": {
        "colab": {
          "base_uri": "https://localhost:8080/"
        },
        "id": "gK55Ra4xkC9p",
        "outputId": "14dd6843-d027-4376-92bc-307f1d5384b8"
      },
      "outputs": [
        {
          "output_type": "execute_result",
          "data": {
            "text/plain": [
              "RandomForestClassifier(max_depth=3, random_state=0)"
            ]
          },
          "metadata": {},
          "execution_count": 209
        }
      ],
      "source": [
        "# Training a Random Forest ML model to predict if the stock return will be above the median return in the labelling period\n",
        "\n",
        "from sklearn.ensemble import RandomForestClassifier\n",
        "clf = RandomForestClassifier(max_depth=3, random_state=0)\n",
        "clf.fit(train_df.drop(['stock','target'],axis=1), train_df['target'])"
      ]
    },
    {
      "cell_type": "markdown",
      "source": [
        "#Final Task"
      ],
      "metadata": {
        "id": "Lw1z9eLTQztC"
      }
    },
    {
      "cell_type": "markdown",
      "source": [
        "##First Assignment"
      ],
      "metadata": {
        "id": "QvvgpMvuWuFA"
      }
    },
    {
      "cell_type": "markdown",
      "source": [
        "####1.1"
      ],
      "metadata": {
        "id": "XxdCyJMcCunQ"
      }
    },
    {
      "cell_type": "code",
      "source": [
        "feature_chosen = 'std'\n",
        "reg_df = (\n",
        "          train_df\n",
        "          [['stock',feature_chosen]]\n",
        "          .merge(train_returns.to_frame().reset_index(),on='stock')\n",
        "          .set_index('stock')\n",
        "          .rename(columns={0:'pct_change'})\n",
        "          )\n",
        "sns.scatterplot(x=feature_chosen, y='pct_change',data=reg_df)"
      ],
      "metadata": {
        "colab": {
          "base_uri": "https://localhost:8080/",
          "height": 296
        },
        "id": "BkUB_kmQSEwj",
        "outputId": "54381922-d33e-43e6-ea79-1152279a0f6c"
      },
      "execution_count": null,
      "outputs": [
        {
          "output_type": "execute_result",
          "data": {
            "text/plain": [
              "<matplotlib.axes._subplots.AxesSubplot at 0x7f461223c4f0>"
            ]
          },
          "metadata": {},
          "execution_count": 210
        },
        {
          "output_type": "display_data",
          "data": {
            "text/plain": [
              "<Figure size 432x288 with 1 Axes>"
            ],
            "image/png": "[encoded data removed]"
          },
          "metadata": {
            "needs_background": "light"
          }
        }
      ]
    },
    {
      "cell_type": "code",
      "source": [
        "from sklearn.linear_model import LinearRegression\n",
        "from scipy.stats import pearsonr\n",
        "\n",
        "correlation, pvalue = pearsonr(reg_df[feature_chosen], reg_df['pct_change'])\n",
        "\n",
        "# Print the correlation\n",
        "print(f\"Correlation: {correlation}\")\n",
        "\n",
        "x = np.array(reg_df[feature_chosen]).reshape(-1,1)\n",
        "y = np.array(reg_df['pct_change'])\n",
        "\n",
        "reg = LinearRegression().fit(x, y)\n",
        "print(f\"Intercept: {reg.intercept_} \\\n",
        "       \\nCoefficient: {reg.coef_[0]}\")"
      ],
      "metadata": {
        "colab": {
          "base_uri": "https://localhost:8080/"
        },
        "id": "8MBi835vUUQD",
        "outputId": "47edf55a-3145-4b07-e20f-e1cfe9f13608"
      },
      "execution_count": null,
      "outputs": [
        {
          "output_type": "stream",
          "name": "stdout",
          "text": [
            "Correlation: 0.1663926174215306\n",
            "Intercept: 11.412172078779047        \n",
            "Coefficient: 0.5249952198830796\n"
          ]
        }
      ]
    },
    {
      "cell_type": "markdown",
      "source": [
        "###1.2\n",
        "Creating a new label system(instead of pct_returns)"
      ],
      "metadata": {
        "id": "HT0eXbosc6GR"
      }
    },
    {
      "cell_type": "code",
      "source": [
        "threshold = reg_df[feature_chosen].median()\n",
        "\n",
        "good = reg_df.query(f'{feature_chosen} > @threshold').index\n",
        "bad = reg_df.query(f'{feature_chosen} < @threshold').index\n",
        "\n",
        "new_train = (\n",
        "            train_df\n",
        "            .drop('target',axis=1)\n",
        "            .assign(target=np.where(train_df['stock'].isin(good),1,0))\n",
        "            )"
      ],
      "metadata": {
        "id": "GU8Uyj1pa36T"
      },
      "execution_count": null,
      "outputs": []
    },
    {
      "cell_type": "code",
      "source": [
        "clf = RandomForestClassifier(max_depth=3, random_state=0)\n",
        "clf.fit(new_train.drop(['stock','target'],axis=1), new_train['target'])"
      ],
      "metadata": {
        "colab": {
          "base_uri": "https://localhost:8080/"
        },
        "id": "Hqfr8lqBfL3I",
        "outputId": "a36bff5e-521e-447c-daf1-786a8c7d7e97"
      },
      "execution_count": null,
      "outputs": [
        {
          "output_type": "execute_result",
          "data": {
            "text/plain": [
              "RandomForestClassifier(max_depth=3, random_state=0)"
            ]
          },
          "metadata": {},
          "execution_count": 213
        }
      ]
    },
    {
      "cell_type": "code",
      "source": [
        "all_features_test_df,all_labelling_test_df = get_features_labels_from_full_dataframe(all_df,start_train_features_day = 270)\n",
        "features_df2 = all_features_test_df.copy()\n",
        "monthly_features_df2 = Get_Monthly(all_features_test_df)\n",
        "new_test = calculate_featurs(all_features_test_df).reset_index()\n",
        "new_test = Get_all_features(new_test, features_df2, monthly_features_df2)"
      ],
      "metadata": {
        "colab": {
          "base_uri": "https://localhost:8080/"
        },
        "id": "G9X-vyiT_gQr",
        "outputId": "0482fbfa-f4d1-460f-c62b-2ac4997925ee"
      },
      "execution_count": null,
      "outputs": [
        {
          "output_type": "stream",
          "name": "stdout",
          "text": [
            "start_date:270 , end_ft_day: 450        start_lbl_date:451 , end_lbl_day: 541\n"
          ]
        }
      ]
    },
    {
      "cell_type": "markdown",
      "source": [
        "####Statistical Difference"
      ],
      "metadata": {
        "id": "Trc52gZFmpac"
      }
    },
    {
      "cell_type": "code",
      "source": [
        "good_stocks = new_train[new_train['target'] == True]\n",
        "bad_stocks = new_train[new_train['target'] == False]\n",
        "\n",
        "from scipy.stats import mannwhitneyu\n",
        "for feature in new_train.drop(['stock',feature_chosen,'target'],axis=1).columns:\n",
        "    fig, (ax1, ax2) = plt.subplots(1, 2, figsize=(10, 5))\n",
        "\n",
        "    sns.boxplot(x='target', y=feature, data=new_train, palette='mako',ax=ax1)\n",
        "    sns.histplot(x=feature, data=new_train,palette='mako',hue='target',ax=ax2)\n",
        "\n",
        "    statistic, pvalue = mannwhitneyu(good_stocks[feature], bad_stocks[feature])\n",
        "    if pvalue < 0.05:\n",
        "        print(f'\\033[1mThere is a significant difference in the distribution of {feature} between the True and False groups (p-value = {pvalue:.3f})\\033[0m')\n",
        "    else:\n",
        "        print(f'\\033[1mThere is no significant difference in the distribution of {feature} between the True and False groups (p-value = {pvalue:.3f})\\033[0m')\n",
        "    print()\n",
        "\n",
        "    plt.show()\n",
        "    "
      ],
      "metadata": {
        "id": "b5ToA57BzVzu",
        "colab": {
          "base_uri": "https://localhost:8080/",
          "height": 1000
        },
        "outputId": "fe50fc46-dc46-46cf-f517-8636704dbb12"
      },
      "execution_count": null,
      "outputs": [
        {
          "output_type": "stream",
          "name": "stdout",
          "text": [
            "\u001b[1mThere is a significant difference in the distribution of best_month between the True and False groups (p-value = 0.000)\u001b[0m\n",
            "\n"
          ]
        },
        {
          "output_type": "display_data",
          "data": {
            "text/plain": [
              "<Figure size 720x360 with 2 Axes>"
            ],
            "image/png": "[encoded data removed]"
          },
          "metadata": {
            "needs_background": "light"
          }
        },
        {
          "output_type": "stream",
          "name": "stdout",
          "text": [
            "\u001b[1mThere is a significant difference in the distribution of worst_month between the True and False groups (p-value = 0.000)\u001b[0m\n",
            "\n"
          ]
        },
        {
          "output_type": "display_data",
          "data": {
            "text/plain": [
              "<Figure size 720x360 with 2 Axes>"
            ],
            "image/png": "[encoded data removed]"
          },
          "metadata": {
            "needs_background": "light"
          }
        },
        {
          "output_type": "stream",
          "name": "stdout",
          "text": [
            "\u001b[1mThere is a significant difference in the distribution of total_yield between the True and False groups (p-value = 0.000)\u001b[0m\n",
            "\n"
          ]
        },
        {
          "output_type": "display_data",
          "data": {
            "text/plain": [
              "<Figure size 720x360 with 2 Axes>"
            ],
            "image/png": "[encoded data removed]"
          },
          "metadata": {
            "needs_background": "light"
          }
        },
        {
          "output_type": "stream",
          "name": "stdout",
          "text": [
            "\u001b[1mThere is a significant difference in the distribution of ComparedToIndex between the True and False groups (p-value = 0.000)\u001b[0m\n",
            "\n"
          ]
        },
        {
          "output_type": "display_data",
          "data": {
            "text/plain": [
              "<Figure size 720x360 with 2 Axes>"
            ],
            "image/png": "[encoded data removed]"
          },
          "metadata": {
            "needs_background": "light"
          }
        },
        {
          "output_type": "stream",
          "name": "stdout",
          "text": [
            "\u001b[1mThere is no significant difference in the distribution of avg_Volume between the True and False groups (p-value = 0.085)\u001b[0m\n",
            "\n"
          ]
        },
        {
          "output_type": "display_data",
          "data": {
            "text/plain": [
              "<Figure size 720x360 with 2 Axes>"
            ],
            "image/png": "[encoded data removed]"
          },
          "metadata": {
            "needs_background": "light"
          }
        },
        {
          "output_type": "stream",
          "name": "stdout",
          "text": [
            "\u001b[1mThere is a significant difference in the distribution of percDaysOfProfit between the True and False groups (p-value = 0.002)\u001b[0m\n",
            "\n"
          ]
        },
        {
          "output_type": "display_data",
          "data": {
            "text/plain": [
              "<Figure size 720x360 with 2 Axes>"
            ],
            "image/png": "[encoded data removed]"
          },
          "metadata": {
            "needs_background": "light"
          }
        },
        {
          "output_type": "stream",
          "name": "stdout",
          "text": [
            "\u001b[1mThere is no significant difference in the distribution of sma10 between the True and False groups (p-value = 0.426)\u001b[0m\n",
            "\n"
          ]
        },
        {
          "output_type": "display_data",
          "data": {
            "text/plain": [
              "<Figure size 720x360 with 2 Axes>"
            ],
            "image/png": "[encoded data removed]"
          },
          "metadata": {
            "needs_background": "light"
          }
        },
        {
          "output_type": "stream",
          "name": "stdout",
          "text": [
            "\u001b[1mThere is no significant difference in the distribution of sma30 between the True and False groups (p-value = 0.351)\u001b[0m\n",
            "\n"
          ]
        },
        {
          "output_type": "display_data",
          "data": {
            "text/plain": [
              "<Figure size 720x360 with 2 Axes>"
            ],
            "image/png": "[encoded data removed]"
          },
          "metadata": {
            "needs_background": "light"
          }
        },
        {
          "output_type": "stream",
          "name": "stdout",
          "text": [
            "\u001b[1mThere is no significant difference in the distribution of sma50 between the True and False groups (p-value = 0.251)\u001b[0m\n",
            "\n"
          ]
        },
        {
          "output_type": "display_data",
          "data": {
            "text/plain": [
              "<Figure size 720x360 with 2 Axes>"
            ],
            "image/png": "[encoded data removed]"
          },
          "metadata": {
            "needs_background": "light"
          }
        },
        {
          "output_type": "stream",
          "name": "stdout",
          "text": [
            "\u001b[1mThere is a significant difference in the distribution of RSI between the True and False groups (p-value = 0.004)\u001b[0m\n",
            "\n"
          ]
        },
        {
          "output_type": "display_data",
          "data": {
            "text/plain": [
              "<Figure size 720x360 with 2 Axes>"
            ],
            "image/png": "[encoded data removed]"
          },
          "metadata": {
            "needs_background": "light"
          }
        },
        {
          "output_type": "stream",
          "name": "stdout",
          "text": [
            "\u001b[1mThere is a significant difference in the distribution of bb_upper between the True and False groups (p-value = 0.000)\u001b[0m\n",
            "\n"
          ]
        },
        {
          "output_type": "display_data",
          "data": {
            "text/plain": [
              "<Figure size 720x360 with 2 Axes>"
            ],
            "image/png": "[encoded data removed]"
          },
          "metadata": {
            "needs_background": "light"
          }
        },
        {
          "output_type": "stream",
          "name": "stdout",
          "text": [
            "\u001b[1mThere is no significant difference in the distribution of bb_lower between the True and False groups (p-value = 0.072)\u001b[0m\n",
            "\n"
          ]
        },
        {
          "output_type": "display_data",
          "data": {
            "text/plain": [
              "<Figure size 720x360 with 2 Axes>"
            ],
            "image/png": "[encoded data removed]"
          },
          "metadata": {
            "needs_background": "light"
          }
        },
        {
          "output_type": "stream",
          "name": "stdout",
          "text": [
            "\u001b[1mThere is no significant difference in the distribution of Beta between the True and False groups (p-value = 0.827)\u001b[0m\n",
            "\n"
          ]
        },
        {
          "output_type": "display_data",
          "data": {
            "text/plain": [
              "<Figure size 720x360 with 2 Axes>"
            ],
            "image/png": "[encoded data removed]"
          },
          "metadata": {
            "needs_background": "light"
          }
        },
        {
          "output_type": "stream",
          "name": "stdout",
          "text": [
            "\u001b[1mThere is a significant difference in the distribution of ATR between the True and False groups (p-value = 0.000)\u001b[0m\n",
            "\n"
          ]
        },
        {
          "output_type": "display_data",
          "data": {
            "text/plain": [
              "<Figure size 720x360 with 2 Axes>"
            ],
            "image/png": "[encoded data removed]"
          },
          "metadata": {
            "needs_background": "light"
          }
        },
        {
          "output_type": "stream",
          "name": "stdout",
          "text": [
            "\u001b[1mThere is no significant difference in the distribution of adx between the True and False groups (p-value = 0.962)\u001b[0m\n",
            "\n"
          ]
        },
        {
          "output_type": "display_data",
          "data": {
            "text/plain": [
              "<Figure size 720x360 with 2 Axes>"
            ],
            "image/png": "[encoded data removed]"
          },
          "metadata": {
            "needs_background": "light"
          }
        }
      ]
    },
    {
      "cell_type": "code",
      "source": [
        "stats_good = (\n",
        "              good_stocks\n",
        "              .describe()\n",
        "              .T\n",
        "              .assign(skew = good_stocks.skew().tolist(),\n",
        "                       kurt = good_stocks.kurtosis().tolist())\n",
        "              .T\n",
        "              )\n",
        "stats_bad = (\n",
        "              bad_stocks\n",
        "              .describe()\n",
        "              .T\n",
        "              .assign(skew = bad_stocks.skew().tolist(),\n",
        "                       kurt = bad_stocks.kurtosis().tolist())\n",
        "              .T\n",
        "              )\n",
        "\n",
        "display(stats_good)\n",
        "display(stats_bad)"
      ],
      "metadata": {
        "id": "9sb5mVp83I_F",
        "colab": {
          "base_uri": "https://localhost:8080/",
          "height": 772
        },
        "outputId": "fb7f5848-7f7e-4ee9-c368-13d50f602dc3"
      },
      "execution_count": null,
      "outputs": [
        {
          "output_type": "display_data",
          "data": {
            "text/plain": [
              "       best_month  worst_month  total_yield  ComparedToIndex    avg_Volume  \\\n",
              "count  246.000000   246.000000   246.000000       246.000000  2.460000e+02   \n",
              "mean    13.687687   -18.472048   -11.767191        -3.510241  5.327781e+06   \n",
              "std      6.766068     5.757157    14.841477        14.841477  9.419649e+06   \n",
              "min      1.112749   -45.096122   -50.898155       -42.641204  3.495257e+05   \n",
              "25%      9.430468   -21.089441   -21.605372       -13.348421  1.712501e+06   \n",
              "50%     12.600804   -17.893845   -10.574506        -2.317555  2.721312e+06   \n",
              "75%     15.916157   -14.323805    -1.954957         6.301994  4.641807e+06   \n",
              "max     53.404864    -5.503907    30.946239        39.203190  9.087958e+07   \n",
              "skew     2.347080    -1.412933    -0.102010        -0.102010  5.239098e+00   \n",
              "kurt     9.660260     3.893024    -0.061819        -0.061819  3.466932e+01   \n",
              "\n",
              "       percDaysOfProfit        sma10        sma30        sma50         RSI  \\\n",
              "count        246.000000   246.000000   246.000000   246.000000  246.000000   \n",
              "mean           0.483122   108.665386   108.745727   108.805653   48.620912   \n",
              "std            0.039611   172.195053   159.398049   148.217437    6.212578   \n",
              "min            0.384000     6.973777    10.996061    13.879911   30.875645   \n",
              "25%            0.456000    43.620889    48.141855    52.374417   44.021949   \n",
              "50%            0.480000    71.110542    73.407432    78.259535   49.515926   \n",
              "75%            0.512000   129.437950   130.491645   129.095262   53.293332   \n",
              "max            0.592000  2477.932736  2285.005408  2097.781820   62.277492   \n",
              "skew           0.190899    10.905966    10.667953    10.212162   -0.299293   \n",
              "kurt          -0.203425   147.297572   142.731889   133.286836   -0.627640   \n",
              "\n",
              "              std     bb_upper     bb_lower        Beta         ATR  \\\n",
              "count  246.000000   246.000000   246.000000  246.000000  246.000000   \n",
              "mean    12.148522   133.042770    84.448684    0.786300    3.685026   \n",
              "std      3.107711   158.979030   160.057511    0.089440    6.762633   \n",
              "min      8.888899    34.694049   -43.440962    0.403815    0.447716   \n",
              "25%     10.098875    75.301079    22.989845    0.724542    1.552212   \n",
              "50%     11.271043    97.810179    51.694371    0.782245    2.424696   \n",
              "75%     13.429298   153.867621   105.218759    0.841005    3.953616   \n",
              "max     32.130005  2306.396144  2263.614672    1.048238   97.793380   \n",
              "skew     2.509299    10.707911    10.578431   -0.022551   11.456287   \n",
              "kurt    10.262503   143.481217   141.124667    0.733272  155.120344   \n",
              "\n",
              "              adx  target  \n",
              "count  246.000000   246.0  \n",
              "mean    11.372631     1.0  \n",
              "std     64.839311     0.0  \n",
              "min   -999.000000     1.0  \n",
              "25%     12.177514     1.0  \n",
              "50%     14.975068     1.0  \n",
              "75%     18.149102     1.0  \n",
              "max     31.934611     1.0  \n",
              "skew   -15.569361     0.0  \n",
              "kurt   243.591299     0.0  "
            ],
            "text/html": [
              "\n",
              "  <div id=\"df-b7b502aa-2064-4205-a73e-08c9b84f978e\">\n",
              "    <div class=\"colab-df-container\">\n",
              "      <div>\n",
              "<style scoped>\n",
              "    .dataframe tbody tr th:only-of-type {\n",
              "        vertical-align: middle;\n",
              "    }\n",
              "\n",
              "    .dataframe tbody tr th {\n",
              "        vertical-align: top;\n",
              "    }\n",
              "\n",
              "    .dataframe thead th {\n",
              "        text-align: right;\n",
              "    }\n",
              "</style>\n",
              "<table border=\"1\" class=\"dataframe\">\n",
              "  <thead>\n",
              "    <tr style=\"text-align: right;\">\n",
              "      <th></th>\n",
              "      <th>best_month</th>\n",
              "      <th>worst_month</th>\n",
              "      <th>total_yield</th>\n",
              "      <th>ComparedToIndex</th>\n",
              "      <th>avg_Volume</th>\n",
              "      <th>percDaysOfProfit</th>\n",
              "      <th>sma10</th>\n",
              "      <th>sma30</th>\n",
              "      <th>sma50</th>\n",
              "      <th>RSI</th>\n",
              "      <th>std</th>\n",
              "      <th>bb_upper</th>\n",
              "      <th>bb_lower</th>\n",
              "      <th>Beta</th>\n",
              "      <th>ATR</th>\n",
              "      <th>adx</th>\n",
              "      <th>target</th>\n",
              "    </tr>\n",
              "  </thead>\n",
              "  <tbody>\n",
              "    <tr>\n",
              "      <th>count</th>\n",
              "      <td>246.000000</td>\n",
              "      <td>246.000000</td>\n",
              "      <td>246.000000</td>\n",
              "      <td>246.000000</td>\n",
              "      <td>2.460000e+02</td>\n",
              "      <td>246.000000</td>\n",
              "      <td>246.000000</td>\n",
              "      <td>246.000000</td>\n",
              "      <td>246.000000</td>\n",
              "      <td>246.000000</td>\n",
              "      <td>246.000000</td>\n",
              "      <td>246.000000</td>\n",
              "      <td>246.000000</td>\n",
              "      <td>246.000000</td>\n",
              "      <td>246.000000</td>\n",
              "      <td>246.000000</td>\n",
              "      <td>246.0</td>\n",
              "    </tr>\n",
              "    <tr>\n",
              "      <th>mean</th>\n",
              "      <td>13.687687</td>\n",
              "      <td>-18.472048</td>\n",
              "      <td>-11.767191</td>\n",
              "      <td>-3.510241</td>\n",
              "      <td>5.327781e+06</td>\n",
              "      <td>0.483122</td>\n",
              "      <td>108.665386</td>\n",
              "      <td>108.745727</td>\n",
              "      <td>108.805653</td>\n",
              "      <td>48.620912</td>\n",
              "      <td>12.148522</td>\n",
              "      <td>133.042770</td>\n",
              "      <td>84.448684</td>\n",
              "      <td>0.786300</td>\n",
              "      <td>3.685026</td>\n",
              "      <td>11.372631</td>\n",
              "      <td>1.0</td>\n",
              "    </tr>\n",
              "    <tr>\n",
              "      <th>std</th>\n",
              "      <td>6.766068</td>\n",
              "      <td>5.757157</td>\n",
              "      <td>14.841477</td>\n",
              "      <td>14.841477</td>\n",
              "      <td>9.419649e+06</td>\n",
              "      <td>0.039611</td>\n",
              "      <td>172.195053</td>\n",
              "      <td>159.398049</td>\n",
              "      <td>148.217437</td>\n",
              "      <td>6.212578</td>\n",
              "      <td>3.107711</td>\n",
              "      <td>158.979030</td>\n",
              "      <td>160.057511</td>\n",
              "      <td>0.089440</td>\n",
              "      <td>6.762633</td>\n",
              "      <td>64.839311</td>\n",
              "      <td>0.0</td>\n",
              "    </tr>\n",
              "    <tr>\n",
              "      <th>min</th>\n",
              "      <td>1.112749</td>\n",
              "      <td>-45.096122</td>\n",
              "      <td>-50.898155</td>\n",
              "      <td>-42.641204</td>\n",
              "      <td>3.495257e+05</td>\n",
              "      <td>0.384000</td>\n",
              "      <td>6.973777</td>\n",
              "      <td>10.996061</td>\n",
              "      <td>13.879911</td>\n",
              "      <td>30.875645</td>\n",
              "      <td>8.888899</td>\n",
              "      <td>34.694049</td>\n",
              "      <td>-43.440962</td>\n",
              "      <td>0.403815</td>\n",
              "      <td>0.447716</td>\n",
              "      <td>-999.000000</td>\n",
              "      <td>1.0</td>\n",
              "    </tr>\n",
              "    <tr>\n",
              "      <th>25%</th>\n",
              "      <td>9.430468</td>\n",
              "      <td>-21.089441</td>\n",
              "      <td>-21.605372</td>\n",
              "      <td>-13.348421</td>\n",
              "      <td>1.712501e+06</td>\n",
              "      <td>0.456000</td>\n",
              "      <td>43.620889</td>\n",
              "      <td>48.141855</td>\n",
              "      <td>52.374417</td>\n",
              "      <td>44.021949</td>\n",
              "      <td>10.098875</td>\n",
              "      <td>75.301079</td>\n",
              "      <td>22.989845</td>\n",
              "      <td>0.724542</td>\n",
              "      <td>1.552212</td>\n",
              "      <td>12.177514</td>\n",
              "      <td>1.0</td>\n",
              "    </tr>\n",
              "    <tr>\n",
              "      <th>50%</th>\n",
              "      <td>12.600804</td>\n",
              "      <td>-17.893845</td>\n",
              "      <td>-10.574506</td>\n",
              "      <td>-2.317555</td>\n",
              "      <td>2.721312e+06</td>\n",
              "      <td>0.480000</td>\n",
              "      <td>71.110542</td>\n",
              "      <td>73.407432</td>\n",
              "      <td>78.259535</td>\n",
              "      <td>49.515926</td>\n",
              "      <td>11.271043</td>\n",
              "      <td>97.810179</td>\n",
              "      <td>51.694371</td>\n",
              "      <td>0.782245</td>\n",
              "      <td>2.424696</td>\n",
              "      <td>14.975068</td>\n",
              "      <td>1.0</td>\n",
              "    </tr>\n",
              "    <tr>\n",
              "      <th>75%</th>\n",
              "      <td>15.916157</td>\n",
              "      <td>-14.323805</td>\n",
              "      <td>-1.954957</td>\n",
              "      <td>6.301994</td>\n",
              "      <td>4.641807e+06</td>\n",
              "      <td>0.512000</td>\n",
              "      <td>129.437950</td>\n",
              "      <td>130.491645</td>\n",
              "      <td>129.095262</td>\n",
              "      <td>53.293332</td>\n",
              "      <td>13.429298</td>\n",
              "      <td>153.867621</td>\n",
              "      <td>105.218759</td>\n",
              "      <td>0.841005</td>\n",
              "      <td>3.953616</td>\n",
              "      <td>18.149102</td>\n",
              "      <td>1.0</td>\n",
              "    </tr>\n",
              "    <tr>\n",
              "      <th>max</th>\n",
              "      <td>53.404864</td>\n",
              "      <td>-5.503907</td>\n",
              "      <td>30.946239</td>\n",
              "      <td>39.203190</td>\n",
              "      <td>9.087958e+07</td>\n",
              "      <td>0.592000</td>\n",
              "      <td>2477.932736</td>\n",
              "      <td>2285.005408</td>\n",
              "      <td>2097.781820</td>\n",
              "      <td>62.277492</td>\n",
              "      <td>32.130005</td>\n",
              "      <td>2306.396144</td>\n",
              "      <td>2263.614672</td>\n",
              "      <td>1.048238</td>\n",
              "      <td>97.793380</td>\n",
              "      <td>31.934611</td>\n",
              "      <td>1.0</td>\n",
              "    </tr>\n",
              "    <tr>\n",
              "      <th>skew</th>\n",
              "      <td>2.347080</td>\n",
              "      <td>-1.412933</td>\n",
              "      <td>-0.102010</td>\n",
              "      <td>-0.102010</td>\n",
              "      <td>5.239098e+00</td>\n",
              "      <td>0.190899</td>\n",
              "      <td>10.905966</td>\n",
              "      <td>10.667953</td>\n",
              "      <td>10.212162</td>\n",
              "      <td>-0.299293</td>\n",
              "      <td>2.509299</td>\n",
              "      <td>10.707911</td>\n",
              "      <td>10.578431</td>\n",
              "      <td>-0.022551</td>\n",
              "      <td>11.456287</td>\n",
              "      <td>-15.569361</td>\n",
              "      <td>0.0</td>\n",
              "    </tr>\n",
              "    <tr>\n",
              "      <th>kurt</th>\n",
              "      <td>9.660260</td>\n",
              "      <td>3.893024</td>\n",
              "      <td>-0.061819</td>\n",
              "      <td>-0.061819</td>\n",
              "      <td>3.466932e+01</td>\n",
              "      <td>-0.203425</td>\n",
              "      <td>147.297572</td>\n",
              "      <td>142.731889</td>\n",
              "      <td>133.286836</td>\n",
              "      <td>-0.627640</td>\n",
              "      <td>10.262503</td>\n",
              "      <td>143.481217</td>\n",
              "      <td>141.124667</td>\n",
              "      <td>0.733272</td>\n",
              "      <td>155.120344</td>\n",
              "      <td>243.591299</td>\n",
              "      <td>0.0</td>\n",
              "    </tr>\n",
              "  </tbody>\n",
              "</table>\n",
              "</div>\n",
              "      <button class=\"colab-df-convert\" onclick=\"convertToInteractive('df-b7b502aa-2064-4205-a73e-08c9b84f978e')\"\n",
              "              title=\"Convert this dataframe to an interactive table.\"\n",
              "              style=\"display:none;\">\n",
              "        \n",
              "  <svg xmlns=\"http://www.w3.org/2000/svg\" height=\"24px\"viewBox=\"0 0 24 24\"\n",
              "       width=\"24px\">\n",
              "    <path d=\"M0 0h24v24H0V0z\" fill=\"none\"/>\n",
              "    <path d=\"M18.56 5.44l.94 2.06.94-2.06 2.06-.94-2.06-.94-.94-2.06-.94 2.06-2.06.94zm-11 1L8.5 8.5l.94-2.06 2.06-.94-2.06-.94L8.5 2.5l-.94 2.06-2.06.94zm10 10l.94 2.06.94-2.06 2.06-.94-2.06-.94-.94-2.06-.94 2.06-2.06.94z\"/><path d=\"M17.41 7.96l-1.37-1.37c-.4-.4-.92-.59-1.43-.59-.52 0-1.04.2-1.43.59L10.3 9.45l-7.72 7.72c-.78.78-.78 2.05 0 2.83L4 21.41c.39.39.9.59 1.41.59.51 0 1.02-.2 1.41-.59l7.78-7.78 2.81-2.81c.8-.78.8-2.07 0-2.86zM5.41 20L4 18.59l7.72-7.72 1.47 1.35L5.41 20z\"/>\n",
              "  </svg>\n",
              "      </button>\n",
              "      \n",
              "  <style>\n",
              "    .colab-df-container {\n",
              "      display:flex;\n",
              "      flex-wrap:wrap;\n",
              "      gap: 12px;\n",
              "    }\n",
              "\n",
              "    .colab-df-convert {\n",
              "      background-color: #E8F0FE;\n",
              "      border: none;\n",
              "      border-radius: 50%;\n",
              "      cursor: pointer;\n",
              "      display: none;\n",
              "      fill: #1967D2;\n",
              "      height: 32px;\n",
              "      padding: 0 0 0 0;\n",
              "      width: 32px;\n",
              "    }\n",
              "\n",
              "    .colab-df-convert:hover {\n",
              "      background-color: #E2EBFA;\n",
              "      box-shadow: 0px 1px 2px rgba(60, 64, 67, 0.3), 0px 1px 3px 1px rgba(60, 64, 67, 0.15);\n",
              "      fill: #174EA6;\n",
              "    }\n",
              "\n",
              "    [theme=dark] .colab-df-convert {\n",
              "      background-color: #3B4455;\n",
              "      fill: #D2E3FC;\n",
              "    }\n",
              "\n",
              "    [theme=dark] .colab-df-convert:hover {\n",
              "      background-color: #434B5C;\n",
              "      box-shadow: 0px 1px 3px 1px rgba(0, 0, 0, 0.15);\n",
              "      filter: drop-shadow(0px 1px 2px rgba(0, 0, 0, 0.3));\n",
              "      fill: #FFFFFF;\n",
              "    }\n",
              "  </style>\n",
              "\n",
              "      <script>\n",
              "        const buttonEl =\n",
              "          document.querySelector('#df-b7b502aa-2064-4205-a73e-08c9b84f978e button.colab-df-convert');\n",
              "        buttonEl.style.display =\n",
              "          google.colab.kernel.accessAllowed ? 'block' : 'none';\n",
              "\n",
              "        async function convertToInteractive(key) {\n",
              "          const element = document.querySelector('#df-b7b502aa-2064-4205-a73e-08c9b84f978e');\n",
              "          const dataTable =\n",
              "            await google.colab.kernel.invokeFunction('convertToInteractive',\n",
              "                                                     [key], {});\n",
              "          if (!dataTable) return;\n",
              "\n",
              "          const docLinkHtml = 'Like what you see? Visit the ' +\n",
              "            '<a target=\"_blank\" href=https://colab.research.google.com/notebooks/data_table.ipynb>data table notebook</a>'\n",
              "            + ' to learn more about interactive tables.';\n",
              "          element.innerHTML = '';\n",
              "          dataTable['output_type'] = 'display_data';\n",
              "          await google.colab.output.renderOutput(dataTable, element);\n",
              "          const docLink = document.createElement('div');\n",
              "          docLink.innerHTML = docLinkHtml;\n",
              "          element.appendChild(docLink);\n",
              "        }\n",
              "      </script>\n",
              "    </div>\n",
              "  </div>\n",
              "  "
            ]
          },
          "metadata": {}
        },
        {
          "output_type": "display_data",
          "data": {
            "text/plain": [
              "       best_month  worst_month  total_yield  ComparedToIndex    avg_Volume  \\\n",
              "count  246.000000   246.000000   246.000000       246.000000  2.460000e+02   \n",
              "mean     6.803419    -9.666655    -4.027929         4.229022  5.286156e+06   \n",
              "std      4.142886     4.691953    13.865699        13.865699  8.933476e+06   \n",
              "min    -35.681820   -35.681820   -43.875399       -35.618448 -9.990000e+02   \n",
              "25%      4.874897   -12.903153   -12.667127        -4.410176  1.864071e+06   \n",
              "50%      6.708873    -9.454481    -3.558029         4.698922  3.146631e+06   \n",
              "75%      8.906800    -6.177184     5.828578        14.085529  5.250518e+06   \n",
              "max     17.576911     0.028194    35.679781        43.936732  8.564579e+07   \n",
              "skew    -4.193270    -0.630349    -0.050561        -0.050561  6.476622e+00   \n",
              "kurt    44.320345     2.698183     0.137232         0.137232  4.923455e+01   \n",
              "\n",
              "       percDaysOfProfit        sma10        sma30        sma50         RSI  \\\n",
              "count        246.000000   246.000000   246.000000   246.000000  246.000000   \n",
              "mean           0.493518    96.725328    96.786889    96.782366   50.266468   \n",
              "std            0.059394   134.728288   125.532600   117.476352    7.196028   \n",
              "min            0.056000     9.676817    13.011460    12.990210    6.209353   \n",
              "25%            0.464000    44.983884    49.046520    52.882261   46.251575   \n",
              "50%            0.496000    71.980558    73.884079    74.076817   50.767306   \n",
              "75%            0.528000   105.091116   109.074253   108.525835   55.260566   \n",
              "max            0.616000  1852.319438  1733.245820  1611.587817   64.188848   \n",
              "skew          -2.446095     9.679007     9.657345     9.374449   -1.088267   \n",
              "kurt          15.963621   120.027813   120.030519   114.775596    4.808992   \n",
              "\n",
              "              std     bb_upper     bb_lower        Beta         ATR  \\\n",
              "count  246.000000   246.000000   246.000000  246.000000  246.000000   \n",
              "mean     6.276076   109.339041    84.234737    0.788292    2.824793   \n",
              "std      1.849222   125.857972   125.315582    0.090728    4.091269   \n",
              "min      0.000000    23.823633    -2.084092    0.563835    0.303436   \n",
              "25%      5.038635    61.498910    36.139547    0.723459    1.346589   \n",
              "50%      6.686222    86.449289    60.996306    0.782995    2.028957   \n",
              "75%      7.706270   124.074125    95.386144    0.853049    2.983120   \n",
              "max      8.885942  1745.240398  1721.251242    1.035666   54.713205   \n",
              "skew    -0.684731     9.573440     9.716394    0.100729    9.174700   \n",
              "kurt    -0.305040   118.586010   121.067337   -0.267340  108.347534   \n",
              "\n",
              "              adx  target  \n",
              "count  246.000000   246.0  \n",
              "mean    11.352075     0.0  \n",
              "std     64.848817     0.0  \n",
              "min   -999.000000     0.0  \n",
              "25%     11.821135     0.0  \n",
              "50%     15.018912     0.0  \n",
              "75%     18.726280     0.0  \n",
              "max     31.731795     0.0  \n",
              "skew   -15.561517     0.0  \n",
              "kurt   243.426673     0.0  "
            ],
            "text/html": [
              "\n",
              "  <div id=\"df-72d67a98-2ad3-4437-ba2e-13464e747d91\">\n",
              "    <div class=\"colab-df-container\">\n",
              "      <div>\n",
              "<style scoped>\n",
              "    .dataframe tbody tr th:only-of-type {\n",
              "        vertical-align: middle;\n",
              "    }\n",
              "\n",
              "    .dataframe tbody tr th {\n",
              "        vertical-align: top;\n",
              "    }\n",
              "\n",
              "    .dataframe thead th {\n",
              "        text-align: right;\n",
              "    }\n",
              "</style>\n",
              "<table border=\"1\" class=\"dataframe\">\n",
              "  <thead>\n",
              "    <tr style=\"text-align: right;\">\n",
              "      <th></th>\n",
              "      <th>best_month</th>\n",
              "      <th>worst_month</th>\n",
              "      <th>total_yield</th>\n",
              "      <th>ComparedToIndex</th>\n",
              "      <th>avg_Volume</th>\n",
              "      <th>percDaysOfProfit</th>\n",
              "      <th>sma10</th>\n",
              "      <th>sma30</th>\n",
              "      <th>sma50</th>\n",
              "      <th>RSI</th>\n",
              "      <th>std</th>\n",
              "      <th>bb_upper</th>\n",
              "      <th>bb_lower</th>\n",
              "      <th>Beta</th>\n",
              "      <th>ATR</th>\n",
              "      <th>adx</th>\n",
              "      <th>target</th>\n",
              "    </tr>\n",
              "  </thead>\n",
              "  <tbody>\n",
              "    <tr>\n",
              "      <th>count</th>\n",
              "      <td>246.000000</td>\n",
              "      <td>246.000000</td>\n",
              "      <td>246.000000</td>\n",
              "      <td>246.000000</td>\n",
              "      <td>2.460000e+02</td>\n",
              "      <td>246.000000</td>\n",
              "      <td>246.000000</td>\n",
              "      <td>246.000000</td>\n",
              "      <td>246.000000</td>\n",
              "      <td>246.000000</td>\n",
              "      <td>246.000000</td>\n",
              "      <td>246.000000</td>\n",
              "      <td>246.000000</td>\n",
              "      <td>246.000000</td>\n",
              "      <td>246.000000</td>\n",
              "      <td>246.000000</td>\n",
              "      <td>246.0</td>\n",
              "    </tr>\n",
              "    <tr>\n",
              "      <th>mean</th>\n",
              "      <td>6.803419</td>\n",
              "      <td>-9.666655</td>\n",
              "      <td>-4.027929</td>\n",
              "      <td>4.229022</td>\n",
              "      <td>5.286156e+06</td>\n",
              "      <td>0.493518</td>\n",
              "      <td>96.725328</td>\n",
              "      <td>96.786889</td>\n",
              "      <td>96.782366</td>\n",
              "      <td>50.266468</td>\n",
              "      <td>6.276076</td>\n",
              "      <td>109.339041</td>\n",
              "      <td>84.234737</td>\n",
              "      <td>0.788292</td>\n",
              "      <td>2.824793</td>\n",
              "      <td>11.352075</td>\n",
              "      <td>0.0</td>\n",
              "    </tr>\n",
              "    <tr>\n",
              "      <th>std</th>\n",
              "      <td>4.142886</td>\n",
              "      <td>4.691953</td>\n",
              "      <td>13.865699</td>\n",
              "      <td>13.865699</td>\n",
              "      <td>8.933476e+06</td>\n",
              "      <td>0.059394</td>\n",
              "      <td>134.728288</td>\n",
              "      <td>125.532600</td>\n",
              "      <td>117.476352</td>\n",
              "      <td>7.196028</td>\n",
              "      <td>1.849222</td>\n",
              "      <td>125.857972</td>\n",
              "      <td>125.315582</td>\n",
              "      <td>0.090728</td>\n",
              "      <td>4.091269</td>\n",
              "      <td>64.848817</td>\n",
              "      <td>0.0</td>\n",
              "    </tr>\n",
              "    <tr>\n",
              "      <th>min</th>\n",
              "      <td>-35.681820</td>\n",
              "      <td>-35.681820</td>\n",
              "      <td>-43.875399</td>\n",
              "      <td>-35.618448</td>\n",
              "      <td>-9.990000e+02</td>\n",
              "      <td>0.056000</td>\n",
              "      <td>9.676817</td>\n",
              "      <td>13.011460</td>\n",
              "      <td>12.990210</td>\n",
              "      <td>6.209353</td>\n",
              "      <td>0.000000</td>\n",
              "      <td>23.823633</td>\n",
              "      <td>-2.084092</td>\n",
              "      <td>0.563835</td>\n",
              "      <td>0.303436</td>\n",
              "      <td>-999.000000</td>\n",
              "      <td>0.0</td>\n",
              "    </tr>\n",
              "    <tr>\n",
              "      <th>25%</th>\n",
              "      <td>4.874897</td>\n",
              "      <td>-12.903153</td>\n",
              "      <td>-12.667127</td>\n",
              "      <td>-4.410176</td>\n",
              "      <td>1.864071e+06</td>\n",
              "      <td>0.464000</td>\n",
              "      <td>44.983884</td>\n",
              "      <td>49.046520</td>\n",
              "      <td>52.882261</td>\n",
              "      <td>46.251575</td>\n",
              "      <td>5.038635</td>\n",
              "      <td>61.498910</td>\n",
              "      <td>36.139547</td>\n",
              "      <td>0.723459</td>\n",
              "      <td>1.346589</td>\n",
              "      <td>11.821135</td>\n",
              "      <td>0.0</td>\n",
              "    </tr>\n",
              "    <tr>\n",
              "      <th>50%</th>\n",
              "      <td>6.708873</td>\n",
              "      <td>-9.454481</td>\n",
              "      <td>-3.558029</td>\n",
              "      <td>4.698922</td>\n",
              "      <td>3.146631e+06</td>\n",
              "      <td>0.496000</td>\n",
              "      <td>71.980558</td>\n",
              "      <td>73.884079</td>\n",
              "      <td>74.076817</td>\n",
              "      <td>50.767306</td>\n",
              "      <td>6.686222</td>\n",
              "      <td>86.449289</td>\n",
              "      <td>60.996306</td>\n",
              "      <td>0.782995</td>\n",
              "      <td>2.028957</td>\n",
              "      <td>15.018912</td>\n",
              "      <td>0.0</td>\n",
              "    </tr>\n",
              "    <tr>\n",
              "      <th>75%</th>\n",
              "      <td>8.906800</td>\n",
              "      <td>-6.177184</td>\n",
              "      <td>5.828578</td>\n",
              "      <td>14.085529</td>\n",
              "      <td>5.250518e+06</td>\n",
              "      <td>0.528000</td>\n",
              "      <td>105.091116</td>\n",
              "      <td>109.074253</td>\n",
              "      <td>108.525835</td>\n",
              "      <td>55.260566</td>\n",
              "      <td>7.706270</td>\n",
              "      <td>124.074125</td>\n",
              "      <td>95.386144</td>\n",
              "      <td>0.853049</td>\n",
              "      <td>2.983120</td>\n",
              "      <td>18.726280</td>\n",
              "      <td>0.0</td>\n",
              "    </tr>\n",
              "    <tr>\n",
              "      <th>max</th>\n",
              "      <td>17.576911</td>\n",
              "      <td>0.028194</td>\n",
              "      <td>35.679781</td>\n",
              "      <td>43.936732</td>\n",
              "      <td>8.564579e+07</td>\n",
              "      <td>0.616000</td>\n",
              "      <td>1852.319438</td>\n",
              "      <td>1733.245820</td>\n",
              "      <td>1611.587817</td>\n",
              "      <td>64.188848</td>\n",
              "      <td>8.885942</td>\n",
              "      <td>1745.240398</td>\n",
              "      <td>1721.251242</td>\n",
              "      <td>1.035666</td>\n",
              "      <td>54.713205</td>\n",
              "      <td>31.731795</td>\n",
              "      <td>0.0</td>\n",
              "    </tr>\n",
              "    <tr>\n",
              "      <th>skew</th>\n",
              "      <td>-4.193270</td>\n",
              "      <td>-0.630349</td>\n",
              "      <td>-0.050561</td>\n",
              "      <td>-0.050561</td>\n",
              "      <td>6.476622e+00</td>\n",
              "      <td>-2.446095</td>\n",
              "      <td>9.679007</td>\n",
              "      <td>9.657345</td>\n",
              "      <td>9.374449</td>\n",
              "      <td>-1.088267</td>\n",
              "      <td>-0.684731</td>\n",
              "      <td>9.573440</td>\n",
              "      <td>9.716394</td>\n",
              "      <td>0.100729</td>\n",
              "      <td>9.174700</td>\n",
              "      <td>-15.561517</td>\n",
              "      <td>0.0</td>\n",
              "    </tr>\n",
              "    <tr>\n",
              "      <th>kurt</th>\n",
              "      <td>44.320345</td>\n",
              "      <td>2.698183</td>\n",
              "      <td>0.137232</td>\n",
              "      <td>0.137232</td>\n",
              "      <td>4.923455e+01</td>\n",
              "      <td>15.963621</td>\n",
              "      <td>120.027813</td>\n",
              "      <td>120.030519</td>\n",
              "      <td>114.775596</td>\n",
              "      <td>4.808992</td>\n",
              "      <td>-0.305040</td>\n",
              "      <td>118.586010</td>\n",
              "      <td>121.067337</td>\n",
              "      <td>-0.267340</td>\n",
              "      <td>108.347534</td>\n",
              "      <td>243.426673</td>\n",
              "      <td>0.0</td>\n",
              "    </tr>\n",
              "  </tbody>\n",
              "</table>\n",
              "</div>\n",
              "      <button class=\"colab-df-convert\" onclick=\"convertToInteractive('df-72d67a98-2ad3-4437-ba2e-13464e747d91')\"\n",
              "              title=\"Convert this dataframe to an interactive table.\"\n",
              "              style=\"display:none;\">\n",
              "        \n",
              "  <svg xmlns=\"http://www.w3.org/2000/svg\" height=\"24px\"viewBox=\"0 0 24 24\"\n",
              "       width=\"24px\">\n",
              "    <path d=\"M0 0h24v24H0V0z\" fill=\"none\"/>\n",
              "    <path d=\"M18.56 5.44l.94 2.06.94-2.06 2.06-.94-2.06-.94-.94-2.06-.94 2.06-2.06.94zm-11 1L8.5 8.5l.94-2.06 2.06-.94-2.06-.94L8.5 2.5l-.94 2.06-2.06.94zm10 10l.94 2.06.94-2.06 2.06-.94-2.06-.94-.94-2.06-.94 2.06-2.06.94z\"/><path d=\"M17.41 7.96l-1.37-1.37c-.4-.4-.92-.59-1.43-.59-.52 0-1.04.2-1.43.59L10.3 9.45l-7.72 7.72c-.78.78-.78 2.05 0 2.83L4 21.41c.39.39.9.59 1.41.59.51 0 1.02-.2 1.41-.59l7.78-7.78 2.81-2.81c.8-.78.8-2.07 0-2.86zM5.41 20L4 18.59l7.72-7.72 1.47 1.35L5.41 20z\"/>\n",
              "  </svg>\n",
              "      </button>\n",
              "      \n",
              "  <style>\n",
              "    .colab-df-container {\n",
              "      display:flex;\n",
              "      flex-wrap:wrap;\n",
              "      gap: 12px;\n",
              "    }\n",
              "\n",
              "    .colab-df-convert {\n",
              "      background-color: #E8F0FE;\n",
              "      border: none;\n",
              "      border-radius: 50%;\n",
              "      cursor: pointer;\n",
              "      display: none;\n",
              "      fill: #1967D2;\n",
              "      height: 32px;\n",
              "      padding: 0 0 0 0;\n",
              "      width: 32px;\n",
              "    }\n",
              "\n",
              "    .colab-df-convert:hover {\n",
              "      background-color: #E2EBFA;\n",
              "      box-shadow: 0px 1px 2px rgba(60, 64, 67, 0.3), 0px 1px 3px 1px rgba(60, 64, 67, 0.15);\n",
              "      fill: #174EA6;\n",
              "    }\n",
              "\n",
              "    [theme=dark] .colab-df-convert {\n",
              "      background-color: #3B4455;\n",
              "      fill: #D2E3FC;\n",
              "    }\n",
              "\n",
              "    [theme=dark] .colab-df-convert:hover {\n",
              "      background-color: #434B5C;\n",
              "      box-shadow: 0px 1px 3px 1px rgba(0, 0, 0, 0.15);\n",
              "      filter: drop-shadow(0px 1px 2px rgba(0, 0, 0, 0.3));\n",
              "      fill: #FFFFFF;\n",
              "    }\n",
              "  </style>\n",
              "\n",
              "      <script>\n",
              "        const buttonEl =\n",
              "          document.querySelector('#df-72d67a98-2ad3-4437-ba2e-13464e747d91 button.colab-df-convert');\n",
              "        buttonEl.style.display =\n",
              "          google.colab.kernel.accessAllowed ? 'block' : 'none';\n",
              "\n",
              "        async function convertToInteractive(key) {\n",
              "          const element = document.querySelector('#df-72d67a98-2ad3-4437-ba2e-13464e747d91');\n",
              "          const dataTable =\n",
              "            await google.colab.kernel.invokeFunction('convertToInteractive',\n",
              "                                                     [key], {});\n",
              "          if (!dataTable) return;\n",
              "\n",
              "          const docLinkHtml = 'Like what you see? Visit the ' +\n",
              "            '<a target=\"_blank\" href=https://colab.research.google.com/notebooks/data_table.ipynb>data table notebook</a>'\n",
              "            + ' to learn more about interactive tables.';\n",
              "          element.innerHTML = '';\n",
              "          dataTable['output_type'] = 'display_data';\n",
              "          await google.colab.output.renderOutput(dataTable, element);\n",
              "          const docLink = document.createElement('div');\n",
              "          docLink.innerHTML = docLinkHtml;\n",
              "          element.appendChild(docLink);\n",
              "        }\n",
              "      </script>\n",
              "    </div>\n",
              "  </div>\n",
              "  "
            ]
          },
          "metadata": {}
        }
      ]
    },
    {
      "cell_type": "markdown",
      "metadata": {
        "id": "rWnV0wfMfZfu"
      },
      "source": [
        "#### Testing the model\n"
      ]
    },
    {
      "cell_type": "code",
      "execution_count": null,
      "metadata": {
        "id": "1EYZQ2cnfZfu"
      },
      "outputs": [],
      "source": [
        "new_test['predicted_y'] = clf.predict(new_test.drop('stock',axis=1))"
      ]
    },
    {
      "cell_type": "code",
      "source": [
        "#correct for std feature, need to make sure it good for others\n",
        "\n",
        "labelling_df['month_index'] = (labelling_df['t0'] / 30).astype(int)\n",
        "label_months = labelling_df.groupby(['stock','month_index']).apply(calculate_returns).reset_index()\n",
        "\n",
        "test_returns = label_months.groupby('stock')[0].std()\n",
        "label_threshold = test_returns.median()\n",
        "\n",
        "good_test = test_returns[test_returns > label_threshold].index\n",
        "\n",
        "new_test = (\n",
        "            new_test\n",
        "            .assign(actual_y=np.where(new_test['stock'].isin(good_test),1,0))\n",
        "            )"
      ],
      "metadata": {
        "id": "-rITiBYigl0X"
      },
      "execution_count": null,
      "outputs": []
    },
    {
      "cell_type": "code",
      "execution_count": null,
      "metadata": {
        "colab": {
          "base_uri": "https://localhost:8080/",
          "height": 887
        },
        "outputId": "d07bf931-d89f-4fb7-e9eb-fdbd4d7cba15",
        "id": "0SK86Q3gfZfv"
      },
      "outputs": [
        {
          "output_type": "stream",
          "name": "stdout",
          "text": [
            "\n",
            "        Train results:\n",
            "          True positive: 109,\n",
            "          True negative: 205,\n",
            "          False positive: 44,\n",
            "          False negative: 138\n",
            "\n",
            "          \n",
            "        \n"
          ]
        },
        {
          "output_type": "display_data",
          "data": {
            "text/plain": [
              "<Figure size 432x288 with 2 Axes>"
            ],
            "image/png": "[encoded data removed]"
          },
          "metadata": {
            "needs_background": "light"
          }
        },
        {
          "output_type": "stream",
          "name": "stdout",
          "text": [
            "              precision    recall  f1-score   support\n",
            "\n",
            "           0       0.60      0.82      0.69       249\n",
            "           1       0.71      0.44      0.55       247\n",
            "\n",
            "    accuracy                           0.63       496\n",
            "   macro avg       0.66      0.63      0.62       496\n",
            "weighted avg       0.65      0.63      0.62       496\n",
            "\n",
            "0.6322943596247338\n"
          ]
        },
        {
          "output_type": "display_data",
          "data": {
            "text/plain": [
              "<Figure size 432x288 with 1 Axes>"
            ],
            "image/png": "[encoded data removed]"
          },
          "metadata": {
            "needs_background": "light"
          }
        }
      ],
      "source": [
        "Confusion_and_Report(new_test)\n",
        "Get_ROC(new_test)"
      ]
    },
    {
      "cell_type": "markdown",
      "source": [
        "###1.3"
      ],
      "metadata": {
        "id": "s-k51Hha7Uur"
      }
    },
    {
      "cell_type": "code",
      "source": [
        "predicted = reg.predict(np.array(reg_df[feature_chosen]).reshape(-1,1))"
      ],
      "metadata": {
        "id": "nDnyZHEU7d4b"
      },
      "execution_count": null,
      "outputs": []
    },
    {
      "cell_type": "code",
      "source": [
        "df_using_pct_reg = (\n",
        "                    new_train\n",
        "                    .drop('target',axis=1)\n",
        "                    .assign(pct_change_reg=predicted.tolist())\n",
        "                    )\n",
        "\n",
        "threshold = df_using_pct_reg['pct_change_reg'].median()\n",
        "\n",
        "good = df_using_pct_reg.query('pct_change_reg > @threshold').index\n",
        "bad = df_using_pct_reg.query('pct_change_reg < @threshold').index\n",
        "\n",
        "df_using_pct_reg = df_using_pct_reg.assign(target=np.where(df_using_pct_reg['pct_change_reg']>threshold,1,0))"
      ],
      "metadata": {
        "id": "jevZ_LZD8ZOo"
      },
      "execution_count": null,
      "outputs": []
    },
    {
      "cell_type": "markdown",
      "source": [
        "Now we will do the stats analysis again"
      ],
      "metadata": {
        "id": "VIkRw6g8-i2B"
      }
    },
    {
      "cell_type": "code",
      "source": [
        "good_stocks = df_using_pct_reg[df_using_pct_reg['target'] == True]\n",
        "bad_stocks = df_using_pct_reg[df_using_pct_reg['target'] == False]\n",
        "\n",
        "from scipy.stats import mannwhitneyu\n",
        "for feature in df_using_pct_reg.drop(['stock','pct_change_reg','target'],axis=1).columns:\n",
        "    fig, (ax1, ax2) = plt.subplots(1, 2, figsize=(10, 5))\n",
        "\n",
        "    sns.boxplot(x='target', y=feature, data=df_using_pct_reg, palette='rocket',ax=ax1)\n",
        "    sns.histplot(x=feature, data=df_using_pct_reg,palette='rocket',hue='target',ax=ax2)\n",
        "\n",
        "    statistic, pvalue = mannwhitneyu(good_stocks[feature], bad_stocks[feature])\n",
        "    if pvalue < 0.05:\n",
        "        print(f'\\033[1mThere is a significant difference in the distribution of {feature} between the True and False groups (p-value = {pvalue:.3f})\\033[0m')\n",
        "    else:\n",
        "        print(f'\\033[1mThere is no significant difference in the distribution of {feature} between the True and False groups (p-value = {pvalue:.3f})\\033[0m')\n",
        "    print()\n",
        "\n",
        "    plt.show()\n",
        "    "
      ],
      "metadata": {
        "id": "3qYZoWBp-aZm",
        "colab": {
          "base_uri": "https://localhost:8080/",
          "height": 1000
        },
        "outputId": "68d9f04d-fcb8-41a8-8baa-72b14a70e130"
      },
      "execution_count": null,
      "outputs": [
        {
          "output_type": "stream",
          "name": "stdout",
          "text": [
            "\u001b[1mThere is a significant difference in the distribution of best_month between the True and False groups (p-value = 0.000)\u001b[0m\n",
            "\n"
          ]
        },
        {
          "output_type": "display_data",
          "data": {
            "text/plain": [
              "<Figure size 720x360 with 2 Axes>"
            ],
            "image/png": "[encoded data removed]"
          },
          "metadata": {
            "needs_background": "light"
          }
        },
        {
          "output_type": "stream",
          "name": "stdout",
          "text": [
            "\u001b[1mThere is a significant difference in the distribution of worst_month between the True and False groups (p-value = 0.000)\u001b[0m\n",
            "\n"
          ]
        },
        {
          "output_type": "display_data",
          "data": {
            "text/plain": [
              "<Figure size 720x360 with 2 Axes>"
            ],
            "image/png": "[encoded data removed]"
          },
          "metadata": {
            "needs_background": "light"
          }
        },
        {
          "output_type": "stream",
          "name": "stdout",
          "text": [
            "\u001b[1mThere is a significant difference in the distribution of total_yield between the True and False groups (p-value = 0.000)\u001b[0m\n",
            "\n"
          ]
        },
        {
          "output_type": "display_data",
          "data": {
            "text/plain": [
              "<Figure size 720x360 with 2 Axes>"
            ],
            "image/png": "[encoded data removed]"
          },
          "metadata": {
            "needs_background": "light"
          }
        },
        {
          "output_type": "stream",
          "name": "stdout",
          "text": [
            "\u001b[1mThere is a significant difference in the distribution of ComparedToIndex between the True and False groups (p-value = 0.000)\u001b[0m\n",
            "\n"
          ]
        },
        {
          "output_type": "display_data",
          "data": {
            "text/plain": [
              "<Figure size 720x360 with 2 Axes>"
            ],
            "image/png": "[encoded data removed]"
          },
          "metadata": {
            "needs_background": "light"
          }
        },
        {
          "output_type": "stream",
          "name": "stdout",
          "text": [
            "\u001b[1mThere is no significant difference in the distribution of avg_Volume between the True and False groups (p-value = 0.085)\u001b[0m\n",
            "\n"
          ]
        },
        {
          "output_type": "display_data",
          "data": {
            "text/plain": [
              "<Figure size 720x360 with 2 Axes>"
            ],
            "image/png": "[encoded data removed]"
          },
          "metadata": {
            "needs_background": "light"
          }
        },
        {
          "output_type": "stream",
          "name": "stdout",
          "text": [
            "\u001b[1mThere is a significant difference in the distribution of percDaysOfProfit between the True and False groups (p-value = 0.002)\u001b[0m\n",
            "\n"
          ]
        },
        {
          "output_type": "display_data",
          "data": {
            "text/plain": [
              "<Figure size 720x360 with 2 Axes>"
            ],
            "image/png": "[encoded data removed]"
          },
          "metadata": {
            "needs_background": "light"
          }
        },
        {
          "output_type": "stream",
          "name": "stdout",
          "text": [
            "\u001b[1mThere is no significant difference in the distribution of sma10 between the True and False groups (p-value = 0.426)\u001b[0m\n",
            "\n"
          ]
        },
        {
          "output_type": "display_data",
          "data": {
            "text/plain": [
              "<Figure size 720x360 with 2 Axes>"
            ],
            "image/png": "[encoded data removed]"
          },
          "metadata": {
            "needs_background": "light"
          }
        },
        {
          "output_type": "stream",
          "name": "stdout",
          "text": [
            "\u001b[1mThere is no significant difference in the distribution of sma30 between the True and False groups (p-value = 0.351)\u001b[0m\n",
            "\n"
          ]
        },
        {
          "output_type": "display_data",
          "data": {
            "text/plain": [
              "<Figure size 720x360 with 2 Axes>"
            ],
            "image/png": "[encoded data removed]"
          },
          "metadata": {
            "needs_background": "light"
          }
        },
        {
          "output_type": "stream",
          "name": "stdout",
          "text": [
            "\u001b[1mThere is no significant difference in the distribution of sma50 between the True and False groups (p-value = 0.251)\u001b[0m\n",
            "\n"
          ]
        },
        {
          "output_type": "display_data",
          "data": {
            "text/plain": [
              "<Figure size 720x360 with 2 Axes>"
            ],
            "image/png": "[encoded data removed]"
          },
          "metadata": {
            "needs_background": "light"
          }
        },
        {
          "output_type": "stream",
          "name": "stdout",
          "text": [
            "\u001b[1mThere is a significant difference in the distribution of RSI between the True and False groups (p-value = 0.004)\u001b[0m\n",
            "\n"
          ]
        },
        {
          "output_type": "display_data",
          "data": {
            "text/plain": [
              "<Figure size 720x360 with 2 Axes>"
            ],
            "image/png": "[encoded data removed]"
          },
          "metadata": {
            "needs_background": "light"
          }
        },
        {
          "output_type": "stream",
          "name": "stdout",
          "text": [
            "\u001b[1mThere is a significant difference in the distribution of std between the True and False groups (p-value = 0.000)\u001b[0m\n",
            "\n"
          ]
        },
        {
          "output_type": "display_data",
          "data": {
            "text/plain": [
              "<Figure size 720x360 with 2 Axes>"
            ],
            "image/png": "[encoded data removed]"
          },
          "metadata": {
            "needs_background": "light"
          }
        },
        {
          "output_type": "stream",
          "name": "stdout",
          "text": [
            "\u001b[1mThere is a significant difference in the distribution of bb_upper between the True and False groups (p-value = 0.000)\u001b[0m\n",
            "\n"
          ]
        },
        {
          "output_type": "display_data",
          "data": {
            "text/plain": [
              "<Figure size 720x360 with 2 Axes>"
            ],
            "image/png": "[encoded data removed]"
          },
          "metadata": {
            "needs_background": "light"
          }
        },
        {
          "output_type": "stream",
          "name": "stdout",
          "text": [
            "\u001b[1mThere is no significant difference in the distribution of bb_lower between the True and False groups (p-value = 0.072)\u001b[0m\n",
            "\n"
          ]
        },
        {
          "output_type": "display_data",
          "data": {
            "text/plain": [
              "<Figure size 720x360 with 2 Axes>"
            ],
            "image/png": "[encoded data removed]"
          },
          "metadata": {
            "needs_background": "light"
          }
        },
        {
          "output_type": "stream",
          "name": "stdout",
          "text": [
            "\u001b[1mThere is no significant difference in the distribution of Beta between the True and False groups (p-value = 0.827)\u001b[0m\n",
            "\n"
          ]
        },
        {
          "output_type": "display_data",
          "data": {
            "text/plain": [
              "<Figure size 720x360 with 2 Axes>"
            ],
            "image/png": "[encoded data removed]"
          },
          "metadata": {
            "needs_background": "light"
          }
        },
        {
          "output_type": "stream",
          "name": "stdout",
          "text": [
            "\u001b[1mThere is a significant difference in the distribution of ATR between the True and False groups (p-value = 0.000)\u001b[0m\n",
            "\n"
          ]
        },
        {
          "output_type": "display_data",
          "data": {
            "text/plain": [
              "<Figure size 720x360 with 2 Axes>"
            ],
            "image/png": "[encoded data removed]"
          },
          "metadata": {
            "needs_background": "light"
          }
        },
        {
          "output_type": "stream",
          "name": "stdout",
          "text": [
            "\u001b[1mThere is no significant difference in the distribution of adx between the True and False groups (p-value = 0.962)\u001b[0m\n",
            "\n"
          ]
        },
        {
          "output_type": "display_data",
          "data": {
            "text/plain": [
              "<Figure size 720x360 with 2 Axes>"
            ],
            "image/png": "[encoded data removed]"
          },
          "metadata": {
            "needs_background": "light"
          }
        }
      ]
    },
    {
      "cell_type": "code",
      "source": [
        "stats_good = (\n",
        "              good_stocks\n",
        "              .describe()\n",
        "              .T\n",
        "              .assign(skew = good_stocks.skew().tolist(),\n",
        "                       kurt = good_stocks.kurtosis().tolist())\n",
        "              .T\n",
        "              )\n",
        "stats_bad = (\n",
        "              bad_stocks\n",
        "             .describe()\n",
        "              .T\n",
        "              .assign(skew = bad_stocks.skew().tolist(),\n",
        "                       kurt = bad_stocks.kurtosis().tolist())\n",
        "              .T\n",
        "              )\n",
        "\n",
        "display(stats_good)\n",
        "display(stats_bad)"
      ],
      "metadata": {
        "id": "DDlBQB-C_ZWq",
        "colab": {
          "base_uri": "https://localhost:8080/",
          "height": 772
        },
        "outputId": "b66ad55b-4602-46ea-84c0-54bf260d0638"
      },
      "execution_count": null,
      "outputs": [
        {
          "output_type": "display_data",
          "data": {
            "text/plain": [
              "       best_month  worst_month  total_yield  ComparedToIndex    avg_Volume  \\\n",
              "count  246.000000   246.000000   246.000000       246.000000  2.460000e+02   \n",
              "mean    13.687687   -18.472048   -11.767191        -3.510241  5.327781e+06   \n",
              "std      6.766068     5.757157    14.841477        14.841477  9.419649e+06   \n",
              "min      1.112749   -45.096122   -50.898155       -42.641204  3.495257e+05   \n",
              "25%      9.430468   -21.089441   -21.605372       -13.348421  1.712501e+06   \n",
              "50%     12.600804   -17.893845   -10.574506        -2.317555  2.721312e+06   \n",
              "75%     15.916157   -14.323805    -1.954957         6.301994  4.641807e+06   \n",
              "max     53.404864    -5.503907    30.946239        39.203190  9.087958e+07   \n",
              "skew     2.347080    -1.412933    -0.102010        -0.102010  5.239098e+00   \n",
              "kurt     9.660260     3.893024    -0.061819        -0.061819  3.466932e+01   \n",
              "\n",
              "       percDaysOfProfit        sma10        sma30        sma50         RSI  \\\n",
              "count        246.000000   246.000000   246.000000   246.000000  246.000000   \n",
              "mean           0.483122   108.665386   108.745727   108.805653   48.620912   \n",
              "std            0.039611   172.195053   159.398049   148.217437    6.212578   \n",
              "min            0.384000     6.973777    10.996061    13.879911   30.875645   \n",
              "25%            0.456000    43.620889    48.141855    52.374417   44.021949   \n",
              "50%            0.480000    71.110542    73.407432    78.259535   49.515926   \n",
              "75%            0.512000   129.437950   130.491645   129.095262   53.293332   \n",
              "max            0.592000  2477.932736  2285.005408  2097.781820   62.277492   \n",
              "skew           0.190899    10.905966    10.667953    10.212162   -0.299293   \n",
              "kurt          -0.203425   147.297572   142.731889   133.286836   -0.627640   \n",
              "\n",
              "              std     bb_upper     bb_lower        Beta         ATR  \\\n",
              "count  246.000000   246.000000   246.000000  246.000000  246.000000   \n",
              "mean    12.148522   133.042770    84.448684    0.786300    3.685026   \n",
              "std      3.107711   158.979030   160.057511    0.089440    6.762633   \n",
              "min      8.888899    34.694049   -43.440962    0.403815    0.447716   \n",
              "25%     10.098875    75.301079    22.989845    0.724542    1.552212   \n",
              "50%     11.271043    97.810179    51.694371    0.782245    2.424696   \n",
              "75%     13.429298   153.867621   105.218759    0.841005    3.953616   \n",
              "max     32.130005  2306.396144  2263.614672    1.048238   97.793380   \n",
              "skew     2.509299    10.707911    10.578431   -0.022551   11.456287   \n",
              "kurt    10.262503   143.481217   141.124667    0.733272  155.120344   \n",
              "\n",
              "              adx  pct_change_reg  target  \n",
              "count  246.000000      246.000000   246.0  \n",
              "mean    11.372631       17.790088     1.0  \n",
              "std     64.839311        1.631534     0.0  \n",
              "min   -999.000000       16.078802     1.0  \n",
              "25%     12.177514       16.714033     1.0  \n",
              "50%     14.975068       17.329416     1.0  \n",
              "75%     18.149102       18.462489     1.0  \n",
              "max     31.934611       28.280271     1.0  \n",
              "skew   -15.569361        2.509299     0.0  \n",
              "kurt   243.591299       10.262503     0.0  "
            ],
            "text/html": [
              "\n",
              "  <div id=\"df-e00abbeb-8a0a-45c4-8aa5-63bc9948111e\">\n",
              "    <div class=\"colab-df-container\">\n",
              "      <div>\n",
              "<style scoped>\n",
              "    .dataframe tbody tr th:only-of-type {\n",
              "        vertical-align: middle;\n",
              "    }\n",
              "\n",
              "    .dataframe tbody tr th {\n",
              "        vertical-align: top;\n",
              "    }\n",
              "\n",
              "    .dataframe thead th {\n",
              "        text-align: right;\n",
              "    }\n",
              "</style>\n",
              "<table border=\"1\" class=\"dataframe\">\n",
              "  <thead>\n",
              "    <tr style=\"text-align: right;\">\n",
              "      <th></th>\n",
              "      <th>best_month</th>\n",
              "      <th>worst_month</th>\n",
              "      <th>total_yield</th>\n",
              "      <th>ComparedToIndex</th>\n",
              "      <th>avg_Volume</th>\n",
              "      <th>percDaysOfProfit</th>\n",
              "      <th>sma10</th>\n",
              "      <th>sma30</th>\n",
              "      <th>sma50</th>\n",
              "      <th>RSI</th>\n",
              "      <th>std</th>\n",
              "      <th>bb_upper</th>\n",
              "      <th>bb_lower</th>\n",
              "      <th>Beta</th>\n",
              "      <th>ATR</th>\n",
              "      <th>adx</th>\n",
              "      <th>pct_change_reg</th>\n",
              "      <th>target</th>\n",
              "    </tr>\n",
              "  </thead>\n",
              "  <tbody>\n",
              "    <tr>\n",
              "      <th>count</th>\n",
              "      <td>246.000000</td>\n",
              "      <td>246.000000</td>\n",
              "      <td>246.000000</td>\n",
              "      <td>246.000000</td>\n",
              "      <td>2.460000e+02</td>\n",
              "      <td>246.000000</td>\n",
              "      <td>246.000000</td>\n",
              "      <td>246.000000</td>\n",
              "      <td>246.000000</td>\n",
              "      <td>246.000000</td>\n",
              "      <td>246.000000</td>\n",
              "      <td>246.000000</td>\n",
              "      <td>246.000000</td>\n",
              "      <td>246.000000</td>\n",
              "      <td>246.000000</td>\n",
              "      <td>246.000000</td>\n",
              "      <td>246.000000</td>\n",
              "      <td>246.0</td>\n",
              "    </tr>\n",
              "    <tr>\n",
              "      <th>mean</th>\n",
              "      <td>13.687687</td>\n",
              "      <td>-18.472048</td>\n",
              "      <td>-11.767191</td>\n",
              "      <td>-3.510241</td>\n",
              "      <td>5.327781e+06</td>\n",
              "      <td>0.483122</td>\n",
              "      <td>108.665386</td>\n",
              "      <td>108.745727</td>\n",
              "      <td>108.805653</td>\n",
              "      <td>48.620912</td>\n",
              "      <td>12.148522</td>\n",
              "      <td>133.042770</td>\n",
              "      <td>84.448684</td>\n",
              "      <td>0.786300</td>\n",
              "      <td>3.685026</td>\n",
              "      <td>11.372631</td>\n",
              "      <td>17.790088</td>\n",
              "      <td>1.0</td>\n",
              "    </tr>\n",
              "    <tr>\n",
              "      <th>std</th>\n",
              "      <td>6.766068</td>\n",
              "      <td>5.757157</td>\n",
              "      <td>14.841477</td>\n",
              "      <td>14.841477</td>\n",
              "      <td>9.419649e+06</td>\n",
              "      <td>0.039611</td>\n",
              "      <td>172.195053</td>\n",
              "      <td>159.398049</td>\n",
              "      <td>148.217437</td>\n",
              "      <td>6.212578</td>\n",
              "      <td>3.107711</td>\n",
              "      <td>158.979030</td>\n",
              "      <td>160.057511</td>\n",
              "      <td>0.089440</td>\n",
              "      <td>6.762633</td>\n",
              "      <td>64.839311</td>\n",
              "      <td>1.631534</td>\n",
              "      <td>0.0</td>\n",
              "    </tr>\n",
              "    <tr>\n",
              "      <th>min</th>\n",
              "      <td>1.112749</td>\n",
              "      <td>-45.096122</td>\n",
              "      <td>-50.898155</td>\n",
              "      <td>-42.641204</td>\n",
              "      <td>3.495257e+05</td>\n",
              "      <td>0.384000</td>\n",
              "      <td>6.973777</td>\n",
              "      <td>10.996061</td>\n",
              "      <td>13.879911</td>\n",
              "      <td>30.875645</td>\n",
              "      <td>8.888899</td>\n",
              "      <td>34.694049</td>\n",
              "      <td>-43.440962</td>\n",
              "      <td>0.403815</td>\n",
              "      <td>0.447716</td>\n",
              "      <td>-999.000000</td>\n",
              "      <td>16.078802</td>\n",
              "      <td>1.0</td>\n",
              "    </tr>\n",
              "    <tr>\n",
              "      <th>25%</th>\n",
              "      <td>9.430468</td>\n",
              "      <td>-21.089441</td>\n",
              "      <td>-21.605372</td>\n",
              "      <td>-13.348421</td>\n",
              "      <td>1.712501e+06</td>\n",
              "      <td>0.456000</td>\n",
              "      <td>43.620889</td>\n",
              "      <td>48.141855</td>\n",
              "      <td>52.374417</td>\n",
              "      <td>44.021949</td>\n",
              "      <td>10.098875</td>\n",
              "      <td>75.301079</td>\n",
              "      <td>22.989845</td>\n",
              "      <td>0.724542</td>\n",
              "      <td>1.552212</td>\n",
              "      <td>12.177514</td>\n",
              "      <td>16.714033</td>\n",
              "      <td>1.0</td>\n",
              "    </tr>\n",
              "    <tr>\n",
              "      <th>50%</th>\n",
              "      <td>12.600804</td>\n",
              "      <td>-17.893845</td>\n",
              "      <td>-10.574506</td>\n",
              "      <td>-2.317555</td>\n",
              "      <td>2.721312e+06</td>\n",
              "      <td>0.480000</td>\n",
              "      <td>71.110542</td>\n",
              "      <td>73.407432</td>\n",
              "      <td>78.259535</td>\n",
              "      <td>49.515926</td>\n",
              "      <td>11.271043</td>\n",
              "      <td>97.810179</td>\n",
              "      <td>51.694371</td>\n",
              "      <td>0.782245</td>\n",
              "      <td>2.424696</td>\n",
              "      <td>14.975068</td>\n",
              "      <td>17.329416</td>\n",
              "      <td>1.0</td>\n",
              "    </tr>\n",
              "    <tr>\n",
              "      <th>75%</th>\n",
              "      <td>15.916157</td>\n",
              "      <td>-14.323805</td>\n",
              "      <td>-1.954957</td>\n",
              "      <td>6.301994</td>\n",
              "      <td>4.641807e+06</td>\n",
              "      <td>0.512000</td>\n",
              "      <td>129.437950</td>\n",
              "      <td>130.491645</td>\n",
              "      <td>129.095262</td>\n",
              "      <td>53.293332</td>\n",
              "      <td>13.429298</td>\n",
              "      <td>153.867621</td>\n",
              "      <td>105.218759</td>\n",
              "      <td>0.841005</td>\n",
              "      <td>3.953616</td>\n",
              "      <td>18.149102</td>\n",
              "      <td>18.462489</td>\n",
              "      <td>1.0</td>\n",
              "    </tr>\n",
              "    <tr>\n",
              "      <th>max</th>\n",
              "      <td>53.404864</td>\n",
              "      <td>-5.503907</td>\n",
              "      <td>30.946239</td>\n",
              "      <td>39.203190</td>\n",
              "      <td>9.087958e+07</td>\n",
              "      <td>0.592000</td>\n",
              "      <td>2477.932736</td>\n",
              "      <td>2285.005408</td>\n",
              "      <td>2097.781820</td>\n",
              "      <td>62.277492</td>\n",
              "      <td>32.130005</td>\n",
              "      <td>2306.396144</td>\n",
              "      <td>2263.614672</td>\n",
              "      <td>1.048238</td>\n",
              "      <td>97.793380</td>\n",
              "      <td>31.934611</td>\n",
              "      <td>28.280271</td>\n",
              "      <td>1.0</td>\n",
              "    </tr>\n",
              "    <tr>\n",
              "      <th>skew</th>\n",
              "      <td>2.347080</td>\n",
              "      <td>-1.412933</td>\n",
              "      <td>-0.102010</td>\n",
              "      <td>-0.102010</td>\n",
              "      <td>5.239098e+00</td>\n",
              "      <td>0.190899</td>\n",
              "      <td>10.905966</td>\n",
              "      <td>10.667953</td>\n",
              "      <td>10.212162</td>\n",
              "      <td>-0.299293</td>\n",
              "      <td>2.509299</td>\n",
              "      <td>10.707911</td>\n",
              "      <td>10.578431</td>\n",
              "      <td>-0.022551</td>\n",
              "      <td>11.456287</td>\n",
              "      <td>-15.569361</td>\n",
              "      <td>2.509299</td>\n",
              "      <td>0.0</td>\n",
              "    </tr>\n",
              "    <tr>\n",
              "      <th>kurt</th>\n",
              "      <td>9.660260</td>\n",
              "      <td>3.893024</td>\n",
              "      <td>-0.061819</td>\n",
              "      <td>-0.061819</td>\n",
              "      <td>3.466932e+01</td>\n",
              "      <td>-0.203425</td>\n",
              "      <td>147.297572</td>\n",
              "      <td>142.731889</td>\n",
              "      <td>133.286836</td>\n",
              "      <td>-0.627640</td>\n",
              "      <td>10.262503</td>\n",
              "      <td>143.481217</td>\n",
              "      <td>141.124667</td>\n",
              "      <td>0.733272</td>\n",
              "      <td>155.120344</td>\n",
              "      <td>243.591299</td>\n",
              "      <td>10.262503</td>\n",
              "      <td>0.0</td>\n",
              "    </tr>\n",
              "  </tbody>\n",
              "</table>\n",
              "</div>\n",
              "      <button class=\"colab-df-convert\" onclick=\"convertToInteractive('df-e00abbeb-8a0a-45c4-8aa5-63bc9948111e')\"\n",
              "              title=\"Convert this dataframe to an interactive table.\"\n",
              "              style=\"display:none;\">\n",
              "        \n",
              "  <svg xmlns=\"http://www.w3.org/2000/svg\" height=\"24px\"viewBox=\"0 0 24 24\"\n",
              "       width=\"24px\">\n",
              "    <path d=\"M0 0h24v24H0V0z\" fill=\"none\"/>\n",
              "    <path d=\"M18.56 5.44l.94 2.06.94-2.06 2.06-.94-2.06-.94-.94-2.06-.94 2.06-2.06.94zm-11 1L8.5 8.5l.94-2.06 2.06-.94-2.06-.94L8.5 2.5l-.94 2.06-2.06.94zm10 10l.94 2.06.94-2.06 2.06-.94-2.06-.94-.94-2.06-.94 2.06-2.06.94z\"/><path d=\"M17.41 7.96l-1.37-1.37c-.4-.4-.92-.59-1.43-.59-.52 0-1.04.2-1.43.59L10.3 9.45l-7.72 7.72c-.78.78-.78 2.05 0 2.83L4 21.41c.39.39.9.59 1.41.59.51 0 1.02-.2 1.41-.59l7.78-7.78 2.81-2.81c.8-.78.8-2.07 0-2.86zM5.41 20L4 18.59l7.72-7.72 1.47 1.35L5.41 20z\"/>\n",
              "  </svg>\n",
              "      </button>\n",
              "      \n",
              "  <style>\n",
              "    .colab-df-container {\n",
              "      display:flex;\n",
              "      flex-wrap:wrap;\n",
              "      gap: 12px;\n",
              "    }\n",
              "\n",
              "    .colab-df-convert {\n",
              "      background-color: #E8F0FE;\n",
              "      border: none;\n",
              "      border-radius: 50%;\n",
              "      cursor: pointer;\n",
              "      display: none;\n",
              "      fill: #1967D2;\n",
              "      height: 32px;\n",
              "      padding: 0 0 0 0;\n",
              "      width: 32px;\n",
              "    }\n",
              "\n",
              "    .colab-df-convert:hover {\n",
              "      background-color: #E2EBFA;\n",
              "      box-shadow: 0px 1px 2px rgba(60, 64, 67, 0.3), 0px 1px 3px 1px rgba(60, 64, 67, 0.15);\n",
              "      fill: #174EA6;\n",
              "    }\n",
              "\n",
              "    [theme=dark] .colab-df-convert {\n",
              "      background-color: #3B4455;\n",
              "      fill: #D2E3FC;\n",
              "    }\n",
              "\n",
              "    [theme=dark] .colab-df-convert:hover {\n",
              "      background-color: #434B5C;\n",
              "      box-shadow: 0px 1px 3px 1px rgba(0, 0, 0, 0.15);\n",
              "      filter: drop-shadow(0px 1px 2px rgba(0, 0, 0, 0.3));\n",
              "      fill: #FFFFFF;\n",
              "    }\n",
              "  </style>\n",
              "\n",
              "      <script>\n",
              "        const buttonEl =\n",
              "          document.querySelector('#df-e00abbeb-8a0a-45c4-8aa5-63bc9948111e button.colab-df-convert');\n",
              "        buttonEl.style.display =\n",
              "          google.colab.kernel.accessAllowed ? 'block' : 'none';\n",
              "\n",
              "        async function convertToInteractive(key) {\n",
              "          const element = document.querySelector('#df-e00abbeb-8a0a-45c4-8aa5-63bc9948111e');\n",
              "          const dataTable =\n",
              "            await google.colab.kernel.invokeFunction('convertToInteractive',\n",
              "                                                     [key], {});\n",
              "          if (!dataTable) return;\n",
              "\n",
              "          const docLinkHtml = 'Like what you see? Visit the ' +\n",
              "            '<a target=\"_blank\" href=https://colab.research.google.com/notebooks/data_table.ipynb>data table notebook</a>'\n",
              "            + ' to learn more about interactive tables.';\n",
              "          element.innerHTML = '';\n",
              "          dataTable['output_type'] = 'display_data';\n",
              "          await google.colab.output.renderOutput(dataTable, element);\n",
              "          const docLink = document.createElement('div');\n",
              "          docLink.innerHTML = docLinkHtml;\n",
              "          element.appendChild(docLink);\n",
              "        }\n",
              "      </script>\n",
              "    </div>\n",
              "  </div>\n",
              "  "
            ]
          },
          "metadata": {}
        },
        {
          "output_type": "display_data",
          "data": {
            "text/plain": [
              "       best_month  worst_month  total_yield  ComparedToIndex    avg_Volume  \\\n",
              "count  246.000000   246.000000   246.000000       246.000000  2.460000e+02   \n",
              "mean     6.803419    -9.666655    -4.027929         4.229022  5.286156e+06   \n",
              "std      4.142886     4.691953    13.865699        13.865699  8.933476e+06   \n",
              "min    -35.681820   -35.681820   -43.875399       -35.618448 -9.990000e+02   \n",
              "25%      4.874897   -12.903153   -12.667127        -4.410176  1.864071e+06   \n",
              "50%      6.708873    -9.454481    -3.558029         4.698922  3.146631e+06   \n",
              "75%      8.906800    -6.177184     5.828578        14.085529  5.250518e+06   \n",
              "max     17.576911     0.028194    35.679781        43.936732  8.564579e+07   \n",
              "skew    -4.193270    -0.630349    -0.050561        -0.050561  6.476622e+00   \n",
              "kurt    44.320345     2.698183     0.137232         0.137232  4.923455e+01   \n",
              "\n",
              "       percDaysOfProfit        sma10        sma30        sma50         RSI  \\\n",
              "count        246.000000   246.000000   246.000000   246.000000  246.000000   \n",
              "mean           0.493518    96.725328    96.786889    96.782366   50.266468   \n",
              "std            0.059394   134.728288   125.532600   117.476352    7.196028   \n",
              "min            0.056000     9.676817    13.011460    12.990210    6.209353   \n",
              "25%            0.464000    44.983884    49.046520    52.882261   46.251575   \n",
              "50%            0.496000    71.980558    73.884079    74.076817   50.767306   \n",
              "75%            0.528000   105.091116   109.074253   108.525835   55.260566   \n",
              "max            0.616000  1852.319438  1733.245820  1611.587817   64.188848   \n",
              "skew          -2.446095     9.679007     9.657345     9.374449   -1.088267   \n",
              "kurt          15.963621   120.027813   120.030519   114.775596    4.808992   \n",
              "\n",
              "              std     bb_upper     bb_lower        Beta         ATR  \\\n",
              "count  246.000000   246.000000   246.000000  246.000000  246.000000   \n",
              "mean     6.276076   109.339041    84.234737    0.788292    2.824793   \n",
              "std      1.849222   125.857972   125.315582    0.090728    4.091269   \n",
              "min      0.000000    23.823633    -2.084092    0.563835    0.303436   \n",
              "25%      5.038635    61.498910    36.139547    0.723459    1.346589   \n",
              "50%      6.686222    86.449289    60.996306    0.782995    2.028957   \n",
              "75%      7.706270   124.074125    95.386144    0.853049    2.983120   \n",
              "max      8.885942  1745.240398  1721.251242    1.035666   54.713205   \n",
              "skew    -0.684731     9.573440     9.716394    0.100729    9.174700   \n",
              "kurt    -0.305040   118.586010   121.067337   -0.267340  108.347534   \n",
              "\n",
              "              adx  pct_change_reg  target  \n",
              "count  246.000000      246.000000   246.0  \n",
              "mean    11.352075       14.707082     0.0  \n",
              "std     64.848817        0.970833     0.0  \n",
              "min   -999.000000       11.412172     0.0  \n",
              "25%     11.821135       14.057431     0.0  \n",
              "50%     15.018912       14.922407     0.0  \n",
              "75%     18.726280       15.457927     0.0  \n",
              "max     31.731795       16.077249     0.0  \n",
              "skew   -15.561517       -0.684731     0.0  \n",
              "kurt   243.426673       -0.305040     0.0  "
            ],
            "text/html": [
              "\n",
              "  <div id=\"df-6adb6772-7223-45cc-a98f-80df01f53a44\">\n",
              "    <div class=\"colab-df-container\">\n",
              "      <div>\n",
              "<style scoped>\n",
              "    .dataframe tbody tr th:only-of-type {\n",
              "        vertical-align: middle;\n",
              "    }\n",
              "\n",
              "    .dataframe tbody tr th {\n",
              "        vertical-align: top;\n",
              "    }\n",
              "\n",
              "    .dataframe thead th {\n",
              "        text-align: right;\n",
              "    }\n",
              "</style>\n",
              "<table border=\"1\" class=\"dataframe\">\n",
              "  <thead>\n",
              "    <tr style=\"text-align: right;\">\n",
              "      <th></th>\n",
              "      <th>best_month</th>\n",
              "      <th>worst_month</th>\n",
              "      <th>total_yield</th>\n",
              "      <th>ComparedToIndex</th>\n",
              "      <th>avg_Volume</th>\n",
              "      <th>percDaysOfProfit</th>\n",
              "      <th>sma10</th>\n",
              "      <th>sma30</th>\n",
              "      <th>sma50</th>\n",
              "      <th>RSI</th>\n",
              "      <th>std</th>\n",
              "      <th>bb_upper</th>\n",
              "      <th>bb_lower</th>\n",
              "      <th>Beta</th>\n",
              "      <th>ATR</th>\n",
              "      <th>adx</th>\n",
              "      <th>pct_change_reg</th>\n",
              "      <th>target</th>\n",
              "    </tr>\n",
              "  </thead>\n",
              "  <tbody>\n",
              "    <tr>\n",
              "      <th>count</th>\n",
              "      <td>246.000000</td>\n",
              "      <td>246.000000</td>\n",
              "      <td>246.000000</td>\n",
              "      <td>246.000000</td>\n",
              "      <td>2.460000e+02</td>\n",
              "      <td>246.000000</td>\n",
              "      <td>246.000000</td>\n",
              "      <td>246.000000</td>\n",
              "      <td>246.000000</td>\n",
              "      <td>246.000000</td>\n",
              "      <td>246.000000</td>\n",
              "      <td>246.000000</td>\n",
              "      <td>246.000000</td>\n",
              "      <td>246.000000</td>\n",
              "      <td>246.000000</td>\n",
              "      <td>246.000000</td>\n",
              "      <td>246.000000</td>\n",
              "      <td>246.0</td>\n",
              "    </tr>\n",
              "    <tr>\n",
              "      <th>mean</th>\n",
              "      <td>6.803419</td>\n",
              "      <td>-9.666655</td>\n",
              "      <td>-4.027929</td>\n",
              "      <td>4.229022</td>\n",
              "      <td>5.286156e+06</td>\n",
              "      <td>0.493518</td>\n",
              "      <td>96.725328</td>\n",
              "      <td>96.786889</td>\n",
              "      <td>96.782366</td>\n",
              "      <td>50.266468</td>\n",
              "      <td>6.276076</td>\n",
              "      <td>109.339041</td>\n",
              "      <td>84.234737</td>\n",
              "      <td>0.788292</td>\n",
              "      <td>2.824793</td>\n",
              "      <td>11.352075</td>\n",
              "      <td>14.707082</td>\n",
              "      <td>0.0</td>\n",
              "    </tr>\n",
              "    <tr>\n",
              "      <th>std</th>\n",
              "      <td>4.142886</td>\n",
              "      <td>4.691953</td>\n",
              "      <td>13.865699</td>\n",
              "      <td>13.865699</td>\n",
              "      <td>8.933476e+06</td>\n",
              "      <td>0.059394</td>\n",
              "      <td>134.728288</td>\n",
              "      <td>125.532600</td>\n",
              "      <td>117.476352</td>\n",
              "      <td>7.196028</td>\n",
              "      <td>1.849222</td>\n",
              "      <td>125.857972</td>\n",
              "      <td>125.315582</td>\n",
              "      <td>0.090728</td>\n",
              "      <td>4.091269</td>\n",
              "      <td>64.848817</td>\n",
              "      <td>0.970833</td>\n",
              "      <td>0.0</td>\n",
              "    </tr>\n",
              "    <tr>\n",
              "      <th>min</th>\n",
              "      <td>-35.681820</td>\n",
              "      <td>-35.681820</td>\n",
              "      <td>-43.875399</td>\n",
              "      <td>-35.618448</td>\n",
              "      <td>-9.990000e+02</td>\n",
              "      <td>0.056000</td>\n",
              "      <td>9.676817</td>\n",
              "      <td>13.011460</td>\n",
              "      <td>12.990210</td>\n",
              "      <td>6.209353</td>\n",
              "      <td>0.000000</td>\n",
              "      <td>23.823633</td>\n",
              "      <td>-2.084092</td>\n",
              "      <td>0.563835</td>\n",
              "      <td>0.303436</td>\n",
              "      <td>-999.000000</td>\n",
              "      <td>11.412172</td>\n",
              "      <td>0.0</td>\n",
              "    </tr>\n",
              "    <tr>\n",
              "      <th>25%</th>\n",
              "      <td>4.874897</td>\n",
              "      <td>-12.903153</td>\n",
              "      <td>-12.667127</td>\n",
              "      <td>-4.410176</td>\n",
              "      <td>1.864071e+06</td>\n",
              "      <td>0.464000</td>\n",
              "      <td>44.983884</td>\n",
              "      <td>49.046520</td>\n",
              "      <td>52.882261</td>\n",
              "      <td>46.251575</td>\n",
              "      <td>5.038635</td>\n",
              "      <td>61.498910</td>\n",
              "      <td>36.139547</td>\n",
              "      <td>0.723459</td>\n",
              "      <td>1.346589</td>\n",
              "      <td>11.821135</td>\n",
              "      <td>14.057431</td>\n",
              "      <td>0.0</td>\n",
              "    </tr>\n",
              "    <tr>\n",
              "      <th>50%</th>\n",
              "      <td>6.708873</td>\n",
              "      <td>-9.454481</td>\n",
              "      <td>-3.558029</td>\n",
              "      <td>4.698922</td>\n",
              "      <td>3.146631e+06</td>\n",
              "      <td>0.496000</td>\n",
              "      <td>71.980558</td>\n",
              "      <td>73.884079</td>\n",
              "      <td>74.076817</td>\n",
              "      <td>50.767306</td>\n",
              "      <td>6.686222</td>\n",
              "      <td>86.449289</td>\n",
              "      <td>60.996306</td>\n",
              "      <td>0.782995</td>\n",
              "      <td>2.028957</td>\n",
              "      <td>15.018912</td>\n",
              "      <td>14.922407</td>\n",
              "      <td>0.0</td>\n",
              "    </tr>\n",
              "    <tr>\n",
              "      <th>75%</th>\n",
              "      <td>8.906800</td>\n",
              "      <td>-6.177184</td>\n",
              "      <td>5.828578</td>\n",
              "      <td>14.085529</td>\n",
              "      <td>5.250518e+06</td>\n",
              "      <td>0.528000</td>\n",
              "      <td>105.091116</td>\n",
              "      <td>109.074253</td>\n",
              "      <td>108.525835</td>\n",
              "      <td>55.260566</td>\n",
              "      <td>7.706270</td>\n",
              "      <td>124.074125</td>\n",
              "      <td>95.386144</td>\n",
              "      <td>0.853049</td>\n",
              "      <td>2.983120</td>\n",
              "      <td>18.726280</td>\n",
              "      <td>15.457927</td>\n",
              "      <td>0.0</td>\n",
              "    </tr>\n",
              "    <tr>\n",
              "      <th>max</th>\n",
              "      <td>17.576911</td>\n",
              "      <td>0.028194</td>\n",
              "      <td>35.679781</td>\n",
              "      <td>43.936732</td>\n",
              "      <td>8.564579e+07</td>\n",
              "      <td>0.616000</td>\n",
              "      <td>1852.319438</td>\n",
              "      <td>1733.245820</td>\n",
              "      <td>1611.587817</td>\n",
              "      <td>64.188848</td>\n",
              "      <td>8.885942</td>\n",
              "      <td>1745.240398</td>\n",
              "      <td>1721.251242</td>\n",
              "      <td>1.035666</td>\n",
              "      <td>54.713205</td>\n",
              "      <td>31.731795</td>\n",
              "      <td>16.077249</td>\n",
              "      <td>0.0</td>\n",
              "    </tr>\n",
              "    <tr>\n",
              "      <th>skew</th>\n",
              "      <td>-4.193270</td>\n",
              "      <td>-0.630349</td>\n",
              "      <td>-0.050561</td>\n",
              "      <td>-0.050561</td>\n",
              "      <td>6.476622e+00</td>\n",
              "      <td>-2.446095</td>\n",
              "      <td>9.679007</td>\n",
              "      <td>9.657345</td>\n",
              "      <td>9.374449</td>\n",
              "      <td>-1.088267</td>\n",
              "      <td>-0.684731</td>\n",
              "      <td>9.573440</td>\n",
              "      <td>9.716394</td>\n",
              "      <td>0.100729</td>\n",
              "      <td>9.174700</td>\n",
              "      <td>-15.561517</td>\n",
              "      <td>-0.684731</td>\n",
              "      <td>0.0</td>\n",
              "    </tr>\n",
              "    <tr>\n",
              "      <th>kurt</th>\n",
              "      <td>44.320345</td>\n",
              "      <td>2.698183</td>\n",
              "      <td>0.137232</td>\n",
              "      <td>0.137232</td>\n",
              "      <td>4.923455e+01</td>\n",
              "      <td>15.963621</td>\n",
              "      <td>120.027813</td>\n",
              "      <td>120.030519</td>\n",
              "      <td>114.775596</td>\n",
              "      <td>4.808992</td>\n",
              "      <td>-0.305040</td>\n",
              "      <td>118.586010</td>\n",
              "      <td>121.067337</td>\n",
              "      <td>-0.267340</td>\n",
              "      <td>108.347534</td>\n",
              "      <td>243.426673</td>\n",
              "      <td>-0.305040</td>\n",
              "      <td>0.0</td>\n",
              "    </tr>\n",
              "  </tbody>\n",
              "</table>\n",
              "</div>\n",
              "      <button class=\"colab-df-convert\" onclick=\"convertToInteractive('df-6adb6772-7223-45cc-a98f-80df01f53a44')\"\n",
              "              title=\"Convert this dataframe to an interactive table.\"\n",
              "              style=\"display:none;\">\n",
              "        \n",
              "  <svg xmlns=\"http://www.w3.org/2000/svg\" height=\"24px\"viewBox=\"0 0 24 24\"\n",
              "       width=\"24px\">\n",
              "    <path d=\"M0 0h24v24H0V0z\" fill=\"none\"/>\n",
              "    <path d=\"M18.56 5.44l.94 2.06.94-2.06 2.06-.94-2.06-.94-.94-2.06-.94 2.06-2.06.94zm-11 1L8.5 8.5l.94-2.06 2.06-.94-2.06-.94L8.5 2.5l-.94 2.06-2.06.94zm10 10l.94 2.06.94-2.06 2.06-.94-2.06-.94-.94-2.06-.94 2.06-2.06.94z\"/><path d=\"M17.41 7.96l-1.37-1.37c-.4-.4-.92-.59-1.43-.59-.52 0-1.04.2-1.43.59L10.3 9.45l-7.72 7.72c-.78.78-.78 2.05 0 2.83L4 21.41c.39.39.9.59 1.41.59.51 0 1.02-.2 1.41-.59l7.78-7.78 2.81-2.81c.8-.78.8-2.07 0-2.86zM5.41 20L4 18.59l7.72-7.72 1.47 1.35L5.41 20z\"/>\n",
              "  </svg>\n",
              "      </button>\n",
              "      \n",
              "  <style>\n",
              "    .colab-df-container {\n",
              "      display:flex;\n",
              "      flex-wrap:wrap;\n",
              "      gap: 12px;\n",
              "    }\n",
              "\n",
              "    .colab-df-convert {\n",
              "      background-color: #E8F0FE;\n",
              "      border: none;\n",
              "      border-radius: 50%;\n",
              "      cursor: pointer;\n",
              "      display: none;\n",
              "      fill: #1967D2;\n",
              "      height: 32px;\n",
              "      padding: 0 0 0 0;\n",
              "      width: 32px;\n",
              "    }\n",
              "\n",
              "    .colab-df-convert:hover {\n",
              "      background-color: #E2EBFA;\n",
              "      box-shadow: 0px 1px 2px rgba(60, 64, 67, 0.3), 0px 1px 3px 1px rgba(60, 64, 67, 0.15);\n",
              "      fill: #174EA6;\n",
              "    }\n",
              "\n",
              "    [theme=dark] .colab-df-convert {\n",
              "      background-color: #3B4455;\n",
              "      fill: #D2E3FC;\n",
              "    }\n",
              "\n",
              "    [theme=dark] .colab-df-convert:hover {\n",
              "      background-color: #434B5C;\n",
              "      box-shadow: 0px 1px 3px 1px rgba(0, 0, 0, 0.15);\n",
              "      filter: drop-shadow(0px 1px 2px rgba(0, 0, 0, 0.3));\n",
              "      fill: #FFFFFF;\n",
              "    }\n",
              "  </style>\n",
              "\n",
              "      <script>\n",
              "        const buttonEl =\n",
              "          document.querySelector('#df-6adb6772-7223-45cc-a98f-80df01f53a44 button.colab-df-convert');\n",
              "        buttonEl.style.display =\n",
              "          google.colab.kernel.accessAllowed ? 'block' : 'none';\n",
              "\n",
              "        async function convertToInteractive(key) {\n",
              "          const element = document.querySelector('#df-6adb6772-7223-45cc-a98f-80df01f53a44');\n",
              "          const dataTable =\n",
              "            await google.colab.kernel.invokeFunction('convertToInteractive',\n",
              "                                                     [key], {});\n",
              "          if (!dataTable) return;\n",
              "\n",
              "          const docLinkHtml = 'Like what you see? Visit the ' +\n",
              "            '<a target=\"_blank\" href=https://colab.research.google.com/notebooks/data_table.ipynb>data table notebook</a>'\n",
              "            + ' to learn more about interactive tables.';\n",
              "          element.innerHTML = '';\n",
              "          dataTable['output_type'] = 'display_data';\n",
              "          await google.colab.output.renderOutput(dataTable, element);\n",
              "          const docLink = document.createElement('div');\n",
              "          docLink.innerHTML = docLinkHtml;\n",
              "          element.appendChild(docLink);\n",
              "        }\n",
              "      </script>\n",
              "    </div>\n",
              "  </div>\n",
              "  "
            ]
          },
          "metadata": {}
        }
      ]
    },
    {
      "cell_type": "markdown",
      "source": [
        "####Testing using the regression values"
      ],
      "metadata": {
        "id": "XjCSjbZU_zGz"
      }
    },
    {
      "cell_type": "code",
      "source": [
        "threshold = df_using_pct_reg['pct_change_reg'].median()\n",
        "\n",
        "good = (\n",
        "        df_using_pct_reg\n",
        "        .set_index('stock')\n",
        "        .query('pct_change_reg > @threshold')\n",
        "        .index)\n",
        "\n",
        "bad = (\n",
        "        df_using_pct_reg\n",
        "        .set_index('stock')\n",
        "        .query('pct_change_reg < @threshold')\n",
        "        .index)\n",
        "\n",
        "train_reg = (\n",
        "            df_using_pct_reg\n",
        "            .assign(target=np.where(df_using_pct_reg['stock'].isin(good),1,0))\n",
        "            )"
      ],
      "metadata": {
        "id": "hDTsjb2UAJnv"
      },
      "execution_count": null,
      "outputs": []
    },
    {
      "cell_type": "code",
      "source": [
        "clf = RandomForestClassifier(max_depth=3, random_state=0)\n",
        "clf.fit(train_reg.drop(['stock','pct_change_reg','target'],axis=1), train_reg['target'])\n",
        "reg_test = new_test.drop(['predicted_y','actual_y'],axis=1).copy()\n",
        "reg_test['predicted_y'] = clf.predict(reg_test.drop('stock',axis=1))"
      ],
      "metadata": {
        "id": "pFOfluLXAJnv"
      },
      "execution_count": null,
      "outputs": []
    },
    {
      "cell_type": "code",
      "source": [
        "label_df = (\n",
        "            add_label_to_labelling_df(labelling_df)\n",
        "            .reset_index()\n",
        "            .drop('pct_price_movement',axis=1)\n",
        "            )"
      ],
      "metadata": {
        "id": "RbvfJCd5E2qX"
      },
      "execution_count": null,
      "outputs": []
    },
    {
      "cell_type": "code",
      "source": [
        "reg_test = pd.merge(reg_test, label_df, on = 'stock',how='inner').rename(columns={'label':'actual_y'})"
      ],
      "metadata": {
        "id": "qlsVG6W4F39A"
      },
      "execution_count": null,
      "outputs": []
    },
    {
      "cell_type": "code",
      "execution_count": null,
      "metadata": {
        "colab": {
          "base_uri": "https://localhost:8080/",
          "height": 887
        },
        "outputId": "c0da48b6-a021-4ac9-c40f-5ac8b6346667",
        "id": "uHskmL-1Hvl-"
      },
      "outputs": [
        {
          "output_type": "stream",
          "name": "stdout",
          "text": [
            "\n",
            "        Train results:\n",
            "          True positive: 72,\n",
            "          True negative: 167,\n",
            "          False positive: 81,\n",
            "          False negative: 175\n",
            "\n",
            "          \n",
            "        \n"
          ]
        },
        {
          "output_type": "display_data",
          "data": {
            "text/plain": [
              "<Figure size 432x288 with 2 Axes>"
            ],
            "image/png": "[encoded data removed]"
          },
          "metadata": {
            "needs_background": "light"
          }
        },
        {
          "output_type": "stream",
          "name": "stdout",
          "text": [
            "              precision    recall  f1-score   support\n",
            "\n",
            "       False       0.49      0.67      0.57       248\n",
            "        True       0.47      0.29      0.36       247\n",
            "\n",
            "    accuracy                           0.48       495\n",
            "   macro avg       0.48      0.48      0.46       495\n",
            "weighted avg       0.48      0.48      0.46       495\n",
            "\n",
            "0.4824425362413478\n"
          ]
        },
        {
          "output_type": "display_data",
          "data": {
            "text/plain": [
              "<Figure size 432x288 with 1 Axes>"
            ],
            "image/png": "[encoded data removed]"
          },
          "metadata": {
            "needs_background": "light"
          }
        }
      ],
      "source": [
        "Confusion_and_Report(reg_test)\n",
        "Get_ROC(reg_test)"
      ]
    },
    {
      "cell_type": "markdown",
      "source": [
        "###1.4"
      ],
      "metadata": {
        "id": "1tM2U7deDX_X"
      }
    },
    {
      "cell_type": "markdown",
      "source": [
        "At first we tried to pick a feature which will enable us to find a plane where the two groups(good stocks/bad stocks) are easily seperated by a linear line, our closest feature to do so was the std of monthly revenue, even then it wasnt a good enough seperator for a couple of reasons, firstly there isnt any one 'simple' feature that can do so in the stocks domain due to its complexity nature, secondly we used a linear regressor which is limited in its nature, even if we found a good enough feature that was able transform the plane so its easy to seperate the two groups it doesnt mean that a linear line could do so(refer to example A).\n",
        "\n",
        "linear regression by itself isnt a strong enough model for predicting good or bad stocks but it can be used as a tool for feature creations of trend based features"
      ],
      "metadata": {
        "id": "KfAheTYUZe6A"
      }
    },
    {
      "cell_type": "code",
      "source": [
        "#@title example A\n",
        "np.random.seed(123)\n",
        "low_data = np.random.rand(10, 2) * 0.5\n",
        "mid_data = np.random.rand(10, 2) * 0.5 + 0.25\n",
        "high_data = np.random.rand(10, 2) * 0.5 + 0.5\n",
        "\n",
        "# Create the plot and scatter the data\n",
        "fig, ax = plt.subplots()\n",
        "ax.scatter(low_data[:, 0], low_data[:, 1], color='red')\n",
        "ax.scatter(mid_data[:, 0], mid_data[:, 1], color='blue')\n",
        "ax.scatter(high_data[:, 0], high_data[:, 1], color='red')\n",
        "\n",
        "# Add labels and titles\n",
        "ax.set_xlabel('X')\n",
        "ax.set_ylabel('Y')\n",
        "ax.set_title('Data Plot')\n",
        "\n",
        "# Show the plot\n",
        "plt.show()\n"
      ],
      "metadata": {
        "colab": {
          "base_uri": "https://localhost:8080/",
          "height": 295
        },
        "id": "XVt76US-bN-6",
        "outputId": "f09c4f34-746a-4efa-ee5d-81a6bf213941"
      },
      "execution_count": null,
      "outputs": [
        {
          "output_type": "display_data",
          "data": {
            "text/plain": [
              "<Figure size 432x288 with 1 Axes>"
            ],
            "image/png": "[encoded data removed]"
          },
          "metadata": {
            "needs_background": "light"
          }
        }
      ]
    },
    {
      "cell_type": "markdown",
      "source": [
        "So to sum up we tried to predict the stocks that will have high performance in the next 3 months. obviously we saw that the linear regression not predicting well by herself , i mean that the value of our feature not predicting well by linear regression the value of the change. but it can indicate a trend, so when we chose threshold we saw that the feature values can predict not bad in general which stocks are better."
      ],
      "metadata": {
        "id": "0b7zJclJZeWW"
      }
    },
    {
      "cell_type": "markdown",
      "source": [
        "##Second Assignment"
      ],
      "metadata": {
        "id": "vjjGENZy5PdQ"
      }
    },
    {
      "cell_type": "markdown",
      "source": [
        "####2.1\n",
        "\n",
        "the training df was done in the first part of this notebook has it was used for previous assignment"
      ],
      "metadata": {
        "id": "MZi0jDyaDgzp"
      }
    },
    {
      "cell_type": "markdown",
      "metadata": {
        "id": "0FMWNQ89q-ND"
      },
      "source": [
        "###2.2 - Testing 12 times\n",
        "\n"
      ]
    },
    {
      "cell_type": "code",
      "source": [
        "for i in range(0,12):\n",
        "  print(f'test iteration = {i+1}')\n",
        "  all_features_test_df,all_labelling_test_df = get_features_labels_from_full_dataframe(all_df,start_train_features_day = 270+30*i)\n",
        "  features_df2 = all_features_test_df.copy()\n",
        "  monthly_features_df2 = Get_Monthly(all_features_test_df)\n",
        "\n",
        "  test_df = (\n",
        "            calculate_featurs(all_features_test_df)\n",
        "            .reset_index()\n",
        "            .pipe(lambda d:Get_all_features(d, features_df2, monthly_features_df2))\n",
        "            .assign(predicted_y = lambda d:clf.predict(d.drop('stock',axis=1)))\n",
        "            .pipe(lambda d:add_actual(d,all_labelling_test_df))\n",
        "            )\n",
        "  Confusion_and_Report(test_df)"
      ],
      "metadata": {
        "id": "IG1D-ieey4gZ",
        "colab": {
          "base_uri": "https://localhost:8080/",
          "height": 1000
        },
        "outputId": "d653dcf2-2e73-407a-e555-bb3e81d9875b"
      },
      "execution_count": null,
      "outputs": [
        {
          "output_type": "stream",
          "name": "stdout",
          "text": [
            "test iteration = 1\n",
            "start_date:270 , end_ft_day: 450        start_lbl_date:451 , end_lbl_day: 541\n",
            "\n",
            "        Train results:\n",
            "          True positive: 100,\n",
            "          True negative: 195,\n",
            "          False positive: 53,\n",
            "          False negative: 148\n",
            "\n",
            "          \n",
            "        \n"
          ]
        },
        {
          "output_type": "display_data",
          "data": {
            "text/plain": [
              "<Figure size 432x288 with 2 Axes>"
            ],
            "image/png": "[encoded data removed]"
          },
          "metadata": {
            "needs_background": "light"
          }
        },
        {
          "output_type": "stream",
          "name": "stdout",
          "text": [
            "              precision    recall  f1-score   support\n",
            "\n",
            "         0.0       0.57      0.79      0.66       248\n",
            "         1.0       0.65      0.40      0.50       248\n",
            "\n",
            "    accuracy                           0.59       496\n",
            "   macro avg       0.61      0.59      0.58       496\n",
            "weighted avg       0.61      0.59      0.58       496\n",
            "\n",
            "test iteration = 2\n",
            "start_date:300 , end_ft_day: 480        start_lbl_date:481 , end_lbl_day: 571\n",
            "\n",
            "        Train results:\n",
            "          True positive: 78,\n",
            "          True negative: 180,\n",
            "          False positive: 68,\n",
            "          False negative: 170\n",
            "\n",
            "          \n",
            "        \n"
          ]
        },
        {
          "output_type": "display_data",
          "data": {
            "text/plain": [
              "<Figure size 432x288 with 2 Axes>"
            ],
            "image/png": "[encoded data removed]"
          },
          "metadata": {
            "needs_background": "light"
          }
        },
        {
          "output_type": "stream",
          "name": "stdout",
          "text": [
            "              precision    recall  f1-score   support\n",
            "\n",
            "         0.0       0.51      0.73      0.60       248\n",
            "         1.0       0.53      0.31      0.40       248\n",
            "\n",
            "    accuracy                           0.52       496\n",
            "   macro avg       0.52      0.52      0.50       496\n",
            "weighted avg       0.52      0.52      0.50       496\n",
            "\n",
            "test iteration = 3\n",
            "start_date:330 , end_ft_day: 510        start_lbl_date:511 , end_lbl_day: 601\n",
            "\n",
            "        Train results:\n",
            "          True positive: 48,\n",
            "          True negative: 173,\n",
            "          False positive: 75,\n",
            "          False negative: 200\n",
            "\n",
            "          \n",
            "        \n"
          ]
        },
        {
          "output_type": "display_data",
          "data": {
            "text/plain": [
              "<Figure size 432x288 with 2 Axes>"
            ],
            "image/png": "[encoded data removed]"
          },
          "metadata": {
            "needs_background": "light"
          }
        },
        {
          "output_type": "stream",
          "name": "stdout",
          "text": [
            "              precision    recall  f1-score   support\n",
            "\n",
            "         0.0       0.46      0.70      0.56       248\n",
            "         1.0       0.39      0.19      0.26       248\n",
            "\n",
            "    accuracy                           0.45       496\n",
            "   macro avg       0.43      0.45      0.41       496\n",
            "weighted avg       0.43      0.45      0.41       496\n",
            "\n",
            "test iteration = 4\n",
            "start_date:360 , end_ft_day: 540        start_lbl_date:541 , end_lbl_day: 631\n",
            "\n",
            "        Train results:\n",
            "          True positive: 42,\n",
            "          True negative: 167,\n",
            "          False positive: 82,\n",
            "          False negative: 205\n",
            "\n",
            "          \n",
            "        \n"
          ]
        },
        {
          "output_type": "display_data",
          "data": {
            "text/plain": [
              "<Figure size 432x288 with 2 Axes>"
            ],
            "image/png": "[encoded data removed]"
          },
          "metadata": {
            "needs_background": "light"
          }
        },
        {
          "output_type": "stream",
          "name": "stdout",
          "text": [
            "              precision    recall  f1-score   support\n",
            "\n",
            "         0.0       0.45      0.67      0.54       249\n",
            "         1.0       0.34      0.17      0.23       247\n",
            "\n",
            "    accuracy                           0.42       496\n",
            "   macro avg       0.39      0.42      0.38       496\n",
            "weighted avg       0.39      0.42      0.38       496\n",
            "\n",
            "test iteration = 5\n",
            "start_date:390 , end_ft_day: 570        start_lbl_date:571 , end_lbl_day: 661\n",
            "\n",
            "        Train results:\n",
            "          True positive: 34,\n",
            "          True negative: 158,\n",
            "          False positive: 91,\n",
            "          False negative: 213\n",
            "\n",
            "          \n",
            "        \n"
          ]
        },
        {
          "output_type": "display_data",
          "data": {
            "text/plain": [
              "<Figure size 432x288 with 2 Axes>"
            ],
            "image/png": "[encoded data removed]"
          },
          "metadata": {
            "needs_background": "light"
          }
        },
        {
          "output_type": "stream",
          "name": "stdout",
          "text": [
            "              precision    recall  f1-score   support\n",
            "\n",
            "         0.0       0.43      0.63      0.51       249\n",
            "         1.0       0.27      0.14      0.18       247\n",
            "\n",
            "    accuracy                           0.39       496\n",
            "   macro avg       0.35      0.39      0.35       496\n",
            "weighted avg       0.35      0.39      0.35       496\n",
            "\n",
            "test iteration = 6\n",
            "start_date:420 , end_ft_day: 600        start_lbl_date:601 , end_lbl_day: 691\n",
            "\n",
            "        Train results:\n",
            "          True positive: 37,\n",
            "          True negative: 211,\n",
            "          False positive: 38,\n",
            "          False negative: 210\n",
            "\n",
            "          \n",
            "        \n"
          ]
        },
        {
          "output_type": "display_data",
          "data": {
            "text/plain": [
              "<Figure size 432x288 with 2 Axes>"
            ],
            "image/png": "[encoded data removed]"
          },
          "metadata": {
            "needs_background": "light"
          }
        },
        {
          "output_type": "stream",
          "name": "stdout",
          "text": [
            "              precision    recall  f1-score   support\n",
            "\n",
            "         0.0       0.50      0.85      0.63       249\n",
            "         1.0       0.49      0.15      0.23       247\n",
            "\n",
            "    accuracy                           0.50       496\n",
            "   macro avg       0.50      0.50      0.43       496\n",
            "weighted avg       0.50      0.50      0.43       496\n",
            "\n",
            "test iteration = 7\n",
            "start_date:450 , end_ft_day: 630        start_lbl_date:631 , end_lbl_day: 721\n",
            "\n",
            "        Train results:\n",
            "          True positive: 243,\n",
            "          True negative: 33,\n",
            "          False positive: 216,\n",
            "          False negative: 6\n",
            "\n",
            "          \n",
            "        \n"
          ]
        },
        {
          "output_type": "display_data",
          "data": {
            "text/plain": [
              "<Figure size 432x288 with 2 Axes>"
            ],
            "image/png": "[encoded data removed]"
          },
          "metadata": {
            "needs_background": "light"
          }
        },
        {
          "output_type": "stream",
          "name": "stdout",
          "text": [
            "              precision    recall  f1-score   support\n",
            "\n",
            "         0.0       0.85      0.13      0.23       249\n",
            "         1.0       0.53      0.98      0.69       249\n",
            "\n",
            "    accuracy                           0.55       498\n",
            "   macro avg       0.69      0.55      0.46       498\n",
            "weighted avg       0.69      0.55      0.46       498\n",
            "\n",
            "test iteration = 8\n",
            "start_date:480 , end_ft_day: 660        start_lbl_date:661 , end_lbl_day: 751\n",
            "\n",
            "        Train results:\n",
            "          True positive: 243,\n",
            "          True negative: 11,\n",
            "          False positive: 238,\n",
            "          False negative: 6\n",
            "\n",
            "          \n",
            "        \n"
          ]
        },
        {
          "output_type": "display_data",
          "data": {
            "text/plain": [
              "<Figure size 432x288 with 2 Axes>"
            ],
            "image/png": "[encoded data removed]"
          },
          "metadata": {
            "needs_background": "light"
          }
        },
        {
          "output_type": "stream",
          "name": "stdout",
          "text": [
            "              precision    recall  f1-score   support\n",
            "\n",
            "         0.0       0.65      0.04      0.08       249\n",
            "         1.0       0.51      0.98      0.67       249\n",
            "\n",
            "    accuracy                           0.51       498\n",
            "   macro avg       0.58      0.51      0.37       498\n",
            "weighted avg       0.58      0.51      0.37       498\n",
            "\n",
            "test iteration = 9\n",
            "start_date:510 , end_ft_day: 690        start_lbl_date:691 , end_lbl_day: 781\n",
            "\n",
            "        Train results:\n",
            "          True positive: 241,\n",
            "          True negative: 10,\n",
            "          False positive: 239,\n",
            "          False negative: 8\n",
            "\n",
            "          \n",
            "        \n"
          ]
        },
        {
          "output_type": "display_data",
          "data": {
            "text/plain": [
              "<Figure size 432x288 with 2 Axes>"
            ],
            "image/png": "[encoded data removed]"
          },
          "metadata": {
            "needs_background": "light"
          }
        },
        {
          "output_type": "stream",
          "name": "stdout",
          "text": [
            "              precision    recall  f1-score   support\n",
            "\n",
            "         0.0       0.56      0.04      0.07       249\n",
            "         1.0       0.50      0.97      0.66       249\n",
            "\n",
            "    accuracy                           0.50       498\n",
            "   macro avg       0.53      0.50      0.37       498\n",
            "weighted avg       0.53      0.50      0.37       498\n",
            "\n",
            "test iteration = 10\n",
            "start_date:540 , end_ft_day: 720        start_lbl_date:721 , end_lbl_day: 811\n",
            "\n",
            "        Train results:\n",
            "          True positive: 239,\n",
            "          True negative: 8,\n",
            "          False positive: 241,\n",
            "          False negative: 10\n",
            "\n",
            "          \n",
            "        \n"
          ]
        },
        {
          "output_type": "display_data",
          "data": {
            "text/plain": [
              "<Figure size 432x288 with 2 Axes>"
            ],
            "image/png": "[encoded data removed]"
          },
          "metadata": {
            "needs_background": "light"
          }
        },
        {
          "output_type": "stream",
          "name": "stdout",
          "text": [
            "              precision    recall  f1-score   support\n",
            "\n",
            "         0.0       0.44      0.03      0.06       249\n",
            "         1.0       0.50      0.96      0.66       249\n",
            "\n",
            "    accuracy                           0.50       498\n",
            "   macro avg       0.47      0.50      0.36       498\n",
            "weighted avg       0.47      0.50      0.36       498\n",
            "\n",
            "test iteration = 11\n",
            "start_date:570 , end_ft_day: 750        start_lbl_date:751 , end_lbl_day: 841\n",
            "\n",
            "        Train results:\n",
            "          True positive: 244,\n",
            "          True negative: 10,\n",
            "          False positive: 239,\n",
            "          False negative: 5\n",
            "\n",
            "          \n",
            "        \n"
          ]
        },
        {
          "output_type": "display_data",
          "data": {
            "text/plain": [
              "<Figure size 432x288 with 2 Axes>"
            ],
            "image/png": "[encoded data removed]"
          },
          "metadata": {
            "needs_background": "light"
          }
        },
        {
          "output_type": "stream",
          "name": "stdout",
          "text": [
            "              precision    recall  f1-score   support\n",
            "\n",
            "         0.0       0.67      0.04      0.08       249\n",
            "         1.0       0.51      0.98      0.67       249\n",
            "\n",
            "    accuracy                           0.51       498\n",
            "   macro avg       0.59      0.51      0.37       498\n",
            "weighted avg       0.59      0.51      0.37       498\n",
            "\n",
            "test iteration = 12\n",
            "start_date:600 , end_ft_day: 780        start_lbl_date:781 , end_lbl_day: 871\n",
            "\n",
            "        Train results:\n",
            "          True positive: 245,\n",
            "          True negative: 12,\n",
            "          False positive: 237,\n",
            "          False negative: 4\n",
            "\n",
            "          \n",
            "        \n"
          ]
        },
        {
          "output_type": "display_data",
          "data": {
            "text/plain": [
              "<Figure size 432x288 with 2 Axes>"
            ],
            "image/png": "[encoded data removed]"
          },
          "metadata": {
            "needs_background": "light"
          }
        },
        {
          "output_type": "stream",
          "name": "stdout",
          "text": [
            "              precision    recall  f1-score   support\n",
            "\n",
            "         0.0       0.75      0.05      0.09       249\n",
            "         1.0       0.51      0.98      0.67       249\n",
            "\n",
            "    accuracy                           0.52       498\n",
            "   macro avg       0.63      0.52      0.38       498\n",
            "weighted avg       0.63      0.52      0.38       498\n",
            "\n"
          ]
        }
      ]
    },
    {
      "cell_type": "markdown",
      "source": [
        "###Picking porfolio"
      ],
      "metadata": {
        "id": "rylF9oi4qL0z"
      }
    },
    {
      "cell_type": "markdown",
      "source": [
        "wanting to get the best representation of the wanted date we will take the closet thing"
      ],
      "metadata": {
        "id": "Ad8fRmJdswgX"
      }
    },
    {
      "cell_type": "code",
      "source": [
        "all_features_train_df,all_labelling_train_df = get_features_labels_from_full_dataframe(all_df,start_train_features_day = int(all_df['t0'].max()-270-200) )\n",
        "features_df = all_features_train_df.copy()\n",
        "monthly_features_df = Get_Monthly(all_features_train_df)\n",
        "train_df = (\n",
        "            calculate_featurs(all_features_train_df)\n",
        "            .reset_index()\n",
        "            .pipe(lambda d:Get_all_features(d, features_df, monthly_features_df))\n",
        "            .pipe(lambda d:add_actual(d,all_labelling_train_df))\n",
        "            .rename(columns = {'actual_y':'target'})\n",
        "            )"
      ],
      "metadata": {
        "colab": {
          "base_uri": "https://localhost:8080/"
        },
        "id": "9oJbfl3VO1SI",
        "outputId": "fa1461a1-5a26-455b-bdf0-48d8c40813c8"
      },
      "execution_count": null,
      "outputs": [
        {
          "output_type": "stream",
          "name": "stdout",
          "text": [
            "start_date:1051 , end_ft_day: 1231        start_lbl_date:1232 , end_lbl_day: 1322\n"
          ]
        }
      ]
    },
    {
      "cell_type": "code",
      "source": [
        "clf = RandomForestClassifier(max_depth=3, random_state=0)\n",
        "clf.fit(train_df.drop(['stock', 'target'],axis=1), train_df['target'])"
      ],
      "metadata": {
        "id": "oH1I4QZOvXEU",
        "colab": {
          "base_uri": "https://localhost:8080/"
        },
        "outputId": "8d9651aa-c94a-405b-a9ac-39cb0c3bf4d1"
      },
      "execution_count": null,
      "outputs": [
        {
          "output_type": "execute_result",
          "data": {
            "text/plain": [
              "RandomForestClassifier(max_depth=3, random_state=0)"
            ]
          },
          "metadata": {},
          "execution_count": 232
        }
      ]
    },
    {
      "cell_type": "code",
      "source": [
        "all_features_test_df,all_labelling_train_df = get_features_labels_from_full_dataframe(all_df,start_train_features_day = 1320  )\n",
        "features_df2 = all_features_test_df.copy()\n",
        "monthly_features_df2 = Get_Monthly(all_features_test_df)\n",
        "\n",
        "test_df = (\n",
        "          calculate_featurs(all_features_test_df)\n",
        "          .reset_index()\n",
        "          .pipe(lambda d:Get_all_features(d, features_df2, monthly_features_df2))\n",
        "          )"
      ],
      "metadata": {
        "colab": {
          "base_uri": "https://localhost:8080/"
        },
        "id": "1rmLiitdv4_E",
        "outputId": "19851532-ca4f-4d71-c410-f41ab2eb27a1"
      },
      "execution_count": null,
      "outputs": [
        {
          "output_type": "stream",
          "name": "stdout",
          "text": [
            "start_date:1320 , end_ft_day: 1500        start_lbl_date:1501 , end_lbl_day: 1591\n"
          ]
        }
      ]
    },
    {
      "cell_type": "code",
      "source": [
        "all_df.sort_values('t0',ascending=False)"
      ],
      "metadata": {
        "colab": {
          "base_uri": "https://localhost:8080/",
          "height": 423
        },
        "id": "DI6cnxSuF1Hx",
        "outputId": "16d681e7-3feb-4600-f5fa-20ce255b4388"
      },
      "execution_count": null,
      "outputs": [
        {
          "output_type": "execute_result",
          "data": {
            "text/plain": [
              "             Date        Open        High         Low       Close      Volume  \\\n",
              "521660 2022-08-31  157.454675  158.699101  155.513375  155.831940   2149000.0   \n",
              "143349 2022-08-31  273.049648  274.836222  268.009236  269.396606   3120200.0   \n",
              "235223 2022-08-31  201.868954  201.868954  196.237156  196.883911   1869300.0   \n",
              "278273 2022-08-31   28.759241   29.106933   28.183063   28.232733   5695500.0   \n",
              "347463 2022-08-31   41.040433   41.323265   40.143159   40.338219  13755400.0   \n",
              "...           ...         ...         ...         ...         ...         ...   \n",
              "396711 2018-07-02   73.831568   75.000343   73.545337   75.000343   1389700.0   \n",
              "199871 2018-07-02  106.294437  106.950211  103.948779  104.873589    461700.0   \n",
              "9450   2018-07-02  127.033321  127.183883  125.546559  126.751022    662500.0   \n",
              "51450  2018-07-02   60.457115   61.061408   60.429225   60.670944   1026200.0   \n",
              "0      2018-07-02  165.049191  165.412283  163.402573  165.099854   1815500.0   \n",
              "\n",
              "       stock  Adj Close         dt      t0  \n",
              "521660   ZTS        NaN 2022-08-31  1521.0  \n",
              "143349   DHR        NaN 2022-08-31  1521.0  \n",
              "235223   HCA        NaN 2022-08-31  1521.0  \n",
              "278273  JNPR        NaN 2022-08-31  1521.0  \n",
              "347463   NEM        NaN 2022-08-31  1521.0  \n",
              "...      ...        ...        ...     ...  \n",
              "396711   PRU        NaN 2018-07-02     0.0  \n",
              "199871   FRT        NaN 2018-07-02     0.0  \n",
              "9450     AAP        NaN 2018-07-02     0.0  \n",
              "51450    AJG        NaN 2018-07-02     0.0  \n",
              "0        MMM        NaN 2018-07-02     0.0  \n",
              "\n",
              "[521661 rows x 10 columns]"
            ],
            "text/html": [
              "\n",
              "  <div id=\"df-721df9ef-2167-4395-b3e7-cc117c212efe\">\n",
              "    <div class=\"colab-df-container\">\n",
              "      <div>\n",
              "<style scoped>\n",
              "    .dataframe tbody tr th:only-of-type {\n",
              "        vertical-align: middle;\n",
              "    }\n",
              "\n",
              "    .dataframe tbody tr th {\n",
              "        vertical-align: top;\n",
              "    }\n",
              "\n",
              "    .dataframe thead th {\n",
              "        text-align: right;\n",
              "    }\n",
              "</style>\n",
              "<table border=\"1\" class=\"dataframe\">\n",
              "  <thead>\n",
              "    <tr style=\"text-align: right;\">\n",
              "      <th></th>\n",
              "      <th>Date</th>\n",
              "      <th>Open</th>\n",
              "      <th>High</th>\n",
              "      <th>Low</th>\n",
              "      <th>Close</th>\n",
              "      <th>Volume</th>\n",
              "      <th>stock</th>\n",
              "      <th>Adj Close</th>\n",
              "      <th>dt</th>\n",
              "      <th>t0</th>\n",
              "    </tr>\n",
              "  </thead>\n",
              "  <tbody>\n",
              "    <tr>\n",
              "      <th>521660</th>\n",
              "      <td>2022-08-31</td>\n",
              "      <td>157.454675</td>\n",
              "      <td>158.699101</td>\n",
              "      <td>155.513375</td>\n",
              "      <td>155.831940</td>\n",
              "      <td>2149000.0</td>\n",
              "      <td>ZTS</td>\n",
              "      <td>NaN</td>\n",
              "      <td>2022-08-31</td>\n",
              "      <td>1521.0</td>\n",
              "    </tr>\n",
              "    <tr>\n",
              "      <th>143349</th>\n",
              "      <td>2022-08-31</td>\n",
              "      <td>273.049648</td>\n",
              "      <td>274.836222</td>\n",
              "      <td>268.009236</td>\n",
              "      <td>269.396606</td>\n",
              "      <td>3120200.0</td>\n",
              "      <td>DHR</td>\n",
              "      <td>NaN</td>\n",
              "      <td>2022-08-31</td>\n",
              "      <td>1521.0</td>\n",
              "    </tr>\n",
              "    <tr>\n",
              "      <th>235223</th>\n",
              "      <td>2022-08-31</td>\n",
              "      <td>201.868954</td>\n",
              "      <td>201.868954</td>\n",
              "      <td>196.237156</td>\n",
              "      <td>196.883911</td>\n",
              "      <td>1869300.0</td>\n",
              "      <td>HCA</td>\n",
              "      <td>NaN</td>\n",
              "      <td>2022-08-31</td>\n",
              "      <td>1521.0</td>\n",
              "    </tr>\n",
              "    <tr>\n",
              "      <th>278273</th>\n",
              "      <td>2022-08-31</td>\n",
              "      <td>28.759241</td>\n",
              "      <td>29.106933</td>\n",
              "      <td>28.183063</td>\n",
              "      <td>28.232733</td>\n",
              "      <td>5695500.0</td>\n",
              "      <td>JNPR</td>\n",
              "      <td>NaN</td>\n",
              "      <td>2022-08-31</td>\n",
              "      <td>1521.0</td>\n",
              "    </tr>\n",
              "    <tr>\n",
              "      <th>347463</th>\n",
              "      <td>2022-08-31</td>\n",
              "      <td>41.040433</td>\n",
              "      <td>41.323265</td>\n",
              "      <td>40.143159</td>\n",
              "      <td>40.338219</td>\n",
              "      <td>13755400.0</td>\n",
              "      <td>NEM</td>\n",
              "      <td>NaN</td>\n",
              "      <td>2022-08-31</td>\n",
              "      <td>1521.0</td>\n",
              "    </tr>\n",
              "    <tr>\n",
              "      <th>...</th>\n",
              "      <td>...</td>\n",
              "      <td>...</td>\n",
              "      <td>...</td>\n",
              "      <td>...</td>\n",
              "      <td>...</td>\n",
              "      <td>...</td>\n",
              "      <td>...</td>\n",
              "      <td>...</td>\n",
              "      <td>...</td>\n",
              "      <td>...</td>\n",
              "    </tr>\n",
              "    <tr>\n",
              "      <th>396711</th>\n",
              "      <td>2018-07-02</td>\n",
              "      <td>73.831568</td>\n",
              "      <td>75.000343</td>\n",
              "      <td>73.545337</td>\n",
              "      <td>75.000343</td>\n",
              "      <td>1389700.0</td>\n",
              "      <td>PRU</td>\n",
              "      <td>NaN</td>\n",
              "      <td>2018-07-02</td>\n",
              "      <td>0.0</td>\n",
              "    </tr>\n",
              "    <tr>\n",
              "      <th>199871</th>\n",
              "      <td>2018-07-02</td>\n",
              "      <td>106.294437</td>\n",
              "      <td>106.950211</td>\n",
              "      <td>103.948779</td>\n",
              "      <td>104.873589</td>\n",
              "      <td>461700.0</td>\n",
              "      <td>FRT</td>\n",
              "      <td>NaN</td>\n",
              "      <td>2018-07-02</td>\n",
              "      <td>0.0</td>\n",
              "    </tr>\n",
              "    <tr>\n",
              "      <th>9450</th>\n",
              "      <td>2018-07-02</td>\n",
              "      <td>127.033321</td>\n",
              "      <td>127.183883</td>\n",
              "      <td>125.546559</td>\n",
              "      <td>126.751022</td>\n",
              "      <td>662500.0</td>\n",
              "      <td>AAP</td>\n",
              "      <td>NaN</td>\n",
              "      <td>2018-07-02</td>\n",
              "      <td>0.0</td>\n",
              "    </tr>\n",
              "    <tr>\n",
              "      <th>51450</th>\n",
              "      <td>2018-07-02</td>\n",
              "      <td>60.457115</td>\n",
              "      <td>61.061408</td>\n",
              "      <td>60.429225</td>\n",
              "      <td>60.670944</td>\n",
              "      <td>1026200.0</td>\n",
              "      <td>AJG</td>\n",
              "      <td>NaN</td>\n",
              "      <td>2018-07-02</td>\n",
              "      <td>0.0</td>\n",
              "    </tr>\n",
              "    <tr>\n",
              "      <th>0</th>\n",
              "      <td>2018-07-02</td>\n",
              "      <td>165.049191</td>\n",
              "      <td>165.412283</td>\n",
              "      <td>163.402573</td>\n",
              "      <td>165.099854</td>\n",
              "      <td>1815500.0</td>\n",
              "      <td>MMM</td>\n",
              "      <td>NaN</td>\n",
              "      <td>2018-07-02</td>\n",
              "      <td>0.0</td>\n",
              "    </tr>\n",
              "  </tbody>\n",
              "</table>\n",
              "<p>521661 rows × 10 columns</p>\n",
              "</div>\n",
              "      <button class=\"colab-df-convert\" onclick=\"convertToInteractive('df-721df9ef-2167-4395-b3e7-cc117c212efe')\"\n",
              "              title=\"Convert this dataframe to an interactive table.\"\n",
              "              style=\"display:none;\">\n",
              "        \n",
              "  <svg xmlns=\"http://www.w3.org/2000/svg\" height=\"24px\"viewBox=\"0 0 24 24\"\n",
              "       width=\"24px\">\n",
              "    <path d=\"M0 0h24v24H0V0z\" fill=\"none\"/>\n",
              "    <path d=\"M18.56 5.44l.94 2.06.94-2.06 2.06-.94-2.06-.94-.94-2.06-.94 2.06-2.06.94zm-11 1L8.5 8.5l.94-2.06 2.06-.94-2.06-.94L8.5 2.5l-.94 2.06-2.06.94zm10 10l.94 2.06.94-2.06 2.06-.94-2.06-.94-.94-2.06-.94 2.06-2.06.94z\"/><path d=\"M17.41 7.96l-1.37-1.37c-.4-.4-.92-.59-1.43-.59-.52 0-1.04.2-1.43.59L10.3 9.45l-7.72 7.72c-.78.78-.78 2.05 0 2.83L4 21.41c.39.39.9.59 1.41.59.51 0 1.02-.2 1.41-.59l7.78-7.78 2.81-2.81c.8-.78.8-2.07 0-2.86zM5.41 20L4 18.59l7.72-7.72 1.47 1.35L5.41 20z\"/>\n",
              "  </svg>\n",
              "      </button>\n",
              "      \n",
              "  <style>\n",
              "    .colab-df-container {\n",
              "      display:flex;\n",
              "      flex-wrap:wrap;\n",
              "      gap: 12px;\n",
              "    }\n",
              "\n",
              "    .colab-df-convert {\n",
              "      background-color: #E8F0FE;\n",
              "      border: none;\n",
              "      border-radius: 50%;\n",
              "      cursor: pointer;\n",
              "      display: none;\n",
              "      fill: #1967D2;\n",
              "      height: 32px;\n",
              "      padding: 0 0 0 0;\n",
              "      width: 32px;\n",
              "    }\n",
              "\n",
              "    .colab-df-convert:hover {\n",
              "      background-color: #E2EBFA;\n",
              "      box-shadow: 0px 1px 2px rgba(60, 64, 67, 0.3), 0px 1px 3px 1px rgba(60, 64, 67, 0.15);\n",
              "      fill: #174EA6;\n",
              "    }\n",
              "\n",
              "    [theme=dark] .colab-df-convert {\n",
              "      background-color: #3B4455;\n",
              "      fill: #D2E3FC;\n",
              "    }\n",
              "\n",
              "    [theme=dark] .colab-df-convert:hover {\n",
              "      background-color: #434B5C;\n",
              "      box-shadow: 0px 1px 3px 1px rgba(0, 0, 0, 0.15);\n",
              "      filter: drop-shadow(0px 1px 2px rgba(0, 0, 0, 0.3));\n",
              "      fill: #FFFFFF;\n",
              "    }\n",
              "  </style>\n",
              "\n",
              "      <script>\n",
              "        const buttonEl =\n",
              "          document.querySelector('#df-721df9ef-2167-4395-b3e7-cc117c212efe button.colab-df-convert');\n",
              "        buttonEl.style.display =\n",
              "          google.colab.kernel.accessAllowed ? 'block' : 'none';\n",
              "\n",
              "        async function convertToInteractive(key) {\n",
              "          const element = document.querySelector('#df-721df9ef-2167-4395-b3e7-cc117c212efe');\n",
              "          const dataTable =\n",
              "            await google.colab.kernel.invokeFunction('convertToInteractive',\n",
              "                                                     [key], {});\n",
              "          if (!dataTable) return;\n",
              "\n",
              "          const docLinkHtml = 'Like what you see? Visit the ' +\n",
              "            '<a target=\"_blank\" href=https://colab.research.google.com/notebooks/data_table.ipynb>data table notebook</a>'\n",
              "            + ' to learn more about interactive tables.';\n",
              "          element.innerHTML = '';\n",
              "          dataTable['output_type'] = 'display_data';\n",
              "          await google.colab.output.renderOutput(dataTable, element);\n",
              "          const docLink = document.createElement('div');\n",
              "          docLink.innerHTML = docLinkHtml;\n",
              "          element.appendChild(docLink);\n",
              "        }\n",
              "      </script>\n",
              "    </div>\n",
              "  </div>\n",
              "  "
            ]
          },
          "metadata": {},
          "execution_count": 234
        }
      ]
    },
    {
      "cell_type": "code",
      "source": [
        "X = test_df.drop(['stock'],axis=1).fillna(-999)\n",
        "\n",
        "y_pred_prob = clf.predict_proba(X)\n",
        "y_pred = clf.predict(X)\n",
        "\n",
        "\n",
        "Best_predictions = (\n",
        "                    test_df\n",
        "                    .assign(certainty = y_pred_prob.max(axis=1),\n",
        "                            target = y_pred )\n",
        "                    .pipe(lambda d:d.sort_values(by='certainty',ascending=False))\n",
        "                    )\n",
        "stocks_to_long = (\n",
        "                  Best_predictions\n",
        "                 .query('target == 1')\n",
        "                 .head(50)\n",
        "                 )\n",
        "\n",
        "stocks_to_short = (\n",
        "                  Best_predictions\n",
        "                 .query('target == 0')\n",
        "                 .head(50)\n",
        "                 ) \n",
        "\n",
        "long = list(stocks_to_long['stock'].values)\n",
        "long_df_features = features_df.query('stock in(@long)')\n"
      ],
      "metadata": {
        "id": "Z2DFcB-ty4MA"
      },
      "execution_count": null,
      "outputs": []
    },
    {
      "cell_type": "code",
      "source": [
        "def std_of_portfolio(features_df):\n",
        "  return  (\n",
        "            features_df\n",
        "            .groupby('stock')\n",
        "            .apply(lambda x: calculate_returns(x))\n",
        "            .reset_index()\n",
        "            [0]\n",
        "            .std()\n",
        "            )\n",
        "  \n",
        "def get_sharp(features_df,rf=0):\n",
        "  sumOpen = features_df.groupby('stock')['Open'].first().sum()\n",
        "  sumClose = features_df.groupby('stock')['Close'].last().sum()\n",
        "  IndexReturn = (100*(sumClose-sumOpen)/sumOpen).min()\n",
        "  return (IndexReturn - rf)/std_of_portfolio(features_df)\n",
        "\n",
        "def get_max_drawdown(features_df):\n",
        "  \n",
        "  # group the data by date and calculate the daily returns of the index\n",
        "  index_returns = features_df.groupby('dt').apply(lambda x: (x['Close'].sum() - x['Open'].sum()) / x['Open'].sum())\n",
        "\n",
        "  # calculate the cumulative returns of the index\n",
        "  cumulative_returns = (1 + index_returns).cumprod()\n",
        "  # calculate the running maximum of the cumulative returns\n",
        "  running_max = cumulative_returns.cummax()\n",
        "\n",
        "  # calculate the drawdown from the running maximum\n",
        "  drawdown = cumulative_returns / running_max - 1\n",
        "\n",
        "  # find the maximum drawdown of the index\n",
        "  max_drawdown = drawdown.min()\n",
        "  return max_drawdown\n"
      ],
      "metadata": {
        "id": "ua0AEAJbRpEW"
      },
      "execution_count": null,
      "outputs": []
    },
    {
      "cell_type": "code",
      "source": [
        "print(f'''\n",
        "      sharp of portfolio is : {get_sharp(long_df_features)}\n",
        "      Volatility of portfolio is :{std_of_portfolio(long_df_features)}\n",
        "      The maximum drawdown of the portfolio is : {get_max_drawdown(long_df_features):.2%}\n",
        "      \\n\n",
        "      sharp of the S&P 500 index is : {get_sharp(features_df2)}\n",
        "      Volatility of the S&P 500 index is:{std_of_portfolio(features_df2)}\n",
        "      The maximum drawdown of the S&P 500 index is {get_max_drawdown(features_df2):.2%}\")\n",
        "      '''\n",
        "      )"
      ],
      "metadata": {
        "colab": {
          "base_uri": "https://localhost:8080/"
        },
        "id": "dZkmTCkbTpGW",
        "outputId": "19feb941-edf9-49bd-c00b-60b156cc7a48"
      },
      "execution_count": null,
      "outputs": [
        {
          "output_type": "stream",
          "name": "stdout",
          "text": [
            "\n",
            "      sharp of portfolio is : 0.1216530727344285\n",
            "      Volatility of portfolio is :14.269580574547849\n",
            "      The maximum drawdown of the portfolio is : -9.13%\n",
            "      \n",
            "\n",
            "      sharp of the S&P 500 index is : -0.4164664950184792\n",
            "      Volatility of the S&P 500 index is:17.924643548301763\n",
            "      The maximum drawdown of the S&P 500 index is -13.41%\")\n",
            "      \n"
          ]
        }
      ]
    },
    {
      "cell_type": "markdown",
      "source": [
        "We picked training the model on the most recent time we could in respect to the required date(01/06/2022), we wanted to both the train and the test to have the same length of time for calculating features(6 months) and for the train we still had to have a labelling period so we could calibrate our model.\n",
        "\n",
        "this is all under the assumption of still using a basic RF model, in the real world we would try to use a more complex models such as LTSM or Transfomer based NN, which if was the case we would take a much larger period of training time"
      ],
      "metadata": {
        "id": "tRo9OoTIGckt"
      }
    },
    {
      "cell_type": "markdown",
      "source": [
        "##Third Assignment"
      ],
      "metadata": {
        "id": "Ix2vctL4D_Fj"
      }
    },
    {
      "cell_type": "code",
      "source": [
        "!pip3 install backtesting"
      ],
      "metadata": {
        "id": "f99juCQDfrIJ",
        "colab": {
          "base_uri": "https://localhost:8080/"
        },
        "outputId": "9825e53b-99a0-4731-a628-b08756c05f99"
      },
      "execution_count": null,
      "outputs": [
        {
          "output_type": "stream",
          "name": "stdout",
          "text": [
            "Looking in indexes: https://pypi.org/simple, https://us-python.pkg.dev/colab-wheels/public/simple/\n",
            "Requirement already satisfied: backtesting in /usr/local/lib/python3.8/dist-packages (0.3.3)\n",
            "Requirement already satisfied: pandas!=0.25.0,>=0.25.0 in /usr/local/lib/python3.8/dist-packages (from backtesting) (1.3.5)\n",
            "Requirement already satisfied: numpy>=1.17.0 in /usr/local/lib/python3.8/dist-packages (from backtesting) (1.21.6)\n",
            "Requirement already satisfied: bokeh>=1.4.0 in /usr/local/lib/python3.8/dist-packages (from backtesting) (2.3.3)\n",
            "Requirement already satisfied: python-dateutil>=2.1 in /usr/local/lib/python3.8/dist-packages (from bokeh>=1.4.0->backtesting) (2.8.2)\n",
            "Requirement already satisfied: packaging>=16.8 in /usr/local/lib/python3.8/dist-packages (from bokeh>=1.4.0->backtesting) (23.0)\n",
            "Requirement already satisfied: Jinja2>=2.9 in /usr/local/lib/python3.8/dist-packages (from bokeh>=1.4.0->backtesting) (2.11.3)\n",
            "Requirement already satisfied: PyYAML>=3.10 in /usr/local/lib/python3.8/dist-packages (from bokeh>=1.4.0->backtesting) (6.0)\n",
            "Requirement already satisfied: typing-extensions>=3.7.4 in /usr/local/lib/python3.8/dist-packages (from bokeh>=1.4.0->backtesting) (4.5.0)\n",
            "Requirement already satisfied: tornado>=5.1 in /usr/local/lib/python3.8/dist-packages (from bokeh>=1.4.0->backtesting) (6.2)\n",
            "Requirement already satisfied: pillow>=7.1.0 in /usr/local/lib/python3.8/dist-packages (from bokeh>=1.4.0->backtesting) (7.1.2)\n",
            "Requirement already satisfied: pytz>=2017.3 in /usr/local/lib/python3.8/dist-packages (from pandas!=0.25.0,>=0.25.0->backtesting) (2022.7.1)\n",
            "Requirement already satisfied: MarkupSafe>=0.23 in /usr/local/lib/python3.8/dist-packages (from Jinja2>=2.9->bokeh>=1.4.0->backtesting) (2.0.1)\n",
            "Requirement already satisfied: six>=1.5 in /usr/local/lib/python3.8/dist-packages (from python-dateutil>=2.1->bokeh>=1.4.0->backtesting) (1.15.0)\n"
          ]
        }
      ]
    },
    {
      "cell_type": "markdown",
      "source": [
        "###3.1+3.2"
      ],
      "metadata": {
        "id": "iIaAPztyEddS"
      }
    },
    {
      "cell_type": "code",
      "source": [
        "from backtesting import Backtest, Strategy\n",
        "from backtesting.lib import crossover\n",
        "\n",
        "from backtesting.test import SMA\n",
        "from statistics import mean, stdev\n",
        "\n",
        "class SmaCross(Strategy):\n",
        "    n1 = 10\n",
        "    n2 = 20\n",
        "\n",
        "    def init(self):\n",
        "        close = self.data.Close\n",
        "        self.sma1 = self.I(SMA, close, self.n1)\n",
        "        self.sma2 = self.I(SMA, close, self.n2)\n",
        "\n",
        "    def next(self):\n",
        "        if crossover(self.sma1, self.sma2):\n",
        "            self.buy()\n",
        "        elif crossover(self.sma2, self.sma1):\n",
        "            self.sell()\n",
        "            \n",
        "def calculate_portfolio_stats(all_data, portfolio_stocks):\n",
        "    '''\n",
        "        all_data: pd.Dataframe, needs to include all your required stocks OHLCV data.\n",
        "        portfolio_stocks: List[str], list of your required portfolio stock tickers for an example: ['AAPL','TSLA'].\n",
        "        must be consistentr with the stocks column uin your all_data df\n",
        "    '''\n",
        "    assert len(portfolio_stocks) > 1, 'portfolio must include more than one stock'\n",
        "    returns = []\n",
        "    sharpes = []\n",
        "    for stock in portfolio_stocks:\n",
        "        if stock == 'A': continue\n",
        "        stock_data = all_data[all_data['stock'] == stock][['Open', 'High', 'Low', 'Close', 'Volume']]\n",
        "        bt = Backtest(stock_data, SmaCross,\n",
        "                    cash=10000, commission=.002,\n",
        "                    exclusive_orders=True)\n",
        "        output = bt.run()\n",
        "        sharpes.append(output.loc['Sharpe Ratio'])\n",
        "        returns.append(output.loc['Return [%]'])\n",
        "    mean_returns = mean(returns)\n",
        "    returns_std = stdev(returns)\n",
        "    mean_sharpes = mean(sharpes)\n",
        "    sharpes_std = stdev(sharpes)\n",
        "    return mean_returns, returns_std, mean_sharpes, sharpes_std\n",
        "\n"
      ],
      "metadata": {
        "id": "frwC5poJgOmE"
      },
      "execution_count": null,
      "outputs": []
    },
    {
      "cell_type": "code",
      "source": [
        "results_df = pd.DataFrame([calculate_portfolio_stats(all_df.set_index('dt'),stocks_to_short['stock'].values.tolist()), calculate_portfolio_stats(all_df.set_index('dt'),stocks_to_long['stock'].values.tolist()), calculate_portfolio_stats(all_df.set_index('dt'),all_df.stock.unique().tolist())], \n",
        "                  columns=['mean_returns', 'returns_std', 'mean_sharpes', 'sharpes_std'],\n",
        "                  index=['short_portfolio', 'long_portfolio', 'entire_index'])\n",
        "results_df"
      ],
      "metadata": {
        "colab": {
          "base_uri": "https://localhost:8080/",
          "height": 143
        },
        "id": "V_JYnHZ-0g4h",
        "outputId": "2183c9c0-1bd4-4dd2-f7ad-2d5133dab511"
      },
      "execution_count": null,
      "outputs": [
        {
          "output_type": "execute_result",
          "data": {
            "text/plain": [
              "                 mean_returns  returns_std  mean_sharpes  sharpes_std\n",
              "short_portfolio      1.711490    78.315160      0.105826     0.178389\n",
              "long_portfolio     -34.221876    41.924843      0.036592     0.130008\n",
              "entire_index        -8.187407    78.901263      0.075192     0.159081"
            ],
            "text/html": [
              "\n",
              "  <div id=\"df-c3adda31-cdcf-4911-80e6-9a6d68ef4e0b\">\n",
              "    <div class=\"colab-df-container\">\n",
              "      <div>\n",
              "<style scoped>\n",
              "    .dataframe tbody tr th:only-of-type {\n",
              "        vertical-align: middle;\n",
              "    }\n",
              "\n",
              "    .dataframe tbody tr th {\n",
              "        vertical-align: top;\n",
              "    }\n",
              "\n",
              "    .dataframe thead th {\n",
              "        text-align: right;\n",
              "    }\n",
              "</style>\n",
              "<table border=\"1\" class=\"dataframe\">\n",
              "  <thead>\n",
              "    <tr style=\"text-align: right;\">\n",
              "      <th></th>\n",
              "      <th>mean_returns</th>\n",
              "      <th>returns_std</th>\n",
              "      <th>mean_sharpes</th>\n",
              "      <th>sharpes_std</th>\n",
              "    </tr>\n",
              "  </thead>\n",
              "  <tbody>\n",
              "    <tr>\n",
              "      <th>short_portfolio</th>\n",
              "      <td>1.711490</td>\n",
              "      <td>78.315160</td>\n",
              "      <td>0.105826</td>\n",
              "      <td>0.178389</td>\n",
              "    </tr>\n",
              "    <tr>\n",
              "      <th>long_portfolio</th>\n",
              "      <td>-34.221876</td>\n",
              "      <td>41.924843</td>\n",
              "      <td>0.036592</td>\n",
              "      <td>0.130008</td>\n",
              "    </tr>\n",
              "    <tr>\n",
              "      <th>entire_index</th>\n",
              "      <td>-8.187407</td>\n",
              "      <td>78.901263</td>\n",
              "      <td>0.075192</td>\n",
              "      <td>0.159081</td>\n",
              "    </tr>\n",
              "  </tbody>\n",
              "</table>\n",
              "</div>\n",
              "      <button class=\"colab-df-convert\" onclick=\"convertToInteractive('df-c3adda31-cdcf-4911-80e6-9a6d68ef4e0b')\"\n",
              "              title=\"Convert this dataframe to an interactive table.\"\n",
              "              style=\"display:none;\">\n",
              "        \n",
              "  <svg xmlns=\"http://www.w3.org/2000/svg\" height=\"24px\"viewBox=\"0 0 24 24\"\n",
              "       width=\"24px\">\n",
              "    <path d=\"M0 0h24v24H0V0z\" fill=\"none\"/>\n",
              "    <path d=\"M18.56 5.44l.94 2.06.94-2.06 2.06-.94-2.06-.94-.94-2.06-.94 2.06-2.06.94zm-11 1L8.5 8.5l.94-2.06 2.06-.94-2.06-.94L8.5 2.5l-.94 2.06-2.06.94zm10 10l.94 2.06.94-2.06 2.06-.94-2.06-.94-.94-2.06-.94 2.06-2.06.94z\"/><path d=\"M17.41 7.96l-1.37-1.37c-.4-.4-.92-.59-1.43-.59-.52 0-1.04.2-1.43.59L10.3 9.45l-7.72 7.72c-.78.78-.78 2.05 0 2.83L4 21.41c.39.39.9.59 1.41.59.51 0 1.02-.2 1.41-.59l7.78-7.78 2.81-2.81c.8-.78.8-2.07 0-2.86zM5.41 20L4 18.59l7.72-7.72 1.47 1.35L5.41 20z\"/>\n",
              "  </svg>\n",
              "      </button>\n",
              "      \n",
              "  <style>\n",
              "    .colab-df-container {\n",
              "      display:flex;\n",
              "      flex-wrap:wrap;\n",
              "      gap: 12px;\n",
              "    }\n",
              "\n",
              "    .colab-df-convert {\n",
              "      background-color: #E8F0FE;\n",
              "      border: none;\n",
              "      border-radius: 50%;\n",
              "      cursor: pointer;\n",
              "      display: none;\n",
              "      fill: #1967D2;\n",
              "      height: 32px;\n",
              "      padding: 0 0 0 0;\n",
              "      width: 32px;\n",
              "    }\n",
              "\n",
              "    .colab-df-convert:hover {\n",
              "      background-color: #E2EBFA;\n",
              "      box-shadow: 0px 1px 2px rgba(60, 64, 67, 0.3), 0px 1px 3px 1px rgba(60, 64, 67, 0.15);\n",
              "      fill: #174EA6;\n",
              "    }\n",
              "\n",
              "    [theme=dark] .colab-df-convert {\n",
              "      background-color: #3B4455;\n",
              "      fill: #D2E3FC;\n",
              "    }\n",
              "\n",
              "    [theme=dark] .colab-df-convert:hover {\n",
              "      background-color: #434B5C;\n",
              "      box-shadow: 0px 1px 3px 1px rgba(0, 0, 0, 0.15);\n",
              "      filter: drop-shadow(0px 1px 2px rgba(0, 0, 0, 0.3));\n",
              "      fill: #FFFFFF;\n",
              "    }\n",
              "  </style>\n",
              "\n",
              "      <script>\n",
              "        const buttonEl =\n",
              "          document.querySelector('#df-c3adda31-cdcf-4911-80e6-9a6d68ef4e0b button.colab-df-convert');\n",
              "        buttonEl.style.display =\n",
              "          google.colab.kernel.accessAllowed ? 'block' : 'none';\n",
              "\n",
              "        async function convertToInteractive(key) {\n",
              "          const element = document.querySelector('#df-c3adda31-cdcf-4911-80e6-9a6d68ef4e0b');\n",
              "          const dataTable =\n",
              "            await google.colab.kernel.invokeFunction('convertToInteractive',\n",
              "                                                     [key], {});\n",
              "          if (!dataTable) return;\n",
              "\n",
              "          const docLinkHtml = 'Like what you see? Visit the ' +\n",
              "            '<a target=\"_blank\" href=https://colab.research.google.com/notebooks/data_table.ipynb>data table notebook</a>'\n",
              "            + ' to learn more about interactive tables.';\n",
              "          element.innerHTML = '';\n",
              "          dataTable['output_type'] = 'display_data';\n",
              "          await google.colab.output.renderOutput(dataTable, element);\n",
              "          const docLink = document.createElement('div');\n",
              "          docLink.innerHTML = docLinkHtml;\n",
              "          element.appendChild(docLink);\n",
              "        }\n",
              "      </script>\n",
              "    </div>\n",
              "  </div>\n",
              "  "
            ]
          },
          "metadata": {},
          "execution_count": 240
        }
      ]
    }
  ],
  "metadata": {
    "colab": {
      "provenance": [],
      "toc_visible": true
    },
    "kernelspec": {
      "display_name": "base",
      "language": "python",
      "name": "python3"
    },
    "language_info": {
      "codemirror_mode": {
        "name": "ipython",
        "version": 3
      },
      "file_extension": ".py",
      "mimetype": "text/x-python",
      "name": "python",
      "nbconvert_exporter": "python",
      "pygments_lexer": "ipython3",
      "version": "3.8.8"
    },
    "vscode": {
      "interpreter": {
        "hash": "78c4b1059d86b0f43f50264347061d403dcf99ae0555c2267c83f17fb168e7ae"
      }
    }
  },
  "nbformat": 4,
  "nbformat_minor": 0
}